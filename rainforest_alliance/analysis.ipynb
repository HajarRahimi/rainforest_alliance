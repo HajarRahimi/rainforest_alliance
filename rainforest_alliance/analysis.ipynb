{
 "cells": [
  {
   "cell_type": "markdown",
   "metadata": {},
   "source": [
    "#### Get required libraries"
   ]
  },
  {
   "cell_type": "code",
   "execution_count": 7,
   "metadata": {},
   "outputs": [
    {
     "name": "stdout",
     "output_type": "stream",
     "text": [
      "Requirement already satisfied: pandas in c:\\users\\rahim\\appdata\\local\\programs\\python\\python312\\lib\\site-packages (2.1.4)\n",
      "Requirement already satisfied: numpy<2,>=1.26.0 in c:\\users\\rahim\\appdata\\local\\programs\\python\\python312\\lib\\site-packages (from pandas) (1.26.2)\n",
      "Requirement already satisfied: python-dateutil>=2.8.2 in c:\\users\\rahim\\appdata\\local\\programs\\python\\python312\\lib\\site-packages (from pandas) (2.8.2)\n",
      "Requirement already satisfied: pytz>=2020.1 in c:\\users\\rahim\\appdata\\local\\programs\\python\\python312\\lib\\site-packages (from pandas) (2023.3.post1)\n",
      "Requirement already satisfied: tzdata>=2022.1 in c:\\users\\rahim\\appdata\\local\\programs\\python\\python312\\lib\\site-packages (from pandas) (2023.4)\n",
      "Requirement already satisfied: six>=1.5 in c:\\users\\rahim\\appdata\\local\\programs\\python\\python312\\lib\\site-packages (from python-dateutil>=2.8.2->pandas) (1.16.0)\n"
     ]
    },
    {
     "name": "stderr",
     "output_type": "stream",
     "text": [
      "\n",
      "[notice] A new release of pip is available: 23.3.2 -> 24.0\n",
      "[notice] To update, run: python.exe -m pip install --upgrade pip\n"
     ]
    },
    {
     "name": "stdout",
     "output_type": "stream",
     "text": [
      "Requirement already satisfied: matplotlib in c:\\users\\rahim\\appdata\\local\\programs\\python\\python312\\lib\\site-packages (3.8.2)\n",
      "Requirement already satisfied: contourpy>=1.0.1 in c:\\users\\rahim\\appdata\\local\\programs\\python\\python312\\lib\\site-packages (from matplotlib) (1.2.0)\n",
      "Requirement already satisfied: cycler>=0.10 in c:\\users\\rahim\\appdata\\local\\programs\\python\\python312\\lib\\site-packages (from matplotlib) (0.12.1)\n",
      "Requirement already satisfied: fonttools>=4.22.0 in c:\\users\\rahim\\appdata\\local\\programs\\python\\python312\\lib\\site-packages (from matplotlib) (4.47.0)\n",
      "Requirement already satisfied: kiwisolver>=1.3.1 in c:\\users\\rahim\\appdata\\local\\programs\\python\\python312\\lib\\site-packages (from matplotlib) (1.4.5)\n",
      "Requirement already satisfied: numpy<2,>=1.21 in c:\\users\\rahim\\appdata\\local\\programs\\python\\python312\\lib\\site-packages (from matplotlib) (1.26.2)\n",
      "Requirement already satisfied: packaging>=20.0 in c:\\users\\rahim\\appdata\\local\\programs\\python\\python312\\lib\\site-packages (from matplotlib) (23.2)\n",
      "Requirement already satisfied: pillow>=8 in c:\\users\\rahim\\appdata\\local\\programs\\python\\python312\\lib\\site-packages (from matplotlib) (10.2.0)\n",
      "Requirement already satisfied: pyparsing>=2.3.1 in c:\\users\\rahim\\appdata\\local\\programs\\python\\python312\\lib\\site-packages (from matplotlib) (3.1.1)\n",
      "Requirement already satisfied: python-dateutil>=2.7 in c:\\users\\rahim\\appdata\\local\\programs\\python\\python312\\lib\\site-packages (from matplotlib) (2.8.2)\n",
      "Requirement already satisfied: six>=1.5 in c:\\users\\rahim\\appdata\\local\\programs\\python\\python312\\lib\\site-packages (from python-dateutil>=2.7->matplotlib) (1.16.0)\n"
     ]
    },
    {
     "name": "stderr",
     "output_type": "stream",
     "text": [
      "\n",
      "[notice] A new release of pip is available: 23.3.2 -> 24.0\n",
      "[notice] To update, run: python.exe -m pip install --upgrade pip\n"
     ]
    },
    {
     "name": "stdout",
     "output_type": "stream",
     "text": [
      "Requirement already satisfied: numpy in c:\\users\\rahim\\appdata\\local\\programs\\python\\python312\\lib\\site-packages (1.26.2)\n"
     ]
    },
    {
     "name": "stderr",
     "output_type": "stream",
     "text": [
      "\n",
      "[notice] A new release of pip is available: 23.3.2 -> 24.0\n",
      "[notice] To update, run: python.exe -m pip install --upgrade pip\n"
     ]
    },
    {
     "name": "stdout",
     "output_type": "stream",
     "text": [
      "Collecting scikit-learn\n",
      "  Downloading scikit_learn-1.4.2-cp312-cp312-win_amd64.whl.metadata (11 kB)\n",
      "Requirement already satisfied: numpy>=1.19.5 in c:\\users\\rahim\\appdata\\local\\programs\\python\\python312\\lib\\site-packages (from scikit-learn) (1.26.2)\n",
      "Collecting scipy>=1.6.0 (from scikit-learn)\n",
      "  Downloading scipy-1.13.0-cp312-cp312-win_amd64.whl.metadata (60 kB)\n",
      "     ---------------------------------------- 0.0/60.6 kB ? eta -:--:--\n",
      "     ------ --------------------------------- 10.2/60.6 kB ? eta -:--:--\n",
      "     ------------------------- ------------ 41.0/60.6 kB 653.6 kB/s eta 0:00:01\n",
      "     -------------------------------------- 60.6/60.6 kB 645.4 kB/s eta 0:00:00\n",
      "Collecting joblib>=1.2.0 (from scikit-learn)\n",
      "  Downloading joblib-1.4.0-py3-none-any.whl.metadata (5.4 kB)\n",
      "Collecting threadpoolctl>=2.0.0 (from scikit-learn)\n",
      "  Downloading threadpoolctl-3.5.0-py3-none-any.whl.metadata (13 kB)\n",
      "Downloading scikit_learn-1.4.2-cp312-cp312-win_amd64.whl (10.6 MB)\n",
      "   ---------------------------------------- 0.0/10.6 MB ? eta -:--:--\n",
      "    --------------------------------------- 0.2/10.6 MB 4.8 MB/s eta 0:00:03\n",
      "   --- ------------------------------------ 1.0/10.6 MB 12.6 MB/s eta 0:00:01\n",
      "   -------- ------------------------------- 2.2/10.6 MB 17.7 MB/s eta 0:00:01\n",
      "   ------------- -------------------------- 3.6/10.6 MB 19.0 MB/s eta 0:00:01\n",
      "   ------------------ --------------------- 4.8/10.6 MB 21.9 MB/s eta 0:00:01\n",
      "   ---------------------- ----------------- 5.9/10.6 MB 22.2 MB/s eta 0:00:01\n",
      "   ------------------------ --------------- 6.4/10.6 MB 20.4 MB/s eta 0:00:01\n",
      "   ---------------------------- ----------- 7.6/10.6 MB 21.0 MB/s eta 0:00:01\n",
      "   --------------------------------- ------ 8.8/10.6 MB 21.5 MB/s eta 0:00:01\n",
      "   ------------------------------------- -- 10.0/10.6 MB 21.9 MB/s eta 0:00:01\n",
      "   ---------------------------------------  10.6/10.6 MB 23.4 MB/s eta 0:00:01\n",
      "   ---------------------------------------- 10.6/10.6 MB 21.8 MB/s eta 0:00:00\n",
      "Downloading joblib-1.4.0-py3-none-any.whl (301 kB)\n",
      "   ---------------------------------------- 0.0/301.2 kB ? eta -:--:--\n",
      "   --------------------------------------- 301.2/301.2 kB 19.4 MB/s eta 0:00:00\n",
      "Downloading scipy-1.13.0-cp312-cp312-win_amd64.whl (45.9 MB)\n",
      "   ---------------------------------------- 0.0/45.9 MB ? eta -:--:--\n",
      "    --------------------------------------- 1.0/45.9 MB 20.7 MB/s eta 0:00:03\n",
      "   -- ------------------------------------- 2.4/45.9 MB 25.1 MB/s eta 0:00:02\n",
      "   --- ------------------------------------ 3.6/45.9 MB 25.9 MB/s eta 0:00:02\n",
      "   ---- ----------------------------------- 4.8/45.9 MB 27.9 MB/s eta 0:00:02\n",
      "   ----- ---------------------------------- 6.3/45.9 MB 26.9 MB/s eta 0:00:02\n",
      "   ------ --------------------------------- 7.1/45.9 MB 26.7 MB/s eta 0:00:02\n",
      "   ------ --------------------------------- 7.9/45.9 MB 25.4 MB/s eta 0:00:02\n",
      "   ------- -------------------------------- 8.3/45.9 MB 26.6 MB/s eta 0:00:02\n",
      "   -------- ------------------------------- 9.4/45.9 MB 24.1 MB/s eta 0:00:02\n",
      "   --------- ------------------------------ 10.6/45.9 MB 25.2 MB/s eta 0:00:02\n",
      "   ---------- ----------------------------- 12.1/45.9 MB 25.2 MB/s eta 0:00:02\n",
      "   ----------- ---------------------------- 12.8/45.9 MB 24.3 MB/s eta 0:00:02\n",
      "   ------------ --------------------------- 13.9/45.9 MB 24.2 MB/s eta 0:00:02\n",
      "   ------------- -------------------------- 15.1/45.9 MB 23.4 MB/s eta 0:00:02\n",
      "   -------------- ------------------------- 16.4/45.9 MB 22.6 MB/s eta 0:00:02\n",
      "   -------------- ------------------------- 17.1/45.9 MB 22.6 MB/s eta 0:00:02\n",
      "   --------------- ------------------------ 18.3/45.9 MB 23.4 MB/s eta 0:00:02\n",
      "   ---------------- ----------------------- 19.3/45.9 MB 26.2 MB/s eta 0:00:02\n",
      "   ----------------- ---------------------- 20.5/45.9 MB 26.2 MB/s eta 0:00:01\n",
      "   ------------------ --------------------- 21.8/45.9 MB 25.2 MB/s eta 0:00:01\n",
      "   ------------------- -------------------- 22.7/45.9 MB 25.2 MB/s eta 0:00:01\n",
      "   --------------------- ------------------ 24.1/45.9 MB 25.1 MB/s eta 0:00:01\n",
      "   ---------------------- ----------------- 25.3/45.9 MB 26.2 MB/s eta 0:00:01\n",
      "   ---------------------- ----------------- 26.4/45.9 MB 25.2 MB/s eta 0:00:01\n",
      "   ------------------------ --------------- 27.6/45.9 MB 26.2 MB/s eta 0:00:01\n",
      "   ------------------------ --------------- 28.5/45.9 MB 26.2 MB/s eta 0:00:01\n",
      "   ------------------------- -------------- 29.7/45.9 MB 26.2 MB/s eta 0:00:01\n",
      "   -------------------------- ------------- 30.7/45.9 MB 25.2 MB/s eta 0:00:01\n",
      "   --------------------------- ------------ 32.1/45.9 MB 26.2 MB/s eta 0:00:01\n",
      "   ---------------------------- ----------- 32.6/45.9 MB 25.2 MB/s eta 0:00:01\n",
      "   ----------------------------- ---------- 34.1/45.9 MB 25.2 MB/s eta 0:00:01\n",
      "   ------------------------------ --------- 35.2/45.9 MB 26.2 MB/s eta 0:00:01\n",
      "   ------------------------------- -------- 36.7/45.9 MB 27.3 MB/s eta 0:00:01\n",
      "   --------------------------------- ------ 38.0/45.9 MB 28.5 MB/s eta 0:00:01\n",
      "   ---------------------------------- ----- 39.2/45.9 MB 28.5 MB/s eta 0:00:01\n",
      "   ----------------------------------- ---- 40.6/45.9 MB 27.3 MB/s eta 0:00:01\n",
      "   ------------------------------------ --- 41.6/45.9 MB 27.3 MB/s eta 0:00:01\n",
      "   ------------------------------------- -- 42.6/45.9 MB 28.4 MB/s eta 0:00:01\n",
      "   -------------------------------------- - 43.9/45.9 MB 26.2 MB/s eta 0:00:01\n",
      "   ---------------------------------------  45.0/45.9 MB 27.3 MB/s eta 0:00:01\n",
      "   ---------------------------------------  45.9/45.9 MB 26.2 MB/s eta 0:00:01\n",
      "   ---------------------------------------  45.9/45.9 MB 26.2 MB/s eta 0:00:01\n",
      "   ---------------------------------------  45.9/45.9 MB 26.2 MB/s eta 0:00:01\n",
      "   ---------------------------------------- 45.9/45.9 MB 19.9 MB/s eta 0:00:00\n",
      "Downloading threadpoolctl-3.5.0-py3-none-any.whl (18 kB)\n",
      "Installing collected packages: threadpoolctl, scipy, joblib, scikit-learn\n",
      "Successfully installed joblib-1.4.0 scikit-learn-1.4.2 scipy-1.13.0 threadpoolctl-3.5.0\n"
     ]
    },
    {
     "name": "stderr",
     "output_type": "stream",
     "text": [
      "\n",
      "[notice] A new release of pip is available: 23.3.2 -> 24.0\n",
      "[notice] To update, run: python.exe -m pip install --upgrade pip\n"
     ]
    },
    {
     "name": "stdout",
     "output_type": "stream",
     "text": [
      "Requirement already satisfied: seaborn in c:\\users\\rahim\\appdata\\local\\programs\\python\\python312\\lib\\site-packages (0.13.1)\n",
      "Requirement already satisfied: numpy!=1.24.0,>=1.20 in c:\\users\\rahim\\appdata\\local\\programs\\python\\python312\\lib\\site-packages (from seaborn) (1.26.2)\n",
      "Requirement already satisfied: pandas>=1.2 in c:\\users\\rahim\\appdata\\local\\programs\\python\\python312\\lib\\site-packages (from seaborn) (2.1.4)\n",
      "Requirement already satisfied: matplotlib!=3.6.1,>=3.4 in c:\\users\\rahim\\appdata\\local\\programs\\python\\python312\\lib\\site-packages (from seaborn) (3.8.2)\n",
      "Requirement already satisfied: contourpy>=1.0.1 in c:\\users\\rahim\\appdata\\local\\programs\\python\\python312\\lib\\site-packages (from matplotlib!=3.6.1,>=3.4->seaborn) (1.2.0)\n",
      "Requirement already satisfied: cycler>=0.10 in c:\\users\\rahim\\appdata\\local\\programs\\python\\python312\\lib\\site-packages (from matplotlib!=3.6.1,>=3.4->seaborn) (0.12.1)\n",
      "Requirement already satisfied: fonttools>=4.22.0 in c:\\users\\rahim\\appdata\\local\\programs\\python\\python312\\lib\\site-packages (from matplotlib!=3.6.1,>=3.4->seaborn) (4.47.0)\n",
      "Requirement already satisfied: kiwisolver>=1.3.1 in c:\\users\\rahim\\appdata\\local\\programs\\python\\python312\\lib\\site-packages (from matplotlib!=3.6.1,>=3.4->seaborn) (1.4.5)\n",
      "Requirement already satisfied: packaging>=20.0 in c:\\users\\rahim\\appdata\\local\\programs\\python\\python312\\lib\\site-packages (from matplotlib!=3.6.1,>=3.4->seaborn) (23.2)\n",
      "Requirement already satisfied: pillow>=8 in c:\\users\\rahim\\appdata\\local\\programs\\python\\python312\\lib\\site-packages (from matplotlib!=3.6.1,>=3.4->seaborn) (10.2.0)\n",
      "Requirement already satisfied: pyparsing>=2.3.1 in c:\\users\\rahim\\appdata\\local\\programs\\python\\python312\\lib\\site-packages (from matplotlib!=3.6.1,>=3.4->seaborn) (3.1.1)\n",
      "Requirement already satisfied: python-dateutil>=2.7 in c:\\users\\rahim\\appdata\\local\\programs\\python\\python312\\lib\\site-packages (from matplotlib!=3.6.1,>=3.4->seaborn) (2.8.2)\n",
      "Requirement already satisfied: pytz>=2020.1 in c:\\users\\rahim\\appdata\\local\\programs\\python\\python312\\lib\\site-packages (from pandas>=1.2->seaborn) (2023.3.post1)\n",
      "Requirement already satisfied: tzdata>=2022.1 in c:\\users\\rahim\\appdata\\local\\programs\\python\\python312\\lib\\site-packages (from pandas>=1.2->seaborn) (2023.4)\n",
      "Requirement already satisfied: six>=1.5 in c:\\users\\rahim\\appdata\\local\\programs\\python\\python312\\lib\\site-packages (from python-dateutil>=2.7->matplotlib!=3.6.1,>=3.4->seaborn) (1.16.0)\n"
     ]
    },
    {
     "name": "stderr",
     "output_type": "stream",
     "text": [
      "\n",
      "[notice] A new release of pip is available: 23.3.2 -> 24.0\n",
      "[notice] To update, run: python.exe -m pip install --upgrade pip\n"
     ]
    },
    {
     "name": "stdout",
     "output_type": "stream",
     "text": [
      "Collecting plotly\n",
      "  Downloading plotly-5.21.0-py3-none-any.whl.metadata (7.1 kB)\n",
      "Collecting tenacity>=6.2.0 (from plotly)\n",
      "  Downloading tenacity-8.2.3-py3-none-any.whl.metadata (1.0 kB)\n",
      "Requirement already satisfied: packaging in c:\\users\\rahim\\appdata\\local\\programs\\python\\python312\\lib\\site-packages (from plotly) (23.2)\n",
      "Downloading plotly-5.21.0-py3-none-any.whl (15.7 MB)\n",
      "   ---------------------------------------- 0.0/15.7 MB ? eta -:--:--\n",
      "   ---------------------------------------- 0.0/15.7 MB ? eta -:--:--\n",
      "   ---------------------------------------- 0.0/15.7 MB 653.6 kB/s eta 0:00:24\n",
      "   ---------------------------------------- 0.2/15.7 MB 1.7 MB/s eta 0:00:09\n",
      "   - -------------------------------------- 0.5/15.7 MB 4.1 MB/s eta 0:00:04\n",
      "   --- ------------------------------------ 1.3/15.7 MB 7.4 MB/s eta 0:00:02\n",
      "   ----- ---------------------------------- 2.0/15.7 MB 9.7 MB/s eta 0:00:02\n",
      "   -------- ------------------------------- 3.4/15.7 MB 13.7 MB/s eta 0:00:01\n",
      "   ----------- ---------------------------- 4.6/15.7 MB 16.5 MB/s eta 0:00:01\n",
      "   -------------- ------------------------- 5.7/15.7 MB 17.4 MB/s eta 0:00:01\n",
      "   ----------------- ---------------------- 6.9/15.7 MB 18.4 MB/s eta 0:00:01\n",
      "   -------------------- ------------------- 8.0/15.7 MB 19.0 MB/s eta 0:00:01\n",
      "   ---------------------- ----------------- 8.9/15.7 MB 19.6 MB/s eta 0:00:01\n",
      "   ------------------------- -------------- 10.0/15.7 MB 20.0 MB/s eta 0:00:01\n",
      "   ---------------------------- ----------- 11.1/15.7 MB 26.2 MB/s eta 0:00:01\n",
      "   ------------------------------- -------- 12.4/15.7 MB 27.3 MB/s eta 0:00:01\n",
      "   ----------------------------------- ---- 14.0/15.7 MB 27.3 MB/s eta 0:00:01\n",
      "   ---------------------------------------  15.5/15.7 MB 26.2 MB/s eta 0:00:01\n",
      "   ---------------------------------------  15.7/15.7 MB 26.2 MB/s eta 0:00:01\n",
      "   ---------------------------------------- 15.7/15.7 MB 23.3 MB/s eta 0:00:00\n",
      "Downloading tenacity-8.2.3-py3-none-any.whl (24 kB)\n",
      "Installing collected packages: tenacity, plotly\n",
      "Successfully installed plotly-5.21.0 tenacity-8.2.3\n"
     ]
    },
    {
     "name": "stderr",
     "output_type": "stream",
     "text": [
      "\n",
      "[notice] A new release of pip is available: 23.3.2 -> 24.0\n",
      "[notice] To update, run: python.exe -m pip install --upgrade pip\n"
     ]
    },
    {
     "name": "stdout",
     "output_type": "stream",
     "text": [
      "Requirement already satisfied: nbformat in c:\\users\\rahim\\appdata\\local\\programs\\python\\python312\\lib\\site-packages (5.9.2)\n",
      "Requirement already satisfied: fastjsonschema in c:\\users\\rahim\\appdata\\local\\programs\\python\\python312\\lib\\site-packages (from nbformat) (2.19.1)\n",
      "Requirement already satisfied: jsonschema>=2.6 in c:\\users\\rahim\\appdata\\local\\programs\\python\\python312\\lib\\site-packages (from nbformat) (4.20.0)\n",
      "Requirement already satisfied: jupyter-core in c:\\users\\rahim\\appdata\\local\\programs\\python\\python312\\lib\\site-packages (from nbformat) (5.6.1)\n",
      "Requirement already satisfied: traitlets>=5.1 in c:\\users\\rahim\\appdata\\local\\programs\\python\\python312\\lib\\site-packages (from nbformat) (5.14.1)\n",
      "Requirement already satisfied: attrs>=22.2.0 in c:\\users\\rahim\\appdata\\local\\programs\\python\\python312\\lib\\site-packages (from jsonschema>=2.6->nbformat) (23.2.0)\n",
      "Requirement already satisfied: jsonschema-specifications>=2023.03.6 in c:\\users\\rahim\\appdata\\local\\programs\\python\\python312\\lib\\site-packages (from jsonschema>=2.6->nbformat) (2023.12.1)\n",
      "Requirement already satisfied: referencing>=0.28.4 in c:\\users\\rahim\\appdata\\local\\programs\\python\\python312\\lib\\site-packages (from jsonschema>=2.6->nbformat) (0.32.0)\n",
      "Requirement already satisfied: rpds-py>=0.7.1 in c:\\users\\rahim\\appdata\\local\\programs\\python\\python312\\lib\\site-packages (from jsonschema>=2.6->nbformat) (0.16.2)\n",
      "Requirement already satisfied: platformdirs>=2.5 in c:\\users\\rahim\\appdata\\local\\programs\\python\\python312\\lib\\site-packages (from jupyter-core->nbformat) (4.1.0)\n",
      "Requirement already satisfied: pywin32>=300 in c:\\users\\rahim\\appdata\\local\\programs\\python\\python312\\lib\\site-packages (from jupyter-core->nbformat) (306)\n"
     ]
    },
    {
     "name": "stderr",
     "output_type": "stream",
     "text": [
      "\n",
      "[notice] A new release of pip is available: 23.3.2 -> 24.0\n",
      "[notice] To update, run: python.exe -m pip install --upgrade pip\n"
     ]
    },
    {
     "name": "stdout",
     "output_type": "stream",
     "text": [
      "Requirement already satisfied: ipykernel in c:\\users\\rahim\\appdata\\local\\programs\\python\\python312\\lib\\site-packages (6.28.0)\n",
      "Requirement already satisfied: comm>=0.1.1 in c:\\users\\rahim\\appdata\\local\\programs\\python\\python312\\lib\\site-packages (from ipykernel) (0.2.1)\n",
      "Requirement already satisfied: debugpy>=1.6.5 in c:\\users\\rahim\\appdata\\local\\programs\\python\\python312\\lib\\site-packages (from ipykernel) (1.8.0)\n",
      "Requirement already satisfied: ipython>=7.23.1 in c:\\users\\rahim\\appdata\\local\\programs\\python\\python312\\lib\\site-packages (from ipykernel) (8.19.0)\n",
      "Requirement already satisfied: jupyter-client>=6.1.12 in c:\\users\\rahim\\appdata\\local\\programs\\python\\python312\\lib\\site-packages (from ipykernel) (8.6.0)\n",
      "Requirement already satisfied: jupyter-core!=5.0.*,>=4.12 in c:\\users\\rahim\\appdata\\local\\programs\\python\\python312\\lib\\site-packages (from ipykernel) (5.6.1)\n",
      "Requirement already satisfied: matplotlib-inline>=0.1 in c:\\users\\rahim\\appdata\\local\\programs\\python\\python312\\lib\\site-packages (from ipykernel) (0.1.6)\n",
      "Requirement already satisfied: nest-asyncio in c:\\users\\rahim\\appdata\\local\\programs\\python\\python312\\lib\\site-packages (from ipykernel) (1.5.8)\n",
      "Requirement already satisfied: packaging in c:\\users\\rahim\\appdata\\local\\programs\\python\\python312\\lib\\site-packages (from ipykernel) (23.2)\n",
      "Requirement already satisfied: psutil in c:\\users\\rahim\\appdata\\local\\programs\\python\\python312\\lib\\site-packages (from ipykernel) (5.9.7)\n",
      "Requirement already satisfied: pyzmq>=24 in c:\\users\\rahim\\appdata\\local\\programs\\python\\python312\\lib\\site-packages (from ipykernel) (25.1.2)\n",
      "Requirement already satisfied: tornado>=6.1 in c:\\users\\rahim\\appdata\\local\\programs\\python\\python312\\lib\\site-packages (from ipykernel) (6.4)\n",
      "Requirement already satisfied: traitlets>=5.4.0 in c:\\users\\rahim\\appdata\\local\\programs\\python\\python312\\lib\\site-packages (from ipykernel) (5.14.1)\n",
      "Requirement already satisfied: decorator in c:\\users\\rahim\\appdata\\local\\programs\\python\\python312\\lib\\site-packages (from ipython>=7.23.1->ipykernel) (5.1.1)\n",
      "Requirement already satisfied: jedi>=0.16 in c:\\users\\rahim\\appdata\\local\\programs\\python\\python312\\lib\\site-packages (from ipython>=7.23.1->ipykernel) (0.19.1)\n",
      "Requirement already satisfied: prompt-toolkit<3.1.0,>=3.0.41 in c:\\users\\rahim\\appdata\\local\\programs\\python\\python312\\lib\\site-packages (from ipython>=7.23.1->ipykernel) (3.0.43)\n",
      "Requirement already satisfied: pygments>=2.4.0 in c:\\users\\rahim\\appdata\\local\\programs\\python\\python312\\lib\\site-packages (from ipython>=7.23.1->ipykernel) (2.17.2)\n",
      "Requirement already satisfied: stack-data in c:\\users\\rahim\\appdata\\local\\programs\\python\\python312\\lib\\site-packages (from ipython>=7.23.1->ipykernel) (0.6.3)\n",
      "Requirement already satisfied: colorama in c:\\users\\rahim\\appdata\\local\\programs\\python\\python312\\lib\\site-packages (from ipython>=7.23.1->ipykernel) (0.4.6)\n",
      "Requirement already satisfied: python-dateutil>=2.8.2 in c:\\users\\rahim\\appdata\\local\\programs\\python\\python312\\lib\\site-packages (from jupyter-client>=6.1.12->ipykernel) (2.8.2)\n",
      "Requirement already satisfied: platformdirs>=2.5 in c:\\users\\rahim\\appdata\\local\\programs\\python\\python312\\lib\\site-packages (from jupyter-core!=5.0.*,>=4.12->ipykernel) (4.1.0)\n",
      "Requirement already satisfied: pywin32>=300 in c:\\users\\rahim\\appdata\\local\\programs\\python\\python312\\lib\\site-packages (from jupyter-core!=5.0.*,>=4.12->ipykernel) (306)\n",
      "Requirement already satisfied: parso<0.9.0,>=0.8.3 in c:\\users\\rahim\\appdata\\local\\programs\\python\\python312\\lib\\site-packages (from jedi>=0.16->ipython>=7.23.1->ipykernel) (0.8.3)\n",
      "Requirement already satisfied: wcwidth in c:\\users\\rahim\\appdata\\local\\programs\\python\\python312\\lib\\site-packages (from prompt-toolkit<3.1.0,>=3.0.41->ipython>=7.23.1->ipykernel) (0.2.12)\n",
      "Requirement already satisfied: six>=1.5 in c:\\users\\rahim\\appdata\\local\\programs\\python\\python312\\lib\\site-packages (from python-dateutil>=2.8.2->jupyter-client>=6.1.12->ipykernel) (1.16.0)\n",
      "Requirement already satisfied: executing>=1.2.0 in c:\\users\\rahim\\appdata\\local\\programs\\python\\python312\\lib\\site-packages (from stack-data->ipython>=7.23.1->ipykernel) (2.0.1)\n",
      "Requirement already satisfied: asttokens>=2.1.0 in c:\\users\\rahim\\appdata\\local\\programs\\python\\python312\\lib\\site-packages (from stack-data->ipython>=7.23.1->ipykernel) (2.4.1)\n",
      "Requirement already satisfied: pure-eval in c:\\users\\rahim\\appdata\\local\\programs\\python\\python312\\lib\\site-packages (from stack-data->ipython>=7.23.1->ipykernel) (0.2.2)\n"
     ]
    },
    {
     "name": "stderr",
     "output_type": "stream",
     "text": [
      "\n",
      "[notice] A new release of pip is available: 23.3.2 -> 24.0\n",
      "[notice] To update, run: python.exe -m pip install --upgrade pip\n"
     ]
    },
    {
     "name": "stdout",
     "output_type": "stream",
     "text": [
      "Requirement already satisfied: nbformat in c:\\users\\rahim\\appdata\\local\\programs\\python\\python312\\lib\\site-packages (5.9.2)\n",
      "Collecting nbformat\n",
      "  Downloading nbformat-5.10.4-py3-none-any.whl.metadata (3.6 kB)\n",
      "Requirement already satisfied: fastjsonschema>=2.15 in c:\\users\\rahim\\appdata\\local\\programs\\python\\python312\\lib\\site-packages (from nbformat) (2.19.1)\n",
      "Requirement already satisfied: jsonschema>=2.6 in c:\\users\\rahim\\appdata\\local\\programs\\python\\python312\\lib\\site-packages (from nbformat) (4.20.0)\n",
      "Requirement already satisfied: jupyter-core!=5.0.*,>=4.12 in c:\\users\\rahim\\appdata\\local\\programs\\python\\python312\\lib\\site-packages (from nbformat) (5.6.1)\n",
      "Requirement already satisfied: traitlets>=5.1 in c:\\users\\rahim\\appdata\\local\\programs\\python\\python312\\lib\\site-packages (from nbformat) (5.14.1)\n",
      "Requirement already satisfied: attrs>=22.2.0 in c:\\users\\rahim\\appdata\\local\\programs\\python\\python312\\lib\\site-packages (from jsonschema>=2.6->nbformat) (23.2.0)\n",
      "Requirement already satisfied: jsonschema-specifications>=2023.03.6 in c:\\users\\rahim\\appdata\\local\\programs\\python\\python312\\lib\\site-packages (from jsonschema>=2.6->nbformat) (2023.12.1)\n",
      "Requirement already satisfied: referencing>=0.28.4 in c:\\users\\rahim\\appdata\\local\\programs\\python\\python312\\lib\\site-packages (from jsonschema>=2.6->nbformat) (0.32.0)\n",
      "Requirement already satisfied: rpds-py>=0.7.1 in c:\\users\\rahim\\appdata\\local\\programs\\python\\python312\\lib\\site-packages (from jsonschema>=2.6->nbformat) (0.16.2)\n",
      "Requirement already satisfied: platformdirs>=2.5 in c:\\users\\rahim\\appdata\\local\\programs\\python\\python312\\lib\\site-packages (from jupyter-core!=5.0.*,>=4.12->nbformat) (4.1.0)\n",
      "Requirement already satisfied: pywin32>=300 in c:\\users\\rahim\\appdata\\local\\programs\\python\\python312\\lib\\site-packages (from jupyter-core!=5.0.*,>=4.12->nbformat) (306)\n",
      "Downloading nbformat-5.10.4-py3-none-any.whl (78 kB)\n",
      "   ---------------------------------------- 0.0/78.5 kB ? eta -:--:--\n",
      "   ---------------------------------------- 0.0/78.5 kB ? eta -:--:--\n",
      "   --------------- ------------------------ 30.7/78.5 kB 660.6 kB/s eta 0:00:01\n",
      "   ------------------------------------ --- 71.7/78.5 kB 991.0 kB/s eta 0:00:01\n",
      "   ---------------------------------------- 78.5/78.5 kB 874.5 kB/s eta 0:00:00\n",
      "Installing collected packages: nbformat\n",
      "  Attempting uninstall: nbformat\n",
      "    Found existing installation: nbformat 5.9.2\n",
      "    Uninstalling nbformat-5.9.2:\n",
      "      Successfully uninstalled nbformat-5.9.2\n",
      "Successfully installed nbformat-5.10.4\n"
     ]
    },
    {
     "name": "stderr",
     "output_type": "stream",
     "text": [
      "\n",
      "[notice] A new release of pip is available: 23.3.2 -> 24.0\n",
      "[notice] To update, run: python.exe -m pip install --upgrade pip\n"
     ]
    }
   ],
   "source": [
    "!pip install pandas\n",
    "!pip install matplotlib\n",
    "!pip install numpy\n",
    "!pip install scikit-learn\n",
    "!pip install seaborn\n",
    "!pip install plotly\n",
    "!pip install nbformat\n",
    "!pip install ipykernel\n",
    "!pip install --upgrade nbformat"
   ]
  },
  {
   "cell_type": "markdown",
   "metadata": {},
   "source": [
    "#### imports, and get input data"
   ]
  },
  {
   "cell_type": "code",
   "execution_count": 9,
   "metadata": {},
   "outputs": [],
   "source": [
    "import pandas as pd\n",
    "import matplotlib.pyplot as plt\n",
    "import numpy as np\n",
    "from sklearn.linear_model import LinearRegression\n",
    "import seaborn as sns\n",
    "import plotly.express as px\n",
    "from datetime import datetime"
   ]
  },
  {
   "cell_type": "code",
   "execution_count": 10,
   "metadata": {},
   "outputs": [],
   "source": [
    "certificate_holders = pd.read_csv('./output_data/certificate_holders_validated.csv')\n",
    "volume_and_crops = pd.read_csv('./output_data/volume_and_crops_validated.csv')"
   ]
  },
  {
   "cell_type": "markdown",
   "metadata": {},
   "source": [
    "#### ⚡ Merging datasets\n",
    "💡 Assumed that ['Certificate Holder ID', 'Certificate ID'] can be a good choice for merging two datasets.\n",
    "\n",
    "✅ Needs to check with data model documents"
   ]
  },
  {
   "cell_type": "code",
   "execution_count": 11,
   "metadata": {},
   "outputs": [
    {
     "data": {
      "text/html": [
       "<div>\n",
       "<style scoped>\n",
       "    .dataframe tbody tr th:only-of-type {\n",
       "        vertical-align: middle;\n",
       "    }\n",
       "\n",
       "    .dataframe tbody tr th {\n",
       "        vertical-align: top;\n",
       "    }\n",
       "\n",
       "    .dataframe thead th {\n",
       "        text-align: right;\n",
       "    }\n",
       "</style>\n",
       "<table border=\"1\" class=\"dataframe\">\n",
       "  <thead>\n",
       "    <tr style=\"text-align: right;\">\n",
       "      <th></th>\n",
       "      <th>Certificate Holder ID</th>\n",
       "      <th>Certificate ID</th>\n",
       "      <th>Country</th>\n",
       "      <th>Certificate Type</th>\n",
       "      <th>Certificate end date</th>\n",
       "      <th>Certificate start date</th>\n",
       "      <th>Crop</th>\n",
       "      <th>Estimated harvested volume</th>\n",
       "    </tr>\n",
       "  </thead>\n",
       "  <tbody>\n",
       "    <tr>\n",
       "      <th>0</th>\n",
       "      <td>CH000371</td>\n",
       "      <td>LI5FD7A1</td>\n",
       "      <td>Country B</td>\n",
       "      <td>Multi Farm</td>\n",
       "      <td>2024-06-09 00:00:00</td>\n",
       "      <td>2023-06-09 00:00:00</td>\n",
       "      <td>Coffee</td>\n",
       "      <td>1126752.0</td>\n",
       "    </tr>\n",
       "    <tr>\n",
       "      <th>1</th>\n",
       "      <td>CH001623</td>\n",
       "      <td>LI39CBD9</td>\n",
       "      <td>Country B</td>\n",
       "      <td>Multi Farm</td>\n",
       "      <td>2023-04-01 00:00:00</td>\n",
       "      <td>2022-04-01 00:00:00</td>\n",
       "      <td>Coffee</td>\n",
       "      <td>1250892.0</td>\n",
       "    </tr>\n",
       "    <tr>\n",
       "      <th>2</th>\n",
       "      <td>CH001623</td>\n",
       "      <td>LI5A0564</td>\n",
       "      <td>Country B</td>\n",
       "      <td>Multi Farm</td>\n",
       "      <td>2024-07-02 00:00:00</td>\n",
       "      <td>2023-04-02 00:00:00</td>\n",
       "      <td>Coffee</td>\n",
       "      <td>852360.0</td>\n",
       "    </tr>\n",
       "    <tr>\n",
       "      <th>3</th>\n",
       "      <td>CH004BB5</td>\n",
       "      <td>LI42F47A</td>\n",
       "      <td>Country B</td>\n",
       "      <td>Group Of Mixed Farms</td>\n",
       "      <td>2023-05-15 00:00:00</td>\n",
       "      <td>2022-05-16 00:00:00</td>\n",
       "      <td>Coffee</td>\n",
       "      <td>1034720.0</td>\n",
       "    </tr>\n",
       "    <tr>\n",
       "      <th>4</th>\n",
       "      <td>CH004BB5</td>\n",
       "      <td>LIAEA700</td>\n",
       "      <td>Country B</td>\n",
       "      <td>Multi Farm</td>\n",
       "      <td>2024-05-15 00:00:00</td>\n",
       "      <td>2023-05-16 00:00:00</td>\n",
       "      <td>Coffee</td>\n",
       "      <td>993900.0</td>\n",
       "    </tr>\n",
       "  </tbody>\n",
       "</table>\n",
       "</div>"
      ],
      "text/plain": [
       "  Certificate Holder ID Certificate ID    Country      Certificate Type  \\\n",
       "0              CH000371       LI5FD7A1  Country B            Multi Farm   \n",
       "1              CH001623       LI39CBD9  Country B            Multi Farm   \n",
       "2              CH001623       LI5A0564  Country B            Multi Farm   \n",
       "3              CH004BB5       LI42F47A  Country B  Group Of Mixed Farms   \n",
       "4              CH004BB5       LIAEA700  Country B            Multi Farm   \n",
       "\n",
       "  Certificate end date Certificate start date    Crop  \\\n",
       "0  2024-06-09 00:00:00    2023-06-09 00:00:00  Coffee   \n",
       "1  2023-04-01 00:00:00    2022-04-01 00:00:00  Coffee   \n",
       "2  2024-07-02 00:00:00    2023-04-02 00:00:00  Coffee   \n",
       "3  2023-05-15 00:00:00    2022-05-16 00:00:00  Coffee   \n",
       "4  2024-05-15 00:00:00    2023-05-16 00:00:00  Coffee   \n",
       "\n",
       "   Estimated harvested volume  \n",
       "0                   1126752.0  \n",
       "1                   1250892.0  \n",
       "2                    852360.0  \n",
       "3                   1034720.0  \n",
       "4                    993900.0  "
      ]
     },
     "execution_count": 11,
     "metadata": {},
     "output_type": "execute_result"
    }
   ],
   "source": [
    "merged_data = pd.merge(certificate_holders, volume_and_crops, on=['Certificate Holder ID', 'Certificate ID'])\n",
    "merged_data.head(5)"
   ]
  },
  {
   "cell_type": "markdown",
   "metadata": {},
   "source": [
    "#### 1: Descriptive statistics of numerical fields such as estimated harvested volume."
   ]
  },
  {
   "cell_type": "code",
   "execution_count": 12,
   "metadata": {},
   "outputs": [
    {
     "name": "stdout",
     "output_type": "stream",
     "text": [
      "Descriptive Statistics for Estimated Harvested Volume:\n",
      "-----------------------------------------------------\n",
      "Count: 1,115 entries\n",
      "Mean: 1,681,609.50 units\n",
      "Standard Deviation: 3,236,018.33 units\n",
      "Minimum: 0.80 units\n",
      "25th Percentile: 277,800.00 units\n",
      "Median (50th Percentile): 702,504.00 units\n",
      "75th Percentile: 1,652,128.10 units\n",
      "Maximum: 49,039,389.00 units\n"
     ]
    }
   ],
   "source": [
    "desc_stats = merged_data['Estimated harvested volume'].describe()\n",
    "\n",
    "print(\"Descriptive Statistics for Estimated Harvested Volume:\")\n",
    "print(\"-----------------------------------------------------\")\n",
    "print(f\"Count: {desc_stats['count']:,.0f} entries\")\n",
    "print(f\"Mean: {desc_stats['mean']:,.2f} units\")\n",
    "print(f\"Standard Deviation: {desc_stats['std']:,.2f} units\")\n",
    "print(f\"Minimum: {desc_stats['min']:,.2f} units\")\n",
    "print(f\"25th Percentile: {desc_stats['25%']:,.2f} units\")\n",
    "print(f\"Median (50th Percentile): {desc_stats['50%']:,.2f} units\")\n",
    "print(f\"75th Percentile: {desc_stats['75%']:,.2f} units\")\n",
    "print(f\"Maximum: {desc_stats['max']:,.2f} units\")"
   ]
  },
  {
   "cell_type": "code",
   "execution_count": 13,
   "metadata": {},
   "outputs": [
    {
     "data": {
      "image/png": "[encoded data removed]",
      "text/plain": [
       "<Figure size 1600x1200 with 4 Axes>"
      ]
     },
     "metadata": {},
     "output_type": "display_data"
    }
   ],
   "source": [
    "fig, axs = plt.subplots(2, 2, figsize=(16, 12))\n",
    "\n",
    "# Histogram\n",
    "axs[0, 0].hist(merged_data['Estimated harvested volume'], bins=30, color='blue', alpha=0.7)\n",
    "axs[0, 0].set_title('Histogram of Estimated Harvested Volume')\n",
    "axs[0, 0].set_xlabel('Volume')\n",
    "axs[0, 0].set_ylabel('Frequency')\n",
    "\n",
    "# Boxplot\n",
    "axs[0, 1].boxplot(merged_data['Estimated harvested volume'], vert=False)\n",
    "axs[0, 1].set_title('Box Plot of Estimated Harvested Volume')\n",
    "axs[0, 1].set_xlabel('Volume')\n",
    "\n",
    "# Violin Plot\n",
    "sns.violinplot(ax=axs[1, 0], data=merged_data, x='Estimated harvested volume', inner='quartile')\n",
    "axs[1, 0].set_title('Violin Plot of Estimated Harvested Volume')\n",
    "axs[1, 0].set_xlabel('Volume')\n",
    "\n",
    "# Descriptive Stats\n",
    "desc_stats = merged_data['Estimated harvested volume'].describe().apply(lambda x: format(x, 'f'))\n",
    "stat_text = '\\n'.join([f\"{stat}: {value}\" for stat, value in desc_stats.items()])\n",
    "axs[1, 1].axis('off')\n",
    "axs[1, 1].text(0.5, 0.5, stat_text, fontsize=12, ha='center', va='center')\n",
    "\n",
    "plt.tight_layout()\n",
    "plt.show()\n"
   ]
  },
  {
   "cell_type": "markdown",
   "metadata": {},
   "source": [
    "#### 2: Count of certificate types to see which certificate type is most common"
   ]
  },
  {
   "cell_type": "code",
   "execution_count": 56,
   "metadata": {},
   "outputs": [
    {
     "data": {
      "text/plain": [
       "Certificate Type\n",
       "Single Farm             958\n",
       "Group Of Small Farms    550\n",
       "Multi Farm              374\n",
       "Group Of Mixed Farms    149\n",
       "Single Site               3\n",
       "Name: count, dtype: int64"
      ]
     },
     "execution_count": 56,
     "metadata": {},
     "output_type": "execute_result"
    }
   ],
   "source": [
    "certificate_holders['Certificate Type'].value_counts()"
   ]
  },
  {
   "cell_type": "code",
   "execution_count": 57,
   "metadata": {},
   "outputs": [],
   "source": [
    "merged_data['Certificate start date'] = pd.to_datetime(merged_data['Certificate start date'])\n",
    "merged_data['Certificate end date'] = pd.to_datetime(merged_data['Certificate end date'])\n",
    "\n",
    "# Extract year and month for further analysis\n",
    "merged_data['Year Issued'] = merged_data['Certificate start date'].dt.year\n",
    "merged_data['Month Issued'] = merged_data['Certificate start date'].dt.strftime('%Y-%m') "
   ]
  },
  {
   "cell_type": "code",
   "execution_count": 58,
   "metadata": {},
   "outputs": [
    {
     "data": {
      "application/vnd.plotly.v1+json": {
       "config": {
        "plotlyServerURL": "https://plot.ly"
       },
       "data": [
        {
         "alignmentgroup": "True",
         "hovertemplate": "Type=%{x}<br>Number of Certificates=%{y}<extra></extra>",
         "legendgroup": "",
         "marker": {
          "color": "#636efa",
          "pattern": {
           "shape": ""
          }
         },
         "name": "",
         "offsetgroup": "",
         "orientation": "v",
         "showlegend": false,
         "textposition": "auto",
         "type": "bar",
         "x": [
          "Group Of Small Farms",
          "Single Farm",
          "Multi Farm",
          "Group Of Mixed Farms",
          "Single Site"
         ],
         "xaxis": "x",
         "y": [
          485,
          279,
          252,
          98,
          1
         ],
         "yaxis": "y"
        }
       ],
       "layout": {
        "barmode": "relative",
        "legend": {
         "tracegroupgap": 0
        },
        "template": {
         "data": {
          "bar": [
           {
            "error_x": {
             "color": "#2a3f5f"
            },
            "error_y": {
             "color": "#2a3f5f"
            },
            "marker": {
             "line": {
              "color": "#E5ECF6",
              "width": 0.5
             },
             "pattern": {
              "fillmode": "overlay",
              "size": 10,
              "solidity": 0.2
             }
            },
            "type": "bar"
           }
          ],
          "barpolar": [
           {
            "marker": {
             "line": {
              "color": "#E5ECF6",
              "width": 0.5
             },
             "pattern": {
              "fillmode": "overlay",
              "size": 10,
              "solidity": 0.2
             }
            },
            "type": "barpolar"
           }
          ],
          "carpet": [
           {
            "aaxis": {
             "endlinecolor": "#2a3f5f",
             "gridcolor": "white",
             "linecolor": "white",
             "minorgridcolor": "white",
             "startlinecolor": "#2a3f5f"
            },
            "baxis": {
             "endlinecolor": "#2a3f5f",
             "gridcolor": "white",
             "linecolor": "white",
             "minorgridcolor": "white",
             "startlinecolor": "#2a3f5f"
            },
            "type": "carpet"
           }
          ],
          "choropleth": [
           {
            "colorbar": {
             "outlinewidth": 0,
             "ticks": ""
            },
            "type": "choropleth"
           }
          ],
          "contour": [
           {
            "colorbar": {
             "outlinewidth": 0,
             "ticks": ""
            },
            "colorscale": [
             [
              0,
              "#0d0887"
             ],
             [
              0.1111111111111111,
              "#46039f"
             ],
             [
              0.2222222222222222,
              "#7201a8"
             ],
             [
              0.3333333333333333,
              "#9c179e"
             ],
             [
              0.4444444444444444,
              "#bd3786"
             ],
             [
              0.5555555555555556,
              "#d8576b"
             ],
             [
              0.6666666666666666,
              "#ed7953"
             ],
             [
              0.7777777777777778,
              "#fb9f3a"
             ],
             [
              0.8888888888888888,
              "#fdca26"
             ],
             [
              1,
              "#f0f921"
             ]
            ],
            "type": "contour"
           }
          ],
          "contourcarpet": [
           {
            "colorbar": {
             "outlinewidth": 0,
             "ticks": ""
            },
            "type": "contourcarpet"
           }
          ],
          "heatmap": [
           {
            "colorbar": {
             "outlinewidth": 0,
             "ticks": ""
            },
            "colorscale": [
             [
              0,
              "#0d0887"
             ],
             [
              0.1111111111111111,
              "#46039f"
             ],
             [
              0.2222222222222222,
              "#7201a8"
             ],
             [
              0.3333333333333333,
              "#9c179e"
             ],
             [
              0.4444444444444444,
              "#bd3786"
             ],
             [
              0.5555555555555556,
              "#d8576b"
             ],
             [
              0.6666666666666666,
              "#ed7953"
             ],
             [
              0.7777777777777778,
              "#fb9f3a"
             ],
             [
              0.8888888888888888,
              "#fdca26"
             ],
             [
              1,
              "#f0f921"
             ]
            ],
            "type": "heatmap"
           }
          ],
          "heatmapgl": [
           {
            "colorbar": {
             "outlinewidth": 0,
             "ticks": ""
            },
            "colorscale": [
             [
              0,
              "#0d0887"
             ],
             [
              0.1111111111111111,
              "#46039f"
             ],
             [
              0.2222222222222222,
              "#7201a8"
             ],
             [
              0.3333333333333333,
              "#9c179e"
             ],
             [
              0.4444444444444444,
              "#bd3786"
             ],
             [
              0.5555555555555556,
              "#d8576b"
             ],
             [
              0.6666666666666666,
              "#ed7953"
             ],
             [
              0.7777777777777778,
              "#fb9f3a"
             ],
             [
              0.8888888888888888,
              "#fdca26"
             ],
             [
              1,
              "#f0f921"
             ]
            ],
            "type": "heatmapgl"
           }
          ],
          "histogram": [
           {
            "marker": {
             "pattern": {
              "fillmode": "overlay",
              "size": 10,
              "solidity": 0.2
             }
            },
            "type": "histogram"
           }
          ],
          "histogram2d": [
           {
            "colorbar": {
             "outlinewidth": 0,
             "ticks": ""
            },
            "colorscale": [
             [
              0,
              "#0d0887"
             ],
             [
              0.1111111111111111,
              "#46039f"
             ],
             [
              0.2222222222222222,
              "#7201a8"
             ],
             [
              0.3333333333333333,
              "#9c179e"
             ],
             [
              0.4444444444444444,
              "#bd3786"
             ],
             [
              0.5555555555555556,
              "#d8576b"
             ],
             [
              0.6666666666666666,
              "#ed7953"
             ],
             [
              0.7777777777777778,
              "#fb9f3a"
             ],
             [
              0.8888888888888888,
              "#fdca26"
             ],
             [
              1,
              "#f0f921"
             ]
            ],
            "type": "histogram2d"
           }
          ],
          "histogram2dcontour": [
           {
            "colorbar": {
             "outlinewidth": 0,
             "ticks": ""
            },
            "colorscale": [
             [
              0,
              "#0d0887"
             ],
             [
              0.1111111111111111,
              "#46039f"
             ],
             [
              0.2222222222222222,
              "#7201a8"
             ],
             [
              0.3333333333333333,
              "#9c179e"
             ],
             [
              0.4444444444444444,
              "#bd3786"
             ],
             [
              0.5555555555555556,
              "#d8576b"
             ],
             [
              0.6666666666666666,
              "#ed7953"
             ],
             [
              0.7777777777777778,
              "#fb9f3a"
             ],
             [
              0.8888888888888888,
              "#fdca26"
             ],
             [
              1,
              "#f0f921"
             ]
            ],
            "type": "histogram2dcontour"
           }
          ],
          "mesh3d": [
           {
            "colorbar": {
             "outlinewidth": 0,
             "ticks": ""
            },
            "type": "mesh3d"
           }
          ],
          "parcoords": [
           {
            "line": {
             "colorbar": {
              "outlinewidth": 0,
              "ticks": ""
             }
            },
            "type": "parcoords"
           }
          ],
          "pie": [
           {
            "automargin": true,
            "type": "pie"
           }
          ],
          "scatter": [
           {
            "fillpattern": {
             "fillmode": "overlay",
             "size": 10,
             "solidity": 0.2
            },
            "type": "scatter"
           }
          ],
          "scatter3d": [
           {
            "line": {
             "colorbar": {
              "outlinewidth": 0,
              "ticks": ""
             }
            },
            "marker": {
             "colorbar": {
              "outlinewidth": 0,
              "ticks": ""
             }
            },
            "type": "scatter3d"
           }
          ],
          "scattercarpet": [
           {
            "marker": {
             "colorbar": {
              "outlinewidth": 0,
              "ticks": ""
             }
            },
            "type": "scattercarpet"
           }
          ],
          "scattergeo": [
           {
            "marker": {
             "colorbar": {
              "outlinewidth": 0,
              "ticks": ""
             }
            },
            "type": "scattergeo"
           }
          ],
          "scattergl": [
           {
            "marker": {
             "colorbar": {
              "outlinewidth": 0,
              "ticks": ""
             }
            },
            "type": "scattergl"
           }
          ],
          "scattermapbox": [
           {
            "marker": {
             "colorbar": {
              "outlinewidth": 0,
              "ticks": ""
             }
            },
            "type": "scattermapbox"
           }
          ],
          "scatterpolar": [
           {
            "marker": {
             "colorbar": {
              "outlinewidth": 0,
              "ticks": ""
             }
            },
            "type": "scatterpolar"
           }
          ],
          "scatterpolargl": [
           {
            "marker": {
             "colorbar": {
              "outlinewidth": 0,
              "ticks": ""
             }
            },
            "type": "scatterpolargl"
           }
          ],
          "scatterternary": [
           {
            "marker": {
             "colorbar": {
              "outlinewidth": 0,
              "ticks": ""
             }
            },
            "type": "scatterternary"
           }
          ],
          "surface": [
           {
            "colorbar": {
             "outlinewidth": 0,
             "ticks": ""
            },
            "colorscale": [
             [
              0,
              "#0d0887"
             ],
             [
              0.1111111111111111,
              "#46039f"
             ],
             [
              0.2222222222222222,
              "#7201a8"
             ],
             [
              0.3333333333333333,
              "#9c179e"
             ],
             [
              0.4444444444444444,
              "#bd3786"
             ],
             [
              0.5555555555555556,
              "#d8576b"
             ],
             [
              0.6666666666666666,
              "#ed7953"
             ],
             [
              0.7777777777777778,
              "#fb9f3a"
             ],
             [
              0.8888888888888888,
              "#fdca26"
             ],
             [
              1,
              "#f0f921"
             ]
            ],
            "type": "surface"
           }
          ],
          "table": [
           {
            "cells": {
             "fill": {
              "color": "#EBF0F8"
             },
             "line": {
              "color": "white"
             }
            },
            "header": {
             "fill": {
              "color": "#C8D4E3"
             },
             "line": {
              "color": "white"
             }
            },
            "type": "table"
           }
          ]
         },
         "layout": {
          "annotationdefaults": {
           "arrowcolor": "#2a3f5f",
           "arrowhead": 0,
           "arrowwidth": 1
          },
          "autotypenumbers": "strict",
          "coloraxis": {
           "colorbar": {
            "outlinewidth": 0,
            "ticks": ""
           }
          },
          "colorscale": {
           "diverging": [
            [
             0,
             "#8e0152"
            ],
            [
             0.1,
             "#c51b7d"
            ],
            [
             0.2,
             "#de77ae"
            ],
            [
             0.3,
             "#f1b6da"
            ],
            [
             0.4,
             "#fde0ef"
            ],
            [
             0.5,
             "#f7f7f7"
            ],
            [
             0.6,
             "#e6f5d0"
            ],
            [
             0.7,
             "#b8e186"
            ],
            [
             0.8,
             "#7fbc41"
            ],
            [
             0.9,
             "#4d9221"
            ],
            [
             1,
             "#276419"
            ]
           ],
           "sequential": [
            [
             0,
             "#0d0887"
            ],
            [
             0.1111111111111111,
             "#46039f"
            ],
            [
             0.2222222222222222,
             "#7201a8"
            ],
            [
             0.3333333333333333,
             "#9c179e"
            ],
            [
             0.4444444444444444,
             "#bd3786"
            ],
            [
             0.5555555555555556,
             "#d8576b"
            ],
            [
             0.6666666666666666,
             "#ed7953"
            ],
            [
             0.7777777777777778,
             "#fb9f3a"
            ],
            [
             0.8888888888888888,
             "#fdca26"
            ],
            [
             1,
             "#f0f921"
            ]
           ],
           "sequentialminus": [
            [
             0,
             "#0d0887"
            ],
            [
             0.1111111111111111,
             "#46039f"
            ],
            [
             0.2222222222222222,
             "#7201a8"
            ],
            [
             0.3333333333333333,
             "#9c179e"
            ],
            [
             0.4444444444444444,
             "#bd3786"
            ],
            [
             0.5555555555555556,
             "#d8576b"
            ],
            [
             0.6666666666666666,
             "#ed7953"
            ],
            [
             0.7777777777777778,
             "#fb9f3a"
            ],
            [
             0.8888888888888888,
             "#fdca26"
            ],
            [
             1,
             "#f0f921"
            ]
           ]
          },
          "colorway": [
           "#636efa",
           "#EF553B",
           "#00cc96",
           "#ab63fa",
           "#FFA15A",
           "#19d3f3",
           "#FF6692",
           "#B6E880",
           "#FF97FF",
           "#FECB52"
          ],
          "font": {
           "color": "#2a3f5f"
          },
          "geo": {
           "bgcolor": "white",
           "lakecolor": "white",
           "landcolor": "#E5ECF6",
           "showlakes": true,
           "showland": true,
           "subunitcolor": "white"
          },
          "hoverlabel": {
           "align": "left"
          },
          "hovermode": "closest",
          "mapbox": {
           "style": "light"
          },
          "paper_bgcolor": "white",
          "plot_bgcolor": "#E5ECF6",
          "polar": {
           "angularaxis": {
            "gridcolor": "white",
            "linecolor": "white",
            "ticks": ""
           },
           "bgcolor": "#E5ECF6",
           "radialaxis": {
            "gridcolor": "white",
            "linecolor": "white",
            "ticks": ""
           }
          },
          "scene": {
           "xaxis": {
            "backgroundcolor": "#E5ECF6",
            "gridcolor": "white",
            "gridwidth": 2,
            "linecolor": "white",
            "showbackground": true,
            "ticks": "",
            "zerolinecolor": "white"
           },
           "yaxis": {
            "backgroundcolor": "#E5ECF6",
            "gridcolor": "white",
            "gridwidth": 2,
            "linecolor": "white",
            "showbackground": true,
            "ticks": "",
            "zerolinecolor": "white"
           },
           "zaxis": {
            "backgroundcolor": "#E5ECF6",
            "gridcolor": "white",
            "gridwidth": 2,
            "linecolor": "white",
            "showbackground": true,
            "ticks": "",
            "zerolinecolor": "white"
           }
          },
          "shapedefaults": {
           "line": {
            "color": "#2a3f5f"
           }
          },
          "ternary": {
           "aaxis": {
            "gridcolor": "white",
            "linecolor": "white",
            "ticks": ""
           },
           "baxis": {
            "gridcolor": "white",
            "linecolor": "white",
            "ticks": ""
           },
           "bgcolor": "#E5ECF6",
           "caxis": {
            "gridcolor": "white",
            "linecolor": "white",
            "ticks": ""
           }
          },
          "title": {
           "x": 0.05
          },
          "xaxis": {
           "automargin": true,
           "gridcolor": "white",
           "linecolor": "white",
           "ticks": "",
           "title": {
            "standoff": 15
           },
           "zerolinecolor": "white",
           "zerolinewidth": 2
          },
          "yaxis": {
           "automargin": true,
           "gridcolor": "white",
           "linecolor": "white",
           "ticks": "",
           "title": {
            "standoff": 15
           },
           "zerolinecolor": "white",
           "zerolinewidth": 2
          }
         }
        },
        "title": {
         "text": "Count of Certificate Types"
        },
        "xaxis": {
         "anchor": "y",
         "domain": [
          0,
          1
         ],
         "title": {
          "text": "Type"
         }
        },
        "yaxis": {
         "anchor": "x",
         "domain": [
          0,
          1
         ],
         "title": {
          "text": "Number of Certificates"
         }
        }
       }
      }
     },
     "metadata": {},
     "output_type": "display_data"
    }
   ],
   "source": [
    "certificate_type_counts = merged_data['Certificate Type'].value_counts().reset_index()\n",
    "certificate_type_counts.columns = ['Certificate Type', 'Count']  # Rename columns for clarity\n",
    "\n",
    "fig = px.bar(certificate_type_counts, x='Certificate Type', y='Count',\n",
    "             title='Count of Certificate Types', labels={'Certificate Type': 'Type', 'Count': 'Number of Certificates'})\n",
    "fig.show()"
   ]
  },
  {
   "cell_type": "code",
   "execution_count": 59,
   "metadata": {},
   "outputs": [
    {
     "data": {
      "application/vnd.plotly.v1+json": {
       "config": {
        "plotlyServerURL": "https://plot.ly"
       },
       "data": [
        {
         "alignmentgroup": "True",
         "bingroup": "x",
         "hovertemplate": "Country=Country B<br>Year Issued=2023<br>Certificate Type=%{x}<br>count=%{y}<extra></extra>",
         "legendgroup": "Country B",
         "marker": {
          "color": "#636efa",
          "pattern": {
           "shape": ""
          }
         },
         "name": "Country B",
         "offsetgroup": "Country B",
         "orientation": "v",
         "showlegend": true,
         "type": "histogram",
         "x": [
          "Multi Farm",
          "Multi Farm",
          "Multi Farm",
          "Multi Farm",
          "Multi Farm",
          "Multi Farm",
          "Multi Farm",
          "Group Of Small Farms",
          "Single Farm",
          "Single Farm",
          "Single Farm",
          "Multi Farm",
          "Multi Farm",
          "Multi Farm",
          "Group Of Mixed Farms",
          "Multi Farm",
          "Group Of Mixed Farms",
          "Single Farm",
          "Single Farm",
          "Multi Farm",
          "Single Farm",
          "Single Farm",
          "Multi Farm",
          "Multi Farm",
          "Multi Farm",
          "Multi Farm",
          "Single Farm",
          "Single Farm",
          "Multi Farm",
          "Multi Farm",
          "Multi Farm",
          "Multi Farm",
          "Single Farm",
          "Multi Farm",
          "Multi Farm",
          "Multi Farm",
          "Single Farm",
          "Multi Farm",
          "Multi Farm",
          "Multi Farm",
          "Multi Farm",
          "Single Farm",
          "Single Farm",
          "Multi Farm",
          "Multi Farm",
          "Group Of Small Farms",
          "Multi Farm",
          "Multi Farm",
          "Multi Farm",
          "Group Of Mixed Farms",
          "Single Farm",
          "Multi Farm",
          "Single Farm",
          "Multi Farm",
          "Multi Farm",
          "Multi Farm",
          "Multi Farm",
          "Multi Farm",
          "Single Farm",
          "Single Farm",
          "Group Of Small Farms",
          "Group Of Small Farms",
          "Multi Farm",
          "Multi Farm",
          "Multi Farm",
          "Multi Farm",
          "Multi Farm",
          "Group Of Mixed Farms",
          "Multi Farm",
          "Multi Farm",
          "Single Farm",
          "Multi Farm",
          "Multi Farm",
          "Group Of Mixed Farms",
          "Multi Farm",
          "Group Of Mixed Farms",
          "Group Of Mixed Farms",
          "Multi Farm",
          "Multi Farm",
          "Single Farm",
          "Single Farm",
          "Single Farm",
          "Multi Farm",
          "Multi Farm",
          "Single Farm",
          "Single Farm",
          "Multi Farm",
          "Multi Farm",
          "Group Of Mixed Farms",
          "Single Farm",
          "Single Farm",
          "Multi Farm",
          "Multi Farm",
          "Multi Farm",
          "Multi Farm",
          "Single Farm",
          "Multi Farm",
          "Multi Farm",
          "Group Of Small Farms",
          "Multi Farm",
          "Multi Farm",
          "Single Farm",
          "Group Of Mixed Farms",
          "Multi Farm",
          "Multi Farm",
          "Single Farm",
          "Multi Farm",
          "Single Farm",
          "Multi Farm",
          "Group Of Mixed Farms",
          "Multi Farm",
          "Single Farm",
          "Single Farm",
          "Single Farm",
          "Single Farm",
          "Single Farm",
          "Group Of Mixed Farms",
          "Single Farm",
          "Single Farm",
          "Multi Farm",
          "Single Farm",
          "Group Of Mixed Farms",
          "Multi Farm",
          "Single Farm",
          "Multi Farm",
          "Single Farm",
          "Single Farm",
          "Group Of Mixed Farms",
          "Group Of Mixed Farms",
          "Group Of Small Farms",
          "Multi Farm",
          "Single Farm",
          "Single Farm",
          "Single Farm",
          "Single Farm",
          "Multi Farm",
          "Single Farm",
          "Multi Farm",
          "Single Farm",
          "Multi Farm",
          "Single Farm",
          "Single Farm",
          "Single Farm",
          "Multi Farm",
          "Multi Farm",
          "Multi Farm",
          "Single Farm",
          "Single Farm",
          "Multi Farm",
          "Single Farm",
          "Single Farm",
          "Single Farm",
          "Multi Farm",
          "Multi Farm",
          "Group Of Small Farms",
          "Single Farm",
          "Multi Farm",
          "Group Of Small Farms",
          "Multi Farm",
          "Group Of Small Farms",
          "Group Of Small Farms",
          "Multi Farm",
          "Multi Farm",
          "Single Farm",
          "Single Farm",
          "Single Farm",
          "Multi Farm",
          "Multi Farm",
          "Single Farm",
          "Multi Farm",
          "Single Farm",
          "Single Farm",
          "Multi Farm",
          "Single Farm",
          "Single Farm",
          "Single Farm",
          "Multi Farm",
          "Multi Farm",
          "Multi Farm",
          "Group Of Mixed Farms",
          "Group Of Mixed Farms",
          "Group Of Mixed Farms",
          "Group Of Small Farms",
          "Multi Farm",
          "Multi Farm",
          "Multi Farm",
          "Single Farm",
          "Multi Farm",
          "Single Farm",
          "Single Farm",
          "Multi Farm",
          "Multi Farm",
          "Multi Farm",
          "Single Farm",
          "Multi Farm",
          "Multi Farm",
          "Group Of Mixed Farms",
          "Multi Farm",
          "Single Farm",
          "Multi Farm",
          "Single Farm",
          "Multi Farm",
          "Multi Farm",
          "Multi Farm",
          "Multi Farm",
          "Multi Farm",
          "Single Farm",
          "Single Farm",
          "Multi Farm",
          "Group Of Small Farms",
          "Multi Farm",
          "Single Farm",
          "Single Farm",
          "Single Farm",
          "Single Farm",
          "Multi Farm",
          "Multi Farm",
          "Multi Farm",
          "Group Of Small Farms",
          "Single Farm",
          "Multi Farm",
          "Single Farm",
          "Multi Farm",
          "Single Farm",
          "Single Farm",
          "Multi Farm",
          "Single Farm",
          "Multi Farm",
          "Single Farm",
          "Multi Farm",
          "Single Farm",
          "Group Of Small Farms",
          "Single Farm",
          "Multi Farm",
          "Group Of Small Farms",
          "Group Of Mixed Farms",
          "Single Farm",
          "Single Farm",
          "Multi Farm",
          "Multi Farm",
          "Multi Farm",
          "Multi Farm",
          "Multi Farm",
          "Single Farm",
          "Multi Farm",
          "Multi Farm",
          "Single Farm",
          "Group Of Mixed Farms",
          "Group Of Small Farms",
          "Single Farm",
          "Single Farm",
          "Multi Farm",
          "Group Of Mixed Farms",
          "Multi Farm",
          "Multi Farm",
          "Multi Farm",
          "Single Farm",
          "Single Farm",
          "Multi Farm",
          "Multi Farm",
          "Multi Farm",
          "Multi Farm",
          "Multi Farm",
          "Single Farm",
          "Multi Farm",
          "Multi Farm",
          "Single Farm",
          "Single Farm",
          "Multi Farm",
          "Single Farm",
          "Multi Farm",
          "Single Farm",
          "Multi Farm",
          "Single Farm",
          "Single Farm",
          "Single Farm",
          "Multi Farm",
          "Multi Farm",
          "Multi Farm",
          "Multi Farm",
          "Single Farm",
          "Single Farm",
          "Multi Farm",
          "Single Farm",
          "Single Farm",
          "Multi Farm"
         ],
         "xaxis": "x",
         "yaxis": "y"
        },
        {
         "alignmentgroup": "True",
         "bingroup": "x",
         "hovertemplate": "Country=Country C<br>Year Issued=2023<br>Certificate Type=%{x}<br>count=%{y}<extra></extra>",
         "legendgroup": "Country C",
         "marker": {
          "color": "#EF553B",
          "pattern": {
           "shape": ""
          }
         },
         "name": "Country C",
         "offsetgroup": "Country C",
         "orientation": "v",
         "showlegend": true,
         "type": "histogram",
         "x": [
          "Group Of Small Farms",
          "Group Of Small Farms",
          "Group Of Small Farms",
          "Group Of Small Farms",
          "Group Of Small Farms",
          "Group Of Small Farms",
          "Single Farm",
          "Group Of Small Farms",
          "Group Of Small Farms",
          "Group Of Small Farms",
          "Group Of Small Farms",
          "Single Farm",
          "Group Of Small Farms",
          "Group Of Small Farms",
          "Group Of Small Farms",
          "Group Of Small Farms",
          "Group Of Small Farms",
          "Group Of Small Farms",
          "Group Of Small Farms",
          "Group Of Small Farms",
          "Group Of Small Farms",
          "Group Of Small Farms",
          "Group Of Small Farms",
          "Group Of Small Farms",
          "Group Of Small Farms",
          "Group Of Small Farms",
          "Group Of Small Farms",
          "Group Of Small Farms",
          "Group Of Small Farms",
          "Group Of Small Farms",
          "Group Of Small Farms",
          "Group Of Small Farms",
          "Group Of Small Farms",
          "Group Of Small Farms",
          "Group Of Small Farms",
          "Group Of Small Farms",
          "Group Of Small Farms",
          "Group Of Small Farms",
          "Group Of Small Farms",
          "Group Of Small Farms",
          "Group Of Small Farms",
          "Group Of Small Farms",
          "Group Of Small Farms",
          "Group Of Small Farms",
          "Group Of Small Farms",
          "Multi Farm",
          "Group Of Small Farms",
          "Group Of Small Farms",
          "Group Of Small Farms",
          "Group Of Small Farms",
          "Group Of Small Farms",
          "Group Of Small Farms",
          "Group Of Small Farms",
          "Group Of Small Farms",
          "Group Of Small Farms",
          "Group Of Small Farms",
          "Group Of Small Farms",
          "Group Of Small Farms",
          "Group Of Small Farms",
          "Group Of Small Farms",
          "Group Of Small Farms",
          "Group Of Small Farms",
          "Group Of Small Farms",
          "Single Farm",
          "Group Of Small Farms",
          "Group Of Small Farms",
          "Group Of Small Farms",
          "Group Of Small Farms",
          "Group Of Small Farms",
          "Group Of Small Farms",
          "Group Of Small Farms",
          "Group Of Small Farms",
          "Group Of Small Farms",
          "Group Of Small Farms"
         ],
         "xaxis": "x",
         "yaxis": "y"
        },
        {
         "alignmentgroup": "True",
         "bingroup": "x",
         "hovertemplate": "Country=Country D<br>Year Issued=2023<br>Certificate Type=%{x}<br>count=%{y}<extra></extra>",
         "legendgroup": "Country D",
         "marker": {
          "color": "#00cc96",
          "pattern": {
           "shape": ""
          }
         },
         "name": "Country D",
         "offsetgroup": "Country D",
         "orientation": "v",
         "showlegend": true,
         "type": "histogram",
         "x": [
          "Group Of Small Farms",
          "Single Farm",
          "Multi Farm",
          "Group Of Mixed Farms",
          "Group Of Small Farms",
          "Single Farm",
          "Single Farm",
          "Single Farm",
          "Group Of Small Farms",
          "Group Of Small Farms",
          "Single Farm",
          "Group Of Small Farms",
          "Group Of Mixed Farms",
          "Group Of Mixed Farms"
         ],
         "xaxis": "x",
         "yaxis": "y"
        },
        {
         "alignmentgroup": "True",
         "bingroup": "x",
         "hovertemplate": "Country=Country A<br>Year Issued=2023<br>Certificate Type=%{x}<br>count=%{y}<extra></extra>",
         "legendgroup": "Country A",
         "marker": {
          "color": "#ab63fa",
          "pattern": {
           "shape": ""
          }
         },
         "name": "Country A",
         "offsetgroup": "Country A",
         "orientation": "v",
         "showlegend": true,
         "type": "histogram",
         "x": [
          "Group Of Small Farms",
          "Group Of Small Farms",
          "Multi Farm",
          "Group Of Small Farms",
          "Group Of Small Farms",
          "Group Of Small Farms",
          "Multi Farm",
          "Multi Farm",
          "Group Of Small Farms",
          "Group Of Small Farms",
          "Group Of Small Farms",
          "Group Of Small Farms",
          "Group Of Small Farms",
          "Group Of Small Farms",
          "Multi Farm",
          "Group Of Small Farms",
          "Group Of Small Farms",
          "Group Of Small Farms",
          "Group Of Small Farms",
          "Group Of Small Farms",
          "Group Of Small Farms",
          "Group Of Small Farms",
          "Group Of Small Farms",
          "Group Of Small Farms",
          "Group Of Small Farms",
          "Group Of Small Farms",
          "Group Of Small Farms",
          "Group Of Small Farms",
          "Multi Farm",
          "Multi Farm",
          "Group Of Small Farms",
          "Group Of Small Farms",
          "Group Of Small Farms",
          "Group Of Small Farms",
          "Single Farm",
          "Group Of Small Farms",
          "Group Of Small Farms",
          "Group Of Small Farms",
          "Group Of Small Farms",
          "Group Of Small Farms",
          "Single Farm",
          "Single Farm",
          "Group Of Small Farms",
          "Group Of Small Farms",
          "Group Of Small Farms",
          "Group Of Small Farms",
          "Group Of Small Farms",
          "Group Of Small Farms",
          "Group Of Small Farms",
          "Group Of Small Farms",
          "Group Of Small Farms",
          "Group Of Small Farms",
          "Group Of Small Farms",
          "Group Of Small Farms",
          "Group Of Small Farms",
          "Group Of Small Farms",
          "Group Of Small Farms",
          "Group Of Small Farms",
          "Group Of Small Farms",
          "Group Of Small Farms",
          "Group Of Small Farms",
          "Group Of Small Farms",
          "Group Of Small Farms",
          "Group Of Small Farms",
          "Group Of Mixed Farms",
          "Group Of Small Farms",
          "Group Of Small Farms",
          "Group Of Small Farms",
          "Group Of Small Farms",
          "Group Of Small Farms",
          "Single Farm",
          "Group Of Small Farms",
          "Group Of Small Farms",
          "Group Of Small Farms",
          "Group Of Small Farms",
          "Group Of Small Farms",
          "Group Of Small Farms",
          "Group Of Small Farms",
          "Multi Farm",
          "Single Farm",
          "Single Farm",
          "Group Of Small Farms",
          "Group Of Small Farms",
          "Group Of Small Farms",
          "Group Of Small Farms",
          "Group Of Small Farms",
          "Group Of Small Farms",
          "Group Of Small Farms"
         ],
         "xaxis": "x",
         "yaxis": "y"
        }
       ],
       "frames": [
        {
         "data": [
          {
           "alignmentgroup": "True",
           "bingroup": "x",
           "hovertemplate": "Country=Country B<br>Year Issued=2023<br>Certificate Type=%{x}<br>count=%{y}<extra></extra>",
           "legendgroup": "Country B",
           "marker": {
            "color": "#636efa",
            "pattern": {
             "shape": ""
            }
           },
           "name": "Country B",
           "offsetgroup": "Country B",
           "orientation": "v",
           "showlegend": true,
           "type": "histogram",
           "x": [
            "Multi Farm",
            "Multi Farm",
            "Multi Farm",
            "Multi Farm",
            "Multi Farm",
            "Multi Farm",
            "Multi Farm",
            "Group Of Small Farms",
            "Single Farm",
            "Single Farm",
            "Single Farm",
            "Multi Farm",
            "Multi Farm",
            "Multi Farm",
            "Group Of Mixed Farms",
            "Multi Farm",
            "Group Of Mixed Farms",
            "Single Farm",
            "Single Farm",
            "Multi Farm",
            "Single Farm",
            "Single Farm",
            "Multi Farm",
            "Multi Farm",
            "Multi Farm",
            "Multi Farm",
            "Single Farm",
            "Single Farm",
            "Multi Farm",
            "Multi Farm",
            "Multi Farm",
            "Multi Farm",
            "Single Farm",
            "Multi Farm",
            "Multi Farm",
            "Multi Farm",
            "Single Farm",
            "Multi Farm",
            "Multi Farm",
            "Multi Farm",
            "Multi Farm",
            "Single Farm",
            "Single Farm",
            "Multi Farm",
            "Multi Farm",
            "Group Of Small Farms",
            "Multi Farm",
            "Multi Farm",
            "Multi Farm",
            "Group Of Mixed Farms",
            "Single Farm",
            "Multi Farm",
            "Single Farm",
            "Multi Farm",
            "Multi Farm",
            "Multi Farm",
            "Multi Farm",
            "Multi Farm",
            "Single Farm",
            "Single Farm",
            "Group Of Small Farms",
            "Group Of Small Farms",
            "Multi Farm",
            "Multi Farm",
            "Multi Farm",
            "Multi Farm",
            "Multi Farm",
            "Group Of Mixed Farms",
            "Multi Farm",
            "Multi Farm",
            "Single Farm",
            "Multi Farm",
            "Multi Farm",
            "Group Of Mixed Farms",
            "Multi Farm",
            "Group Of Mixed Farms",
            "Group Of Mixed Farms",
            "Multi Farm",
            "Multi Farm",
            "Single Farm",
            "Single Farm",
            "Single Farm",
            "Multi Farm",
            "Multi Farm",
            "Single Farm",
            "Single Farm",
            "Multi Farm",
            "Multi Farm",
            "Group Of Mixed Farms",
            "Single Farm",
            "Single Farm",
            "Multi Farm",
            "Multi Farm",
            "Multi Farm",
            "Multi Farm",
            "Single Farm",
            "Multi Farm",
            "Multi Farm",
            "Group Of Small Farms",
            "Multi Farm",
            "Multi Farm",
            "Single Farm",
            "Group Of Mixed Farms",
            "Multi Farm",
            "Multi Farm",
            "Single Farm",
            "Multi Farm",
            "Single Farm",
            "Multi Farm",
            "Group Of Mixed Farms",
            "Multi Farm",
            "Single Farm",
            "Single Farm",
            "Single Farm",
            "Single Farm",
            "Single Farm",
            "Group Of Mixed Farms",
            "Single Farm",
            "Single Farm",
            "Multi Farm",
            "Single Farm",
            "Group Of Mixed Farms",
            "Multi Farm",
            "Single Farm",
            "Multi Farm",
            "Single Farm",
            "Single Farm",
            "Group Of Mixed Farms",
            "Group Of Mixed Farms",
            "Group Of Small Farms",
            "Multi Farm",
            "Single Farm",
            "Single Farm",
            "Single Farm",
            "Single Farm",
            "Multi Farm",
            "Single Farm",
            "Multi Farm",
            "Single Farm",
            "Multi Farm",
            "Single Farm",
            "Single Farm",
            "Single Farm",
            "Multi Farm",
            "Multi Farm",
            "Multi Farm",
            "Single Farm",
            "Single Farm",
            "Multi Farm",
            "Single Farm",
            "Single Farm",
            "Single Farm",
            "Multi Farm",
            "Multi Farm",
            "Group Of Small Farms",
            "Single Farm",
            "Multi Farm",
            "Group Of Small Farms",
            "Multi Farm",
            "Group Of Small Farms",
            "Group Of Small Farms",
            "Multi Farm",
            "Multi Farm",
            "Single Farm",
            "Single Farm",
            "Single Farm",
            "Multi Farm",
            "Multi Farm",
            "Single Farm",
            "Multi Farm",
            "Single Farm",
            "Single Farm",
            "Multi Farm",
            "Single Farm",
            "Single Farm",
            "Single Farm",
            "Multi Farm",
            "Multi Farm",
            "Multi Farm",
            "Group Of Mixed Farms",
            "Group Of Mixed Farms",
            "Group Of Mixed Farms",
            "Group Of Small Farms",
            "Multi Farm",
            "Multi Farm",
            "Multi Farm",
            "Single Farm",
            "Multi Farm",
            "Single Farm",
            "Single Farm",
            "Multi Farm",
            "Multi Farm",
            "Multi Farm",
            "Single Farm",
            "Multi Farm",
            "Multi Farm",
            "Group Of Mixed Farms",
            "Multi Farm",
            "Single Farm",
            "Multi Farm",
            "Single Farm",
            "Multi Farm",
            "Multi Farm",
            "Multi Farm",
            "Multi Farm",
            "Multi Farm",
            "Single Farm",
            "Single Farm",
            "Multi Farm",
            "Group Of Small Farms",
            "Multi Farm",
            "Single Farm",
            "Single Farm",
            "Single Farm",
            "Single Farm",
            "Multi Farm",
            "Multi Farm",
            "Multi Farm",
            "Group Of Small Farms",
            "Single Farm",
            "Multi Farm",
            "Single Farm",
            "Multi Farm",
            "Single Farm",
            "Single Farm",
            "Multi Farm",
            "Single Farm",
            "Multi Farm",
            "Single Farm",
            "Multi Farm",
            "Single Farm",
            "Group Of Small Farms",
            "Single Farm",
            "Multi Farm",
            "Group Of Small Farms",
            "Group Of Mixed Farms",
            "Single Farm",
            "Single Farm",
            "Multi Farm",
            "Multi Farm",
            "Multi Farm",
            "Multi Farm",
            "Multi Farm",
            "Single Farm",
            "Multi Farm",
            "Multi Farm",
            "Single Farm",
            "Group Of Mixed Farms",
            "Group Of Small Farms",
            "Single Farm",
            "Single Farm",
            "Multi Farm",
            "Group Of Mixed Farms",
            "Multi Farm",
            "Multi Farm",
            "Multi Farm",
            "Single Farm",
            "Single Farm",
            "Multi Farm",
            "Multi Farm",
            "Multi Farm",
            "Multi Farm",
            "Multi Farm",
            "Single Farm",
            "Multi Farm",
            "Multi Farm",
            "Single Farm",
            "Single Farm",
            "Multi Farm",
            "Single Farm",
            "Multi Farm",
            "Single Farm",
            "Multi Farm",
            "Single Farm",
            "Single Farm",
            "Single Farm",
            "Multi Farm",
            "Multi Farm",
            "Multi Farm",
            "Multi Farm",
            "Single Farm",
            "Single Farm",
            "Multi Farm",
            "Single Farm",
            "Single Farm",
            "Multi Farm"
           ],
           "xaxis": "x",
           "yaxis": "y"
          },
          {
           "alignmentgroup": "True",
           "bingroup": "x",
           "hovertemplate": "Country=Country C<br>Year Issued=2023<br>Certificate Type=%{x}<br>count=%{y}<extra></extra>",
           "legendgroup": "Country C",
           "marker": {
            "color": "#EF553B",
            "pattern": {
             "shape": ""
            }
           },
           "name": "Country C",
           "offsetgroup": "Country C",
           "orientation": "v",
           "showlegend": true,
           "type": "histogram",
           "x": [
            "Group Of Small Farms",
            "Group Of Small Farms",
            "Group Of Small Farms",
            "Group Of Small Farms",
            "Group Of Small Farms",
            "Group Of Small Farms",
            "Single Farm",
            "Group Of Small Farms",
            "Group Of Small Farms",
            "Group Of Small Farms",
            "Group Of Small Farms",
            "Single Farm",
            "Group Of Small Farms",
            "Group Of Small Farms",
            "Group Of Small Farms",
            "Group Of Small Farms",
            "Group Of Small Farms",
            "Group Of Small Farms",
            "Group Of Small Farms",
            "Group Of Small Farms",
            "Group Of Small Farms",
            "Group Of Small Farms",
            "Group Of Small Farms",
            "Group Of Small Farms",
            "Group Of Small Farms",
            "Group Of Small Farms",
            "Group Of Small Farms",
            "Group Of Small Farms",
            "Group Of Small Farms",
            "Group Of Small Farms",
            "Group Of Small Farms",
            "Group Of Small Farms",
            "Group Of Small Farms",
            "Group Of Small Farms",
            "Group Of Small Farms",
            "Group Of Small Farms",
            "Group Of Small Farms",
            "Group Of Small Farms",
            "Group Of Small Farms",
            "Group Of Small Farms",
            "Group Of Small Farms",
            "Group Of Small Farms",
            "Group Of Small Farms",
            "Group Of Small Farms",
            "Group Of Small Farms",
            "Multi Farm",
            "Group Of Small Farms",
            "Group Of Small Farms",
            "Group Of Small Farms",
            "Group Of Small Farms",
            "Group Of Small Farms",
            "Group Of Small Farms",
            "Group Of Small Farms",
            "Group Of Small Farms",
            "Group Of Small Farms",
            "Group Of Small Farms",
            "Group Of Small Farms",
            "Group Of Small Farms",
            "Group Of Small Farms",
            "Group Of Small Farms",
            "Group Of Small Farms",
            "Group Of Small Farms",
            "Group Of Small Farms",
            "Single Farm",
            "Group Of Small Farms",
            "Group Of Small Farms",
            "Group Of Small Farms",
            "Group Of Small Farms",
            "Group Of Small Farms",
            "Group Of Small Farms",
            "Group Of Small Farms",
            "Group Of Small Farms",
            "Group Of Small Farms",
            "Group Of Small Farms"
           ],
           "xaxis": "x",
           "yaxis": "y"
          },
          {
           "alignmentgroup": "True",
           "bingroup": "x",
           "hovertemplate": "Country=Country D<br>Year Issued=2023<br>Certificate Type=%{x}<br>count=%{y}<extra></extra>",
           "legendgroup": "Country D",
           "marker": {
            "color": "#00cc96",
            "pattern": {
             "shape": ""
            }
           },
           "name": "Country D",
           "offsetgroup": "Country D",
           "orientation": "v",
           "showlegend": true,
           "type": "histogram",
           "x": [
            "Group Of Small Farms",
            "Single Farm",
            "Multi Farm",
            "Group Of Mixed Farms",
            "Group Of Small Farms",
            "Single Farm",
            "Single Farm",
            "Single Farm",
            "Group Of Small Farms",
            "Group Of Small Farms",
            "Single Farm",
            "Group Of Small Farms",
            "Group Of Mixed Farms",
            "Group Of Mixed Farms"
           ],
           "xaxis": "x",
           "yaxis": "y"
          },
          {
           "alignmentgroup": "True",
           "bingroup": "x",
           "hovertemplate": "Country=Country A<br>Year Issued=2023<br>Certificate Type=%{x}<br>count=%{y}<extra></extra>",
           "legendgroup": "Country A",
           "marker": {
            "color": "#ab63fa",
            "pattern": {
             "shape": ""
            }
           },
           "name": "Country A",
           "offsetgroup": "Country A",
           "orientation": "v",
           "showlegend": true,
           "type": "histogram",
           "x": [
            "Group Of Small Farms",
            "Group Of Small Farms",
            "Multi Farm",
            "Group Of Small Farms",
            "Group Of Small Farms",
            "Group Of Small Farms",
            "Multi Farm",
            "Multi Farm",
            "Group Of Small Farms",
            "Group Of Small Farms",
            "Group Of Small Farms",
            "Group Of Small Farms",
            "Group Of Small Farms",
            "Group Of Small Farms",
            "Multi Farm",
            "Group Of Small Farms",
            "Group Of Small Farms",
            "Group Of Small Farms",
            "Group Of Small Farms",
            "Group Of Small Farms",
            "Group Of Small Farms",
            "Group Of Small Farms",
            "Group Of Small Farms",
            "Group Of Small Farms",
            "Group Of Small Farms",
            "Group Of Small Farms",
            "Group Of Small Farms",
            "Group Of Small Farms",
            "Multi Farm",
            "Multi Farm",
            "Group Of Small Farms",
            "Group Of Small Farms",
            "Group Of Small Farms",
            "Group Of Small Farms",
            "Single Farm",
            "Group Of Small Farms",
            "Group Of Small Farms",
            "Group Of Small Farms",
            "Group Of Small Farms",
            "Group Of Small Farms",
            "Single Farm",
            "Single Farm",
            "Group Of Small Farms",
            "Group Of Small Farms",
            "Group Of Small Farms",
            "Group Of Small Farms",
            "Group Of Small Farms",
            "Group Of Small Farms",
            "Group Of Small Farms",
            "Group Of Small Farms",
            "Group Of Small Farms",
            "Group Of Small Farms",
            "Group Of Small Farms",
            "Group Of Small Farms",
            "Group Of Small Farms",
            "Group Of Small Farms",
            "Group Of Small Farms",
            "Group Of Small Farms",
            "Group Of Small Farms",
            "Group Of Small Farms",
            "Group Of Small Farms",
            "Group Of Small Farms",
            "Group Of Small Farms",
            "Group Of Small Farms",
            "Group Of Mixed Farms",
            "Group Of Small Farms",
            "Group Of Small Farms",
            "Group Of Small Farms",
            "Group Of Small Farms",
            "Group Of Small Farms",
            "Single Farm",
            "Group Of Small Farms",
            "Group Of Small Farms",
            "Group Of Small Farms",
            "Group Of Small Farms",
            "Group Of Small Farms",
            "Group Of Small Farms",
            "Group Of Small Farms",
            "Multi Farm",
            "Single Farm",
            "Single Farm",
            "Group Of Small Farms",
            "Group Of Small Farms",
            "Group Of Small Farms",
            "Group Of Small Farms",
            "Group Of Small Farms",
            "Group Of Small Farms",
            "Group Of Small Farms"
           ],
           "xaxis": "x",
           "yaxis": "y"
          }
         ],
         "name": "2023"
        },
        {
         "data": [
          {
           "alignmentgroup": "True",
           "bingroup": "x",
           "hovertemplate": "Country=Country B<br>Year Issued=2022<br>Certificate Type=%{x}<br>count=%{y}<extra></extra>",
           "legendgroup": "Country B",
           "marker": {
            "color": "#636efa",
            "pattern": {
             "shape": ""
            }
           },
           "name": "Country B",
           "offsetgroup": "Country B",
           "orientation": "v",
           "showlegend": true,
           "type": "histogram",
           "x": [
            "Multi Farm",
            "Group Of Mixed Farms",
            "Group Of Small Farms",
            "Multi Farm",
            "Multi Farm",
            "Group Of Mixed Farms",
            "Group Of Small Farms",
            "Single Farm",
            "Single Farm",
            "Group Of Small Farms",
            "Single Farm",
            "Group Of Mixed Farms",
            "Multi Farm",
            "Multi Farm",
            "Group Of Mixed Farms",
            "Single Farm",
            "Group Of Mixed Farms",
            "Single Farm",
            "Multi Farm",
            "Single Farm",
            "Multi Farm",
            "Multi Farm",
            "Multi Farm",
            "Multi Farm",
            "Single Farm",
            "Single Farm",
            "Multi Farm",
            "Multi Farm",
            "Group Of Mixed Farms",
            "Single Farm",
            "Group Of Mixed Farms",
            "Single Farm",
            "Single Farm",
            "Single Farm",
            "Group Of Mixed Farms",
            "Group Of Small Farms",
            "Multi Farm",
            "Single Farm",
            "Multi Farm",
            "Multi Farm",
            "Single Farm",
            "Single Farm",
            "Single Farm",
            "Multi Farm",
            "Multi Farm",
            "Group Of Small Farms",
            "Multi Farm",
            "Single Farm",
            "Single Farm",
            "Single Farm",
            "Group Of Mixed Farms",
            "Multi Farm",
            "Group Of Mixed Farms",
            "Single Farm",
            "Group Of Small Farms",
            "Single Farm",
            "Multi Farm",
            "Group Of Mixed Farms",
            "Multi Farm",
            "Multi Farm",
            "Multi Farm",
            "Single Farm",
            "Group Of Small Farms",
            "Group Of Small Farms",
            "Single Farm",
            "Multi Farm",
            "Group Of Mixed Farms",
            "Group Of Mixed Farms",
            "Multi Farm",
            "Multi Farm",
            "Group Of Mixed Farms",
            "Group Of Mixed Farms",
            "Multi Farm",
            "Multi Farm",
            "Group Of Mixed Farms",
            "Single Farm",
            "Group Of Mixed Farms",
            "Group Of Mixed Farms",
            "Single Farm",
            "Single Farm",
            "Single Farm",
            "Multi Farm",
            "Single Farm",
            "Single Farm",
            "Group Of Mixed Farms",
            "Group Of Mixed Farms",
            "Group Of Small Farms",
            "Single Farm",
            "Single Farm",
            "Group Of Small Farms",
            "Multi Farm",
            "Multi Farm",
            "Group Of Mixed Farms",
            "Single Farm",
            "Multi Farm",
            "Group Of Small Farms",
            "Group Of Small Farms",
            "Group Of Mixed Farms",
            "Group Of Mixed Farms",
            "Multi Farm",
            "Single Farm",
            "Group Of Mixed Farms",
            "Group Of Mixed Farms",
            "Single Farm",
            "Single Farm",
            "Group Of Mixed Farms",
            "Single Farm",
            "Group Of Mixed Farms",
            "Single Farm",
            "Single Farm",
            "Single Farm",
            "Group Of Small Farms",
            "Single Farm",
            "Single Farm",
            "Single Farm",
            "Single Farm",
            "Group Of Mixed Farms",
            "Single Farm",
            "Single Farm",
            "Single Farm",
            "Multi Farm",
            "Group Of Mixed Farms",
            "Single Farm",
            "Group Of Mixed Farms",
            "Multi Farm",
            "Multi Farm",
            "Group Of Mixed Farms",
            "Single Farm",
            "Single Farm",
            "Group Of Mixed Farms",
            "Group Of Mixed Farms",
            "Group Of Mixed Farms",
            "Single Farm",
            "Single Farm",
            "Single Farm",
            "Group Of Mixed Farms",
            "Single Farm",
            "Group Of Mixed Farms",
            "Single Farm",
            "Multi Farm",
            "Single Farm",
            "Single Farm",
            "Group Of Small Farms",
            "Multi Farm",
            "Multi Farm",
            "Single Farm",
            "Single Farm",
            "Multi Farm",
            "Single Farm",
            "Single Farm",
            "Multi Farm",
            "Single Farm",
            "Group Of Small Farms",
            "Group Of Mixed Farms",
            "Multi Farm",
            "Group Of Small Farms",
            "Group Of Small Farms",
            "Single Farm",
            "Group Of Mixed Farms",
            "Group Of Mixed Farms",
            "Group Of Mixed Farms",
            "Group Of Small Farms",
            "Single Farm",
            "Group Of Small Farms",
            "Group Of Mixed Farms",
            "Multi Farm",
            "Group Of Mixed Farms",
            "Single Farm",
            "Single Farm",
            "Single Farm",
            "Group Of Mixed Farms",
            "Multi Farm",
            "Single Farm",
            "Group Of Small Farms",
            "Multi Farm",
            "Single Farm",
            "Group Of Mixed Farms",
            "Group Of Mixed Farms",
            "Single Farm",
            "Single Farm",
            "Multi Farm",
            "Multi Farm",
            "Multi Farm",
            "Group Of Mixed Farms",
            "Group Of Mixed Farms",
            "Multi Farm",
            "Single Farm",
            "Group Of Small Farms",
            "Group Of Small Farms",
            "Group Of Small Farms",
            "Group Of Mixed Farms",
            "Single Farm",
            "Group Of Mixed Farms",
            "Group Of Small Farms",
            "Group Of Mixed Farms",
            "Group Of Mixed Farms",
            "Single Farm",
            "Multi Farm",
            "Multi Farm",
            "Group Of Mixed Farms",
            "Group Of Mixed Farms",
            "Multi Farm",
            "Multi Farm",
            "Single Farm",
            "Single Farm",
            "Single Farm",
            "Multi Farm",
            "Single Farm",
            "Group Of Mixed Farms",
            "Group Of Small Farms",
            "Group Of Small Farms",
            "Single Farm",
            "Single Farm",
            "Group Of Mixed Farms",
            "Single Farm",
            "Multi Farm",
            "Group Of Small Farms",
            "Group Of Mixed Farms",
            "Group Of Mixed Farms",
            "Group Of Small Farms",
            "Single Farm",
            "Multi Farm",
            "Single Farm",
            "Multi Farm",
            "Single Farm",
            "Single Farm",
            "Single Farm",
            "Multi Farm",
            "Single Farm",
            "Single Farm",
            "Single Farm",
            "Single Farm",
            "Group Of Mixed Farms",
            "Group Of Mixed Farms",
            "Group Of Small Farms",
            "Single Farm",
            "Single Farm",
            "Multi Farm",
            "Single Farm",
            "Multi Farm",
            "Single Farm",
            "Group Of Small Farms",
            "Group Of Small Farms",
            "Group Of Mixed Farms",
            "Group Of Small Farms",
            "Single Farm",
            "Single Farm",
            "Single Farm",
            "Single Farm",
            "Single Farm",
            "Group Of Small Farms",
            "Multi Farm",
            "Group Of Small Farms",
            "Group Of Small Farms",
            "Group Of Mixed Farms",
            "Group Of Mixed Farms",
            "Single Farm",
            "Group Of Small Farms",
            "Single Farm",
            "Multi Farm",
            "Multi Farm",
            "Multi Farm",
            "Group Of Small Farms",
            "Multi Farm",
            "Single Farm",
            "Multi Farm",
            "Single Farm",
            "Single Farm",
            "Multi Farm",
            "Single Farm",
            "Multi Farm",
            "Single Farm",
            "Single Farm",
            "Single Farm",
            "Multi Farm",
            "Multi Farm",
            "Multi Farm",
            "Single Farm",
            "Group Of Mixed Farms",
            "Single Farm",
            "Group Of Mixed Farms",
            "Single Farm",
            "Single Farm",
            "Multi Farm"
           ],
           "xaxis": "x",
           "yaxis": "y"
          },
          {
           "alignmentgroup": "True",
           "bingroup": "x",
           "hovertemplate": "Country=Country C<br>Year Issued=2022<br>Certificate Type=%{x}<br>count=%{y}<extra></extra>",
           "legendgroup": "Country C",
           "marker": {
            "color": "#EF553B",
            "pattern": {
             "shape": ""
            }
           },
           "name": "Country C",
           "offsetgroup": "Country C",
           "orientation": "v",
           "showlegend": true,
           "type": "histogram",
           "x": [
            "Group Of Small Farms",
            "Group Of Small Farms",
            "Group Of Small Farms",
            "Group Of Small Farms",
            "Single Farm",
            "Group Of Small Farms",
            "Group Of Small Farms",
            "Group Of Small Farms",
            "Single Farm",
            "Group Of Small Farms",
            "Group Of Small Farms",
            "Group Of Small Farms",
            "Group Of Small Farms",
            "Single Farm",
            "Group Of Small Farms",
            "Group Of Small Farms",
            "Group Of Small Farms",
            "Group Of Small Farms",
            "Group Of Small Farms",
            "Group Of Small Farms",
            "Group Of Small Farms",
            "Group Of Small Farms",
            "Group Of Small Farms",
            "Group Of Small Farms",
            "Group Of Small Farms",
            "Group Of Small Farms",
            "Group Of Small Farms",
            "Group Of Small Farms",
            "Group Of Small Farms",
            "Group Of Small Farms",
            "Group Of Small Farms",
            "Group Of Small Farms",
            "Group Of Small Farms",
            "Group Of Small Farms",
            "Group Of Small Farms",
            "Group Of Small Farms",
            "Group Of Small Farms",
            "Group Of Small Farms",
            "Group Of Small Farms",
            "Single Farm",
            "Group Of Small Farms",
            "Single Farm",
            "Group Of Small Farms",
            "Group Of Small Farms",
            "Group Of Small Farms",
            "Group Of Small Farms",
            "Multi Farm",
            "Group Of Small Farms",
            "Group Of Small Farms",
            "Group Of Small Farms",
            "Group Of Small Farms",
            "Group Of Small Farms",
            "Group Of Small Farms",
            "Group Of Small Farms",
            "Group Of Small Farms",
            "Group Of Small Farms",
            "Group Of Small Farms",
            "Group Of Mixed Farms",
            "Group Of Small Farms",
            "Group Of Small Farms",
            "Group Of Small Farms",
            "Group Of Mixed Farms",
            "Group Of Small Farms",
            "Group Of Small Farms",
            "Group Of Small Farms",
            "Group Of Small Farms",
            "Group Of Small Farms",
            "Group Of Small Farms",
            "Group Of Small Farms",
            "Group Of Small Farms",
            "Group Of Small Farms",
            "Group Of Small Farms",
            "Group Of Small Farms",
            "Group Of Small Farms",
            "Group Of Small Farms",
            "Group Of Small Farms",
            "Group Of Small Farms",
            "Group Of Small Farms",
            "Group Of Small Farms",
            "Group Of Small Farms"
           ],
           "xaxis": "x",
           "yaxis": "y"
          },
          {
           "alignmentgroup": "True",
           "bingroup": "x",
           "hovertemplate": "Country=Country D<br>Year Issued=2022<br>Certificate Type=%{x}<br>count=%{y}<extra></extra>",
           "legendgroup": "Country D",
           "marker": {
            "color": "#00cc96",
            "pattern": {
             "shape": ""
            }
           },
           "name": "Country D",
           "offsetgroup": "Country D",
           "orientation": "v",
           "showlegend": true,
           "type": "histogram",
           "x": [
            "Group Of Small Farms",
            "Single Farm",
            "Multi Farm",
            "Group Of Small Farms",
            "Group Of Small Farms",
            "Group Of Small Farms",
            "Single Farm",
            "Single Farm",
            "Single Farm",
            "Group Of Small Farms",
            "Group Of Small Farms",
            "Multi Farm",
            "Group Of Small Farms",
            "Single Farm"
           ],
           "xaxis": "x",
           "yaxis": "y"
          },
          {
           "alignmentgroup": "True",
           "bingroup": "x",
           "hovertemplate": "Country=Country A<br>Year Issued=2022<br>Certificate Type=%{x}<br>count=%{y}<extra></extra>",
           "legendgroup": "Country A",
           "marker": {
            "color": "#ab63fa",
            "pattern": {
             "shape": ""
            }
           },
           "name": "Country A",
           "offsetgroup": "Country A",
           "orientation": "v",
           "showlegend": true,
           "type": "histogram",
           "x": [
            "Group Of Small Farms",
            "Single Farm",
            "Group Of Small Farms",
            "Multi Farm",
            "Group Of Small Farms",
            "Single Farm",
            "Group Of Small Farms",
            "Group Of Small Farms",
            "Group Of Small Farms",
            "Group Of Small Farms",
            "Group Of Small Farms",
            "Group Of Mixed Farms",
            "Single Farm",
            "Group Of Small Farms",
            "Group Of Small Farms",
            "Group Of Small Farms",
            "Group Of Small Farms",
            "Group Of Small Farms",
            "Group Of Small Farms",
            "Group Of Mixed Farms",
            "Single Farm",
            "Group Of Small Farms",
            "Group Of Small Farms",
            "Group Of Small Farms",
            "Group Of Small Farms",
            "Group Of Small Farms",
            "Group Of Small Farms",
            "Group Of Small Farms",
            "Single Farm",
            "Group Of Small Farms",
            "Group Of Small Farms",
            "Group Of Small Farms",
            "Group Of Small Farms",
            "Group Of Small Farms",
            "Group Of Small Farms",
            "Group Of Small Farms",
            "Group Of Small Farms",
            "Multi Farm",
            "Single Farm",
            "Group Of Small Farms",
            "Group Of Small Farms",
            "Group Of Small Farms",
            "Group Of Small Farms",
            "Group Of Small Farms",
            "Group Of Small Farms",
            "Group Of Small Farms",
            "Group Of Small Farms",
            "Single Farm",
            "Group Of Small Farms",
            "Group Of Small Farms",
            "Group Of Small Farms",
            "Single Farm",
            "Group Of Small Farms",
            "Single Farm",
            "Multi Farm",
            "Group Of Small Farms",
            "Group Of Small Farms",
            "Group Of Small Farms",
            "Group Of Small Farms",
            "Group Of Small Farms",
            "Group Of Small Farms",
            "Group Of Small Farms",
            "Group Of Small Farms",
            "Group Of Small Farms",
            "Group Of Small Farms",
            "Group Of Small Farms",
            "Group Of Small Farms",
            "Group Of Small Farms",
            "Group Of Small Farms",
            "Single Farm",
            "Group Of Small Farms",
            "Group Of Small Farms",
            "Group Of Small Farms",
            "Group Of Small Farms",
            "Group Of Small Farms",
            "Group Of Mixed Farms",
            "Group Of Small Farms",
            "Group Of Small Farms",
            "Group Of Small Farms",
            "Group Of Small Farms",
            "Group Of Small Farms",
            "Group Of Small Farms",
            "Group Of Small Farms",
            "Group Of Small Farms",
            "Group Of Small Farms",
            "Group Of Small Farms",
            "Group Of Small Farms",
            "Group Of Small Farms",
            "Group Of Small Farms",
            "Group Of Small Farms",
            "Group Of Small Farms",
            "Single Farm",
            "Group Of Small Farms",
            "Group Of Small Farms",
            "Group Of Small Farms",
            "Multi Farm",
            "Group Of Small Farms",
            "Group Of Small Farms",
            "Group Of Small Farms",
            "Single Farm",
            "Group Of Small Farms",
            "Group Of Small Farms",
            "Group Of Small Farms",
            "Group Of Small Farms",
            "Group Of Small Farms",
            "Group Of Small Farms",
            "Group Of Small Farms"
           ],
           "xaxis": "x",
           "yaxis": "y"
          }
         ],
         "name": "2022"
        },
        {
         "data": [
          {
           "alignmentgroup": "True",
           "bingroup": "x",
           "hovertemplate": "Country=Country B<br>Year Issued=2021<br>Certificate Type=%{x}<br>count=%{y}<extra></extra>",
           "legendgroup": "Country B",
           "marker": {
            "color": "#636efa",
            "pattern": {
             "shape": ""
            }
           },
           "name": "Country B",
           "offsetgroup": "Country B",
           "orientation": "v",
           "showlegend": true,
           "type": "histogram",
           "x": [
            "Single Farm",
            "Group Of Small Farms",
            "Single Farm",
            "Multi Farm",
            "Multi Farm",
            "Multi Farm",
            "Group Of Small Farms",
            "Multi Farm",
            "Multi Farm",
            "Single Farm",
            "Group Of Small Farms",
            "Multi Farm",
            "Single Farm",
            "Single Farm",
            "Multi Farm",
            "Multi Farm",
            "Multi Farm",
            "Single Farm",
            "Single Farm",
            "Single Farm",
            "Single Farm",
            "Single Farm",
            "Multi Farm",
            "Multi Farm",
            "Group Of Small Farms",
            "Single Farm",
            "Group Of Small Farms"
           ],
           "xaxis": "x",
           "yaxis": "y"
          },
          {
           "alignmentgroup": "True",
           "bingroup": "x",
           "hovertemplate": "Country=Country C<br>Year Issued=2021<br>Certificate Type=%{x}<br>count=%{y}<extra></extra>",
           "legendgroup": "Country C",
           "marker": {
            "color": "#EF553B",
            "pattern": {
             "shape": ""
            }
           },
           "name": "Country C",
           "offsetgroup": "Country C",
           "orientation": "v",
           "showlegend": true,
           "type": "histogram",
           "x": [
            "Group Of Small Farms",
            "Group Of Small Farms",
            "Group Of Small Farms",
            "Single Farm",
            "Group Of Small Farms",
            "Group Of Small Farms",
            "Group Of Small Farms",
            "Group Of Small Farms",
            "Group Of Small Farms",
            "Single Farm",
            "Group Of Small Farms",
            "Group Of Small Farms",
            "Group Of Small Farms",
            "Group Of Small Farms",
            "Group Of Small Farms",
            "Group Of Small Farms",
            "Group Of Small Farms",
            "Group Of Small Farms",
            "Group Of Small Farms",
            "Group Of Small Farms",
            "Group Of Small Farms",
            "Group Of Small Farms",
            "Group Of Small Farms",
            "Group Of Small Farms",
            "Group Of Small Farms",
            "Group Of Small Farms",
            "Group Of Small Farms",
            "Group Of Small Farms",
            "Group Of Small Farms",
            "Group Of Small Farms",
            "Group Of Small Farms",
            "Group Of Small Farms",
            "Group Of Small Farms",
            "Single Farm",
            "Group Of Small Farms",
            "Group Of Small Farms",
            "Group Of Small Farms",
            "Group Of Small Farms",
            "Group Of Small Farms",
            "Group Of Small Farms",
            "Group Of Small Farms",
            "Group Of Small Farms",
            "Group Of Small Farms",
            "Group Of Small Farms",
            "Group Of Mixed Farms",
            "Group Of Small Farms",
            "Group Of Small Farms",
            "Group Of Small Farms",
            "Group Of Small Farms",
            "Group Of Small Farms",
            "Group Of Small Farms",
            "Group Of Small Farms",
            "Group Of Small Farms",
            "Group Of Small Farms",
            "Group Of Small Farms",
            "Group Of Small Farms"
           ],
           "xaxis": "x",
           "yaxis": "y"
          },
          {
           "alignmentgroup": "True",
           "bingroup": "x",
           "hovertemplate": "Country=Country D<br>Year Issued=2021<br>Certificate Type=%{x}<br>count=%{y}<extra></extra>",
           "legendgroup": "Country D",
           "marker": {
            "color": "#00cc96",
            "pattern": {
             "shape": ""
            }
           },
           "name": "Country D",
           "offsetgroup": "Country D",
           "orientation": "v",
           "showlegend": true,
           "type": "histogram",
           "x": [
            "Group Of Small Farms",
            "Single Farm",
            "Group Of Small Farms",
            "Group Of Small Farms",
            "Group Of Small Farms",
            "Group Of Small Farms",
            "Single Farm",
            "Single Farm",
            "Single Farm",
            "Group Of Small Farms",
            "Group Of Small Farms",
            "Multi Farm",
            "Group Of Small Farms",
            "Single Farm",
            "Multi Farm"
           ],
           "xaxis": "x",
           "yaxis": "y"
          },
          {
           "alignmentgroup": "True",
           "bingroup": "x",
           "hovertemplate": "Country=Country A<br>Year Issued=2021<br>Certificate Type=%{x}<br>count=%{y}<extra></extra>",
           "legendgroup": "Country A",
           "marker": {
            "color": "#ab63fa",
            "pattern": {
             "shape": ""
            }
           },
           "name": "Country A",
           "offsetgroup": "Country A",
           "orientation": "v",
           "showlegend": true,
           "type": "histogram",
           "x": [
            "Single Farm",
            "Single Farm",
            "Group Of Small Farms",
            "Group Of Small Farms",
            "Single Site",
            "Group Of Small Farms",
            "Multi Farm",
            "Group Of Small Farms",
            "Group Of Small Farms",
            "Group Of Small Farms",
            "Group Of Small Farms",
            "Group Of Small Farms",
            "Group Of Small Farms",
            "Group Of Small Farms",
            "Group Of Small Farms",
            "Group Of Small Farms",
            "Group Of Small Farms",
            "Group Of Small Farms",
            "Group Of Small Farms",
            "Group Of Small Farms",
            "Group Of Mixed Farms",
            "Group Of Small Farms",
            "Group Of Small Farms",
            "Group Of Small Farms",
            "Group Of Small Farms",
            "Group Of Small Farms",
            "Group Of Small Farms",
            "Single Farm",
            "Group Of Small Farms",
            "Group Of Small Farms",
            "Group Of Small Farms",
            "Group Of Small Farms",
            "Group Of Small Farms",
            "Group Of Small Farms",
            "Group Of Small Farms",
            "Group Of Small Farms",
            "Group Of Small Farms",
            "Group Of Small Farms",
            "Group Of Small Farms",
            "Group Of Small Farms",
            "Group Of Small Farms",
            "Group Of Small Farms",
            "Group Of Small Farms",
            "Single Farm",
            "Group Of Small Farms",
            "Group Of Small Farms",
            "Group Of Small Farms",
            "Group Of Small Farms"
           ],
           "xaxis": "x",
           "yaxis": "y"
          }
         ],
         "name": "2021"
        },
        {
         "data": [
          {
           "alignmentgroup": "True",
           "bingroup": "x",
           "hovertemplate": "Country=Country B<br>Year Issued=2024<br>Certificate Type=%{x}<br>count=%{y}<extra></extra>",
           "legendgroup": "Country B",
           "marker": {
            "color": "#636efa",
            "pattern": {
             "shape": ""
            }
           },
           "name": "Country B",
           "offsetgroup": "Country B",
           "orientation": "v",
           "showlegend": true,
           "type": "histogram",
           "x": [
            "Multi Farm",
            "Single Farm",
            "Single Farm",
            "Multi Farm",
            "Single Farm",
            "Single Farm",
            "Multi Farm",
            "Group Of Mixed Farms",
            "Multi Farm"
           ],
           "xaxis": "x",
           "yaxis": "y"
          },
          {
           "alignmentgroup": "True",
           "bingroup": "x",
           "hovertemplate": "Country=Country C<br>Year Issued=2024<br>Certificate Type=%{x}<br>count=%{y}<extra></extra>",
           "legendgroup": "Country C",
           "marker": {
            "color": "#EF553B",
            "pattern": {
             "shape": ""
            }
           },
           "name": "Country C",
           "offsetgroup": "Country C",
           "orientation": "v",
           "showlegend": true,
           "type": "histogram",
           "x": [
            "Group Of Small Farms",
            "Group Of Small Farms",
            "Group Of Small Farms"
           ],
           "xaxis": "x",
           "yaxis": "y"
          },
          {
           "alignmentgroup": "True",
           "bingroup": "x",
           "hovertemplate": "Country=Country A<br>Year Issued=2024<br>Certificate Type=%{x}<br>count=%{y}<extra></extra>",
           "legendgroup": "Country A",
           "marker": {
            "color": "#ab63fa",
            "pattern": {
             "shape": ""
            }
           },
           "name": "Country A",
           "offsetgroup": "Country A",
           "orientation": "v",
           "showlegend": true,
           "type": "histogram",
           "x": [
            "Group Of Small Farms",
            "Group Of Mixed Farms",
            "Group Of Small Farms",
            "Group Of Small Farms",
            "Single Farm",
            "Group Of Small Farms",
            "Group Of Small Farms",
            "Group Of Small Farms",
            "Multi Farm",
            "Group Of Small Farms"
           ],
           "xaxis": "x",
           "yaxis": "y"
          }
         ],
         "name": "2024"
        }
       ],
       "layout": {
        "barmode": "group",
        "legend": {
         "title": {
          "text": "Country"
         },
         "tracegroupgap": 0
        },
        "sliders": [
         {
          "active": 0,
          "currentvalue": {
           "prefix": "Year Issued="
          },
          "len": 0.9,
          "pad": {
           "b": 10,
           "t": 60
          },
          "steps": [
           {
            "args": [
             [
              "2023"
             ],
             {
              "frame": {
               "duration": 0,
               "redraw": true
              },
              "fromcurrent": true,
              "mode": "immediate",
              "transition": {
               "duration": 0,
               "easing": "linear"
              }
             }
            ],
            "label": "2023",
            "method": "animate"
           },
           {
            "args": [
             [
              "2022"
             ],
             {
              "frame": {
               "duration": 0,
               "redraw": true
              },
              "fromcurrent": true,
              "mode": "immediate",
              "transition": {
               "duration": 0,
               "easing": "linear"
              }
             }
            ],
            "label": "2022",
            "method": "animate"
           },
           {
            "args": [
             [
              "2021"
             ],
             {
              "frame": {
               "duration": 0,
               "redraw": true
              },
              "fromcurrent": true,
              "mode": "immediate",
              "transition": {
               "duration": 0,
               "easing": "linear"
              }
             }
            ],
            "label": "2021",
            "method": "animate"
           },
           {
            "args": [
             [
              "2024"
             ],
             {
              "frame": {
               "duration": 0,
               "redraw": true
              },
              "fromcurrent": true,
              "mode": "immediate",
              "transition": {
               "duration": 0,
               "easing": "linear"
              }
             }
            ],
            "label": "2024",
            "method": "animate"
           }
          ],
          "x": 0.1,
          "xanchor": "left",
          "y": 0,
          "yanchor": "top"
         }
        ],
        "template": {
         "data": {
          "bar": [
           {
            "error_x": {
             "color": "#2a3f5f"
            },
            "error_y": {
             "color": "#2a3f5f"
            },
            "marker": {
             "line": {
              "color": "#E5ECF6",
              "width": 0.5
             },
             "pattern": {
              "fillmode": "overlay",
              "size": 10,
              "solidity": 0.2
             }
            },
            "type": "bar"
           }
          ],
          "barpolar": [
           {
            "marker": {
             "line": {
              "color": "#E5ECF6",
              "width": 0.5
             },
             "pattern": {
              "fillmode": "overlay",
              "size": 10,
              "solidity": 0.2
             }
            },
            "type": "barpolar"
           }
          ],
          "carpet": [
           {
            "aaxis": {
             "endlinecolor": "#2a3f5f",
             "gridcolor": "white",
             "linecolor": "white",
             "minorgridcolor": "white",
             "startlinecolor": "#2a3f5f"
            },
            "baxis": {
             "endlinecolor": "#2a3f5f",
             "gridcolor": "white",
             "linecolor": "white",
             "minorgridcolor": "white",
             "startlinecolor": "#2a3f5f"
            },
            "type": "carpet"
           }
          ],
          "choropleth": [
           {
            "colorbar": {
             "outlinewidth": 0,
             "ticks": ""
            },
            "type": "choropleth"
           }
          ],
          "contour": [
           {
            "colorbar": {
             "outlinewidth": 0,
             "ticks": ""
            },
            "colorscale": [
             [
              0,
              "#0d0887"
             ],
             [
              0.1111111111111111,
              "#46039f"
             ],
             [
              0.2222222222222222,
              "#7201a8"
             ],
             [
              0.3333333333333333,
              "#9c179e"
             ],
             [
              0.4444444444444444,
              "#bd3786"
             ],
             [
              0.5555555555555556,
              "#d8576b"
             ],
             [
              0.6666666666666666,
              "#ed7953"
             ],
             [
              0.7777777777777778,
              "#fb9f3a"
             ],
             [
              0.8888888888888888,
              "#fdca26"
             ],
             [
              1,
              "#f0f921"
             ]
            ],
            "type": "contour"
           }
          ],
          "contourcarpet": [
           {
            "colorbar": {
             "outlinewidth": 0,
             "ticks": ""
            },
            "type": "contourcarpet"
           }
          ],
          "heatmap": [
           {
            "colorbar": {
             "outlinewidth": 0,
             "ticks": ""
            },
            "colorscale": [
             [
              0,
              "#0d0887"
             ],
             [
              0.1111111111111111,
              "#46039f"
             ],
             [
              0.2222222222222222,
              "#7201a8"
             ],
             [
              0.3333333333333333,
              "#9c179e"
             ],
             [
              0.4444444444444444,
              "#bd3786"
             ],
             [
              0.5555555555555556,
              "#d8576b"
             ],
             [
              0.6666666666666666,
              "#ed7953"
             ],
             [
              0.7777777777777778,
              "#fb9f3a"
             ],
             [
              0.8888888888888888,
              "#fdca26"
             ],
             [
              1,
              "#f0f921"
             ]
            ],
            "type": "heatmap"
           }
          ],
          "heatmapgl": [
           {
            "colorbar": {
             "outlinewidth": 0,
             "ticks": ""
            },
            "colorscale": [
             [
              0,
              "#0d0887"
             ],
             [
              0.1111111111111111,
              "#46039f"
             ],
             [
              0.2222222222222222,
              "#7201a8"
             ],
             [
              0.3333333333333333,
              "#9c179e"
             ],
             [
              0.4444444444444444,
              "#bd3786"
             ],
             [
              0.5555555555555556,
              "#d8576b"
             ],
             [
              0.6666666666666666,
              "#ed7953"
             ],
             [
              0.7777777777777778,
              "#fb9f3a"
             ],
             [
              0.8888888888888888,
              "#fdca26"
             ],
             [
              1,
              "#f0f921"
             ]
            ],
            "type": "heatmapgl"
           }
          ],
          "histogram": [
           {
            "marker": {
             "pattern": {
              "fillmode": "overlay",
              "size": 10,
              "solidity": 0.2
             }
            },
            "type": "histogram"
           }
          ],
          "histogram2d": [
           {
            "colorbar": {
             "outlinewidth": 0,
             "ticks": ""
            },
            "colorscale": [
             [
              0,
              "#0d0887"
             ],
             [
              0.1111111111111111,
              "#46039f"
             ],
             [
              0.2222222222222222,
              "#7201a8"
             ],
             [
              0.3333333333333333,
              "#9c179e"
             ],
             [
              0.4444444444444444,
              "#bd3786"
             ],
             [
              0.5555555555555556,
              "#d8576b"
             ],
             [
              0.6666666666666666,
              "#ed7953"
             ],
             [
              0.7777777777777778,
              "#fb9f3a"
             ],
             [
              0.8888888888888888,
              "#fdca26"
             ],
             [
              1,
              "#f0f921"
             ]
            ],
            "type": "histogram2d"
           }
          ],
          "histogram2dcontour": [
           {
            "colorbar": {
             "outlinewidth": 0,
             "ticks": ""
            },
            "colorscale": [
             [
              0,
              "#0d0887"
             ],
             [
              0.1111111111111111,
              "#46039f"
             ],
             [
              0.2222222222222222,
              "#7201a8"
             ],
             [
              0.3333333333333333,
              "#9c179e"
             ],
             [
              0.4444444444444444,
              "#bd3786"
             ],
             [
              0.5555555555555556,
              "#d8576b"
             ],
             [
              0.6666666666666666,
              "#ed7953"
             ],
             [
              0.7777777777777778,
              "#fb9f3a"
             ],
             [
              0.8888888888888888,
              "#fdca26"
             ],
             [
              1,
              "#f0f921"
             ]
            ],
            "type": "histogram2dcontour"
           }
          ],
          "mesh3d": [
           {
            "colorbar": {
             "outlinewidth": 0,
             "ticks": ""
            },
            "type": "mesh3d"
           }
          ],
          "parcoords": [
           {
            "line": {
             "colorbar": {
              "outlinewidth": 0,
              "ticks": ""
             }
            },
            "type": "parcoords"
           }
          ],
          "pie": [
           {
            "automargin": true,
            "type": "pie"
           }
          ],
          "scatter": [
           {
            "fillpattern": {
             "fillmode": "overlay",
             "size": 10,
             "solidity": 0.2
            },
            "type": "scatter"
           }
          ],
          "scatter3d": [
           {
            "line": {
             "colorbar": {
              "outlinewidth": 0,
              "ticks": ""
             }
            },
            "marker": {
             "colorbar": {
              "outlinewidth": 0,
              "ticks": ""
             }
            },
            "type": "scatter3d"
           }
          ],
          "scattercarpet": [
           {
            "marker": {
             "colorbar": {
              "outlinewidth": 0,
              "ticks": ""
             }
            },
            "type": "scattercarpet"
           }
          ],
          "scattergeo": [
           {
            "marker": {
             "colorbar": {
              "outlinewidth": 0,
              "ticks": ""
             }
            },
            "type": "scattergeo"
           }
          ],
          "scattergl": [
           {
            "marker": {
             "colorbar": {
              "outlinewidth": 0,
              "ticks": ""
             }
            },
            "type": "scattergl"
           }
          ],
          "scattermapbox": [
           {
            "marker": {
             "colorbar": {
              "outlinewidth": 0,
              "ticks": ""
             }
            },
            "type": "scattermapbox"
           }
          ],
          "scatterpolar": [
           {
            "marker": {
             "colorbar": {
              "outlinewidth": 0,
              "ticks": ""
             }
            },
            "type": "scatterpolar"
           }
          ],
          "scatterpolargl": [
           {
            "marker": {
             "colorbar": {
              "outlinewidth": 0,
              "ticks": ""
             }
            },
            "type": "scatterpolargl"
           }
          ],
          "scatterternary": [
           {
            "marker": {
             "colorbar": {
              "outlinewidth": 0,
              "ticks": ""
             }
            },
            "type": "scatterternary"
           }
          ],
          "surface": [
           {
            "colorbar": {
             "outlinewidth": 0,
             "ticks": ""
            },
            "colorscale": [
             [
              0,
              "#0d0887"
             ],
             [
              0.1111111111111111,
              "#46039f"
             ],
             [
              0.2222222222222222,
              "#7201a8"
             ],
             [
              0.3333333333333333,
              "#9c179e"
             ],
             [
              0.4444444444444444,
              "#bd3786"
             ],
             [
              0.5555555555555556,
              "#d8576b"
             ],
             [
              0.6666666666666666,
              "#ed7953"
             ],
             [
              0.7777777777777778,
              "#fb9f3a"
             ],
             [
              0.8888888888888888,
              "#fdca26"
             ],
             [
              1,
              "#f0f921"
             ]
            ],
            "type": "surface"
           }
          ],
          "table": [
           {
            "cells": {
             "fill": {
              "color": "#EBF0F8"
             },
             "line": {
              "color": "white"
             }
            },
            "header": {
             "fill": {
              "color": "#C8D4E3"
             },
             "line": {
              "color": "white"
             }
            },
            "type": "table"
           }
          ]
         },
         "layout": {
          "annotationdefaults": {
           "arrowcolor": "#2a3f5f",
           "arrowhead": 0,
           "arrowwidth": 1
          },
          "autotypenumbers": "strict",
          "coloraxis": {
           "colorbar": {
            "outlinewidth": 0,
            "ticks": ""
           }
          },
          "colorscale": {
           "diverging": [
            [
             0,
             "#8e0152"
            ],
            [
             0.1,
             "#c51b7d"
            ],
            [
             0.2,
             "#de77ae"
            ],
            [
             0.3,
             "#f1b6da"
            ],
            [
             0.4,
             "#fde0ef"
            ],
            [
             0.5,
             "#f7f7f7"
            ],
            [
             0.6,
             "#e6f5d0"
            ],
            [
             0.7,
             "#b8e186"
            ],
            [
             0.8,
             "#7fbc41"
            ],
            [
             0.9,
             "#4d9221"
            ],
            [
             1,
             "#276419"
            ]
           ],
           "sequential": [
            [
             0,
             "#0d0887"
            ],
            [
             0.1111111111111111,
             "#46039f"
            ],
            [
             0.2222222222222222,
             "#7201a8"
            ],
            [
             0.3333333333333333,
             "#9c179e"
            ],
            [
             0.4444444444444444,
             "#bd3786"
            ],
            [
             0.5555555555555556,
             "#d8576b"
            ],
            [
             0.6666666666666666,
             "#ed7953"
            ],
            [
             0.7777777777777778,
             "#fb9f3a"
            ],
            [
             0.8888888888888888,
             "#fdca26"
            ],
            [
             1,
             "#f0f921"
            ]
           ],
           "sequentialminus": [
            [
             0,
             "#0d0887"
            ],
            [
             0.1111111111111111,
             "#46039f"
            ],
            [
             0.2222222222222222,
             "#7201a8"
            ],
            [
             0.3333333333333333,
             "#9c179e"
            ],
            [
             0.4444444444444444,
             "#bd3786"
            ],
            [
             0.5555555555555556,
             "#d8576b"
            ],
            [
             0.6666666666666666,
             "#ed7953"
            ],
            [
             0.7777777777777778,
             "#fb9f3a"
            ],
            [
             0.8888888888888888,
             "#fdca26"
            ],
            [
             1,
             "#f0f921"
            ]
           ]
          },
          "colorway": [
           "#636efa",
           "#EF553B",
           "#00cc96",
           "#ab63fa",
           "#FFA15A",
           "#19d3f3",
           "#FF6692",
           "#B6E880",
           "#FF97FF",
           "#FECB52"
          ],
          "font": {
           "color": "#2a3f5f"
          },
          "geo": {
           "bgcolor": "white",
           "lakecolor": "white",
           "landcolor": "#E5ECF6",
           "showlakes": true,
           "showland": true,
           "subunitcolor": "white"
          },
          "hoverlabel": {
           "align": "left"
          },
          "hovermode": "closest",
          "mapbox": {
           "style": "light"
          },
          "paper_bgcolor": "white",
          "plot_bgcolor": "#E5ECF6",
          "polar": {
           "angularaxis": {
            "gridcolor": "white",
            "linecolor": "white",
            "ticks": ""
           },
           "bgcolor": "#E5ECF6",
           "radialaxis": {
            "gridcolor": "white",
            "linecolor": "white",
            "ticks": ""
           }
          },
          "scene": {
           "xaxis": {
            "backgroundcolor": "#E5ECF6",
            "gridcolor": "white",
            "gridwidth": 2,
            "linecolor": "white",
            "showbackground": true,
            "ticks": "",
            "zerolinecolor": "white"
           },
           "yaxis": {
            "backgroundcolor": "#E5ECF6",
            "gridcolor": "white",
            "gridwidth": 2,
            "linecolor": "white",
            "showbackground": true,
            "ticks": "",
            "zerolinecolor": "white"
           },
           "zaxis": {
            "backgroundcolor": "#E5ECF6",
            "gridcolor": "white",
            "gridwidth": 2,
            "linecolor": "white",
            "showbackground": true,
            "ticks": "",
            "zerolinecolor": "white"
           }
          },
          "shapedefaults": {
           "line": {
            "color": "#2a3f5f"
           }
          },
          "ternary": {
           "aaxis": {
            "gridcolor": "white",
            "linecolor": "white",
            "ticks": ""
           },
           "baxis": {
            "gridcolor": "white",
            "linecolor": "white",
            "ticks": ""
           },
           "bgcolor": "#E5ECF6",
           "caxis": {
            "gridcolor": "white",
            "linecolor": "white",
            "ticks": ""
           }
          },
          "title": {
           "x": 0.05
          },
          "xaxis": {
           "automargin": true,
           "gridcolor": "white",
           "linecolor": "white",
           "ticks": "",
           "title": {
            "standoff": 15
           },
           "zerolinecolor": "white",
           "zerolinewidth": 2
          },
          "yaxis": {
           "automargin": true,
           "gridcolor": "white",
           "linecolor": "white",
           "ticks": "",
           "title": {
            "standoff": 15
           },
           "zerolinecolor": "white",
           "zerolinewidth": 2
          }
         }
        },
        "title": {
         "text": "Count of Certificate Types by Country and Year"
        },
        "updatemenus": [
         {
          "buttons": [
           {
            "args": [
             null,
             {
              "frame": {
               "duration": 500,
               "redraw": true
              },
              "fromcurrent": true,
              "mode": "immediate",
              "transition": {
               "duration": 500,
               "easing": "linear"
              }
             }
            ],
            "label": "&#9654;",
            "method": "animate"
           },
           {
            "args": [
             [
              null
             ],
             {
              "frame": {
               "duration": 0,
               "redraw": true
              },
              "fromcurrent": true,
              "mode": "immediate",
              "transition": {
               "duration": 0,
               "easing": "linear"
              }
             }
            ],
            "label": "&#9724;",
            "method": "animate"
           }
          ],
          "direction": "left",
          "pad": {
           "r": 10,
           "t": 70
          },
          "showactive": false,
          "type": "buttons",
          "x": 0.1,
          "xanchor": "right",
          "y": 0,
          "yanchor": "top"
         }
        ],
        "xaxis": {
         "anchor": "y",
         "domain": [
          0,
          1
         ],
         "title": {
          "text": "Certificate Type"
         }
        },
        "yaxis": {
         "anchor": "x",
         "domain": [
          0,
          1
         ],
         "title": {
          "text": "Count"
         }
        }
       }
      }
     },
     "metadata": {},
     "output_type": "display_data"
    }
   ],
   "source": [
    "fig = px.histogram(merged_data, x='Certificate Type', color='Country',\n",
    "                   animation_frame='Year Issued', barmode='group',\n",
    "                   title='Count of Certificate Types by Country and Year')\n",
    "fig.update_layout(xaxis_title=\"Certificate Type\", yaxis_title=\"Count\")\n",
    "fig.show()\n"
   ]
  },
  {
   "cell_type": "code",
   "execution_count": 60,
   "metadata": {},
   "outputs": [
    {
     "data": {
      "application/vnd.plotly.v1+json": {
       "config": {
        "plotlyServerURL": "https://plot.ly"
       },
       "data": [
        {
         "hovertemplate": "<b>%{hovertext}</b><br><br>Country=Country B<br>Crop=Cocoa<br>Year Issued=%{x}<br>Count=%{y}<extra></extra>",
         "hovertext": [
          "Cocoa",
          "Cocoa",
          "Cocoa"
         ],
         "legendgroup": "Country B",
         "line": {
          "color": "#636efa",
          "dash": "solid",
          "shape": "linear"
         },
         "marker": {
          "symbol": "circle"
         },
         "mode": "lines",
         "name": "Country B",
         "orientation": "v",
         "showlegend": true,
         "type": "scatter",
         "x": [
          2021,
          2022,
          2023
         ],
         "xaxis": "x",
         "y": [
          3,
          9,
          2
         ],
         "yaxis": "y"
        },
        {
         "hovertemplate": "<b>%{hovertext}</b><br><br>Country=Country B<br>Crop=Coffee<br>Year Issued=%{x}<br>Count=%{y}<extra></extra>",
         "hovertext": [
          "Coffee",
          "Coffee",
          "Coffee",
          "Coffee"
         ],
         "legendgroup": "Country B",
         "line": {
          "color": "#636efa",
          "dash": "solid",
          "shape": "linear"
         },
         "marker": {
          "symbol": "circle"
         },
         "mode": "lines",
         "name": "Country B",
         "orientation": "v",
         "showlegend": false,
         "type": "scatter",
         "x": [
          2021,
          2022,
          2023,
          2024
         ],
         "xaxis": "x",
         "y": [
          24,
          275,
          284,
          9
         ],
         "yaxis": "y"
        },
        {
         "hovertemplate": "<b>%{hovertext}</b><br><br>Country=Country D<br>Crop=Cocoa<br>Year Issued=%{x}<br>Count=%{y}<extra></extra>",
         "hovertext": [
          "Cocoa",
          "Cocoa",
          "Cocoa"
         ],
         "legendgroup": "Country D",
         "line": {
          "color": "#EF553B",
          "dash": "solid",
          "shape": "linear"
         },
         "marker": {
          "symbol": "circle"
         },
         "mode": "lines",
         "name": "Country D",
         "orientation": "v",
         "showlegend": true,
         "type": "scatter",
         "x": [
          2021,
          2022,
          2023
         ],
         "xaxis": "x",
         "y": [
          1,
          2,
          1
         ],
         "yaxis": "y"
        },
        {
         "hovertemplate": "<b>%{hovertext}</b><br><br>Country=Country D<br>Crop=Coffee<br>Year Issued=%{x}<br>Count=%{y}<extra></extra>",
         "hovertext": [
          "Coffee",
          "Coffee",
          "Coffee"
         ],
         "legendgroup": "Country D",
         "line": {
          "color": "#EF553B",
          "dash": "solid",
          "shape": "linear"
         },
         "marker": {
          "symbol": "circle"
         },
         "mode": "lines",
         "name": "Country D",
         "orientation": "v",
         "showlegend": false,
         "type": "scatter",
         "x": [
          2021,
          2022,
          2023
         ],
         "xaxis": "x",
         "y": [
          14,
          12,
          13
         ],
         "yaxis": "y"
        },
        {
         "hovertemplate": "<b>%{hovertext}</b><br><br>Country=Country A<br>Crop=Cocoa<br>Year Issued=%{x}<br>Count=%{y}<extra></extra>",
         "hovertext": [
          "Cocoa",
          "Cocoa"
         ],
         "legendgroup": "Country A",
         "line": {
          "color": "#00cc96",
          "dash": "solid",
          "shape": "linear"
         },
         "marker": {
          "symbol": "circle"
         },
         "mode": "lines",
         "name": "Country A",
         "orientation": "v",
         "showlegend": true,
         "type": "scatter",
         "x": [
          2022,
          2023
         ],
         "xaxis": "x",
         "y": [
          2,
          2
         ],
         "yaxis": "y"
        },
        {
         "hovertemplate": "<b>%{hovertext}</b><br><br>Country=Country A<br>Crop=Coffee<br>Year Issued=%{x}<br>Count=%{y}<extra></extra>",
         "hovertext": [
          "Coffee",
          "Coffee",
          "Coffee",
          "Coffee"
         ],
         "legendgroup": "Country A",
         "line": {
          "color": "#00cc96",
          "dash": "solid",
          "shape": "linear"
         },
         "marker": {
          "symbol": "circle"
         },
         "mode": "lines",
         "name": "Country A",
         "orientation": "v",
         "showlegend": false,
         "type": "scatter",
         "x": [
          2021,
          2022,
          2023,
          2024
         ],
         "xaxis": "x",
         "y": [
          48,
          104,
          85,
          9
         ],
         "yaxis": "y"
        },
        {
         "hovertemplate": "<b>%{hovertext}</b><br><br>Country=Country A<br>Crop=Tea<br>Year Issued=%{x}<br>Count=%{y}<extra></extra>",
         "hovertext": [
          "Tea",
          "Tea",
          "Tea"
         ],
         "legendgroup": "Country A",
         "line": {
          "color": "#00cc96",
          "dash": "solid",
          "shape": "linear"
         },
         "marker": {
          "symbol": "circle"
         },
         "mode": "lines",
         "name": "Country A",
         "orientation": "v",
         "showlegend": false,
         "type": "scatter",
         "x": [
          2022,
          2023,
          2024
         ],
         "xaxis": "x",
         "y": [
          1,
          1,
          1
         ],
         "yaxis": "y"
        },
        {
         "hovertemplate": "<b>%{hovertext}</b><br><br>Country=Country C<br>Crop=Coffee<br>Year Issued=%{x}<br>Count=%{y}<extra></extra>",
         "hovertext": [
          "Coffee",
          "Coffee",
          "Coffee",
          "Coffee"
         ],
         "legendgroup": "Country C",
         "line": {
          "color": "#ab63fa",
          "dash": "solid",
          "shape": "linear"
         },
         "marker": {
          "symbol": "circle"
         },
         "mode": "lines",
         "name": "Country C",
         "orientation": "v",
         "showlegend": true,
         "type": "scatter",
         "x": [
          2021,
          2022,
          2023,
          2024
         ],
         "xaxis": "x",
         "y": [
          56,
          80,
          74,
          3
         ],
         "yaxis": "y"
        }
       ],
       "layout": {
        "legend": {
         "title": {
          "text": "Country"
         },
         "tracegroupgap": 0
        },
        "template": {
         "data": {
          "bar": [
           {
            "error_x": {
             "color": "#2a3f5f"
            },
            "error_y": {
             "color": "#2a3f5f"
            },
            "marker": {
             "line": {
              "color": "#E5ECF6",
              "width": 0.5
             },
             "pattern": {
              "fillmode": "overlay",
              "size": 10,
              "solidity": 0.2
             }
            },
            "type": "bar"
           }
          ],
          "barpolar": [
           {
            "marker": {
             "line": {
              "color": "#E5ECF6",
              "width": 0.5
             },
             "pattern": {
              "fillmode": "overlay",
              "size": 10,
              "solidity": 0.2
             }
            },
            "type": "barpolar"
           }
          ],
          "carpet": [
           {
            "aaxis": {
             "endlinecolor": "#2a3f5f",
             "gridcolor": "white",
             "linecolor": "white",
             "minorgridcolor": "white",
             "startlinecolor": "#2a3f5f"
            },
            "baxis": {
             "endlinecolor": "#2a3f5f",
             "gridcolor": "white",
             "linecolor": "white",
             "minorgridcolor": "white",
             "startlinecolor": "#2a3f5f"
            },
            "type": "carpet"
           }
          ],
          "choropleth": [
           {
            "colorbar": {
             "outlinewidth": 0,
             "ticks": ""
            },
            "type": "choropleth"
           }
          ],
          "contour": [
           {
            "colorbar": {
             "outlinewidth": 0,
             "ticks": ""
            },
            "colorscale": [
             [
              0,
              "#0d0887"
             ],
             [
              0.1111111111111111,
              "#46039f"
             ],
             [
              0.2222222222222222,
              "#7201a8"
             ],
             [
              0.3333333333333333,
              "#9c179e"
             ],
             [
              0.4444444444444444,
              "#bd3786"
             ],
             [
              0.5555555555555556,
              "#d8576b"
             ],
             [
              0.6666666666666666,
              "#ed7953"
             ],
             [
              0.7777777777777778,
              "#fb9f3a"
             ],
             [
              0.8888888888888888,
              "#fdca26"
             ],
             [
              1,
              "#f0f921"
             ]
            ],
            "type": "contour"
           }
          ],
          "contourcarpet": [
           {
            "colorbar": {
             "outlinewidth": 0,
             "ticks": ""
            },
            "type": "contourcarpet"
           }
          ],
          "heatmap": [
           {
            "colorbar": {
             "outlinewidth": 0,
             "ticks": ""
            },
            "colorscale": [
             [
              0,
              "#0d0887"
             ],
             [
              0.1111111111111111,
              "#46039f"
             ],
             [
              0.2222222222222222,
              "#7201a8"
             ],
             [
              0.3333333333333333,
              "#9c179e"
             ],
             [
              0.4444444444444444,
              "#bd3786"
             ],
             [
              0.5555555555555556,
              "#d8576b"
             ],
             [
              0.6666666666666666,
              "#ed7953"
             ],
             [
              0.7777777777777778,
              "#fb9f3a"
             ],
             [
              0.8888888888888888,
              "#fdca26"
             ],
             [
              1,
              "#f0f921"
             ]
            ],
            "type": "heatmap"
           }
          ],
          "heatmapgl": [
           {
            "colorbar": {
             "outlinewidth": 0,
             "ticks": ""
            },
            "colorscale": [
             [
              0,
              "#0d0887"
             ],
             [
              0.1111111111111111,
              "#46039f"
             ],
             [
              0.2222222222222222,
              "#7201a8"
             ],
             [
              0.3333333333333333,
              "#9c179e"
             ],
             [
              0.4444444444444444,
              "#bd3786"
             ],
             [
              0.5555555555555556,
              "#d8576b"
             ],
             [
              0.6666666666666666,
              "#ed7953"
             ],
             [
              0.7777777777777778,
              "#fb9f3a"
             ],
             [
              0.8888888888888888,
              "#fdca26"
             ],
             [
              1,
              "#f0f921"
             ]
            ],
            "type": "heatmapgl"
           }
          ],
          "histogram": [
           {
            "marker": {
             "pattern": {
              "fillmode": "overlay",
              "size": 10,
              "solidity": 0.2
             }
            },
            "type": "histogram"
           }
          ],
          "histogram2d": [
           {
            "colorbar": {
             "outlinewidth": 0,
             "ticks": ""
            },
            "colorscale": [
             [
              0,
              "#0d0887"
             ],
             [
              0.1111111111111111,
              "#46039f"
             ],
             [
              0.2222222222222222,
              "#7201a8"
             ],
             [
              0.3333333333333333,
              "#9c179e"
             ],
             [
              0.4444444444444444,
              "#bd3786"
             ],
             [
              0.5555555555555556,
              "#d8576b"
             ],
             [
              0.6666666666666666,
              "#ed7953"
             ],
             [
              0.7777777777777778,
              "#fb9f3a"
             ],
             [
              0.8888888888888888,
              "#fdca26"
             ],
             [
              1,
              "#f0f921"
             ]
            ],
            "type": "histogram2d"
           }
          ],
          "histogram2dcontour": [
           {
            "colorbar": {
             "outlinewidth": 0,
             "ticks": ""
            },
            "colorscale": [
             [
              0,
              "#0d0887"
             ],
             [
              0.1111111111111111,
              "#46039f"
             ],
             [
              0.2222222222222222,
              "#7201a8"
             ],
             [
              0.3333333333333333,
              "#9c179e"
             ],
             [
              0.4444444444444444,
              "#bd3786"
             ],
             [
              0.5555555555555556,
              "#d8576b"
             ],
             [
              0.6666666666666666,
              "#ed7953"
             ],
             [
              0.7777777777777778,
              "#fb9f3a"
             ],
             [
              0.8888888888888888,
              "#fdca26"
             ],
             [
              1,
              "#f0f921"
             ]
            ],
            "type": "histogram2dcontour"
           }
          ],
          "mesh3d": [
           {
            "colorbar": {
             "outlinewidth": 0,
             "ticks": ""
            },
            "type": "mesh3d"
           }
          ],
          "parcoords": [
           {
            "line": {
             "colorbar": {
              "outlinewidth": 0,
              "ticks": ""
             }
            },
            "type": "parcoords"
           }
          ],
          "pie": [
           {
            "automargin": true,
            "type": "pie"
           }
          ],
          "scatter": [
           {
            "fillpattern": {
             "fillmode": "overlay",
             "size": 10,
             "solidity": 0.2
            },
            "type": "scatter"
           }
          ],
          "scatter3d": [
           {
            "line": {
             "colorbar": {
              "outlinewidth": 0,
              "ticks": ""
             }
            },
            "marker": {
             "colorbar": {
              "outlinewidth": 0,
              "ticks": ""
             }
            },
            "type": "scatter3d"
           }
          ],
          "scattercarpet": [
           {
            "marker": {
             "colorbar": {
              "outlinewidth": 0,
              "ticks": ""
             }
            },
            "type": "scattercarpet"
           }
          ],
          "scattergeo": [
           {
            "marker": {
             "colorbar": {
              "outlinewidth": 0,
              "ticks": ""
             }
            },
            "type": "scattergeo"
           }
          ],
          "scattergl": [
           {
            "marker": {
             "colorbar": {
              "outlinewidth": 0,
              "ticks": ""
             }
            },
            "type": "scattergl"
           }
          ],
          "scattermapbox": [
           {
            "marker": {
             "colorbar": {
              "outlinewidth": 0,
              "ticks": ""
             }
            },
            "type": "scattermapbox"
           }
          ],
          "scatterpolar": [
           {
            "marker": {
             "colorbar": {
              "outlinewidth": 0,
              "ticks": ""
             }
            },
            "type": "scatterpolar"
           }
          ],
          "scatterpolargl": [
           {
            "marker": {
             "colorbar": {
              "outlinewidth": 0,
              "ticks": ""
             }
            },
            "type": "scatterpolargl"
           }
          ],
          "scatterternary": [
           {
            "marker": {
             "colorbar": {
              "outlinewidth": 0,
              "ticks": ""
             }
            },
            "type": "scatterternary"
           }
          ],
          "surface": [
           {
            "colorbar": {
             "outlinewidth": 0,
             "ticks": ""
            },
            "colorscale": [
             [
              0,
              "#0d0887"
             ],
             [
              0.1111111111111111,
              "#46039f"
             ],
             [
              0.2222222222222222,
              "#7201a8"
             ],
             [
              0.3333333333333333,
              "#9c179e"
             ],
             [
              0.4444444444444444,
              "#bd3786"
             ],
             [
              0.5555555555555556,
              "#d8576b"
             ],
             [
              0.6666666666666666,
              "#ed7953"
             ],
             [
              0.7777777777777778,
              "#fb9f3a"
             ],
             [
              0.8888888888888888,
              "#fdca26"
             ],
             [
              1,
              "#f0f921"
             ]
            ],
            "type": "surface"
           }
          ],
          "table": [
           {
            "cells": {
             "fill": {
              "color": "#EBF0F8"
             },
             "line": {
              "color": "white"
             }
            },
            "header": {
             "fill": {
              "color": "#C8D4E3"
             },
             "line": {
              "color": "white"
             }
            },
            "type": "table"
           }
          ]
         },
         "layout": {
          "annotationdefaults": {
           "arrowcolor": "#2a3f5f",
           "arrowhead": 0,
           "arrowwidth": 1
          },
          "autotypenumbers": "strict",
          "coloraxis": {
           "colorbar": {
            "outlinewidth": 0,
            "ticks": ""
           }
          },
          "colorscale": {
           "diverging": [
            [
             0,
             "#8e0152"
            ],
            [
             0.1,
             "#c51b7d"
            ],
            [
             0.2,
             "#de77ae"
            ],
            [
             0.3,
             "#f1b6da"
            ],
            [
             0.4,
             "#fde0ef"
            ],
            [
             0.5,
             "#f7f7f7"
            ],
            [
             0.6,
             "#e6f5d0"
            ],
            [
             0.7,
             "#b8e186"
            ],
            [
             0.8,
             "#7fbc41"
            ],
            [
             0.9,
             "#4d9221"
            ],
            [
             1,
             "#276419"
            ]
           ],
           "sequential": [
            [
             0,
             "#0d0887"
            ],
            [
             0.1111111111111111,
             "#46039f"
            ],
            [
             0.2222222222222222,
             "#7201a8"
            ],
            [
             0.3333333333333333,
             "#9c179e"
            ],
            [
             0.4444444444444444,
             "#bd3786"
            ],
            [
             0.5555555555555556,
             "#d8576b"
            ],
            [
             0.6666666666666666,
             "#ed7953"
            ],
            [
             0.7777777777777778,
             "#fb9f3a"
            ],
            [
             0.8888888888888888,
             "#fdca26"
            ],
            [
             1,
             "#f0f921"
            ]
           ],
           "sequentialminus": [
            [
             0,
             "#0d0887"
            ],
            [
             0.1111111111111111,
             "#46039f"
            ],
            [
             0.2222222222222222,
             "#7201a8"
            ],
            [
             0.3333333333333333,
             "#9c179e"
            ],
            [
             0.4444444444444444,
             "#bd3786"
            ],
            [
             0.5555555555555556,
             "#d8576b"
            ],
            [
             0.6666666666666666,
             "#ed7953"
            ],
            [
             0.7777777777777778,
             "#fb9f3a"
            ],
            [
             0.8888888888888888,
             "#fdca26"
            ],
            [
             1,
             "#f0f921"
            ]
           ]
          },
          "colorway": [
           "#636efa",
           "#EF553B",
           "#00cc96",
           "#ab63fa",
           "#FFA15A",
           "#19d3f3",
           "#FF6692",
           "#B6E880",
           "#FF97FF",
           "#FECB52"
          ],
          "font": {
           "color": "#2a3f5f"
          },
          "geo": {
           "bgcolor": "white",
           "lakecolor": "white",
           "landcolor": "#E5ECF6",
           "showlakes": true,
           "showland": true,
           "subunitcolor": "white"
          },
          "hoverlabel": {
           "align": "left"
          },
          "hovermode": "closest",
          "mapbox": {
           "style": "light"
          },
          "paper_bgcolor": "white",
          "plot_bgcolor": "#E5ECF6",
          "polar": {
           "angularaxis": {
            "gridcolor": "white",
            "linecolor": "white",
            "ticks": ""
           },
           "bgcolor": "#E5ECF6",
           "radialaxis": {
            "gridcolor": "white",
            "linecolor": "white",
            "ticks": ""
           }
          },
          "scene": {
           "xaxis": {
            "backgroundcolor": "#E5ECF6",
            "gridcolor": "white",
            "gridwidth": 2,
            "linecolor": "white",
            "showbackground": true,
            "ticks": "",
            "zerolinecolor": "white"
           },
           "yaxis": {
            "backgroundcolor": "#E5ECF6",
            "gridcolor": "white",
            "gridwidth": 2,
            "linecolor": "white",
            "showbackground": true,
            "ticks": "",
            "zerolinecolor": "white"
           },
           "zaxis": {
            "backgroundcolor": "#E5ECF6",
            "gridcolor": "white",
            "gridwidth": 2,
            "linecolor": "white",
            "showbackground": true,
            "ticks": "",
            "zerolinecolor": "white"
           }
          },
          "shapedefaults": {
           "line": {
            "color": "#2a3f5f"
           }
          },
          "ternary": {
           "aaxis": {
            "gridcolor": "white",
            "linecolor": "white",
            "ticks": ""
           },
           "baxis": {
            "gridcolor": "white",
            "linecolor": "white",
            "ticks": ""
           },
           "bgcolor": "#E5ECF6",
           "caxis": {
            "gridcolor": "white",
            "linecolor": "white",
            "ticks": ""
           }
          },
          "title": {
           "x": 0.05
          },
          "xaxis": {
           "automargin": true,
           "gridcolor": "white",
           "linecolor": "white",
           "ticks": "",
           "title": {
            "standoff": 15
           },
           "zerolinecolor": "white",
           "zerolinewidth": 2
          },
          "yaxis": {
           "automargin": true,
           "gridcolor": "white",
           "linecolor": "white",
           "ticks": "",
           "title": {
            "standoff": 15
           },
           "zerolinecolor": "white",
           "zerolinewidth": 2
          }
         }
        },
        "title": {
         "text": "Year-Over-Year Trends by Crop and Country"
        },
        "xaxis": {
         "anchor": "y",
         "domain": [
          0,
          1
         ],
         "title": {
          "text": "Year"
         }
        },
        "yaxis": {
         "anchor": "x",
         "domain": [
          0,
          1
         ],
         "title": {
          "text": "Number of Certificates"
         }
        }
       }
      }
     },
     "metadata": {},
     "output_type": "display_data"
    }
   ],
   "source": [
    "# Group by Year Issued, Crop, and Country and count the entries\n",
    "yoy_data = merged_data.groupby(['Year Issued', 'Crop', 'Country']).size().reset_index(name='Count')\n",
    "\n",
    "# Create an interactive line plot with Plotly\n",
    "fig = px.line(yoy_data, x='Year Issued', y='Count', color='Country', line_group='Crop', \n",
    "              line_shape='linear', hover_name='Crop', title='Year-Over-Year Trends by Crop and Country')\n",
    "fig.update_layout(xaxis_title='Year', yaxis_title='Number of Certificates', legend_title='Country')\n",
    "fig.show()"
   ]
  },
  {
   "cell_type": "code",
   "execution_count": 61,
   "metadata": {},
   "outputs": [
    {
     "data": {
      "application/vnd.plotly.v1+json": {
       "config": {
        "plotlyServerURL": "https://plot.ly"
       },
       "data": [
        {
         "hovertemplate": "<b>%{hovertext}</b><br><br>Country=Country B<br>Crop=Coffee<br>Month Issued=%{x}<br>Count=%{y}<extra></extra>",
         "hovertext": [
          "Coffee",
          "Coffee",
          "Coffee",
          "Coffee",
          "Coffee",
          "Coffee",
          "Coffee",
          "Coffee",
          "Coffee",
          "Coffee",
          "Coffee",
          "Coffee",
          "Coffee",
          "Coffee",
          "Coffee",
          "Coffee",
          "Coffee",
          "Coffee",
          "Coffee",
          "Coffee"
         ],
         "legendgroup": "Country B",
         "line": {
          "color": "#636efa",
          "dash": "solid",
          "shape": "linear"
         },
         "marker": {
          "symbol": "circle"
         },
         "mode": "lines",
         "name": "Country B",
         "orientation": "v",
         "showlegend": true,
         "type": "scatter",
         "x": [
          "2021-07",
          "2021-08",
          "2021-12",
          "2022-03",
          "2022-04",
          "2022-05",
          "2022-06",
          "2022-07",
          "2022-08",
          "2022-09",
          "2023-01",
          "2023-04",
          "2023-05",
          "2023-06",
          "2023-07",
          "2023-08",
          "2023-10",
          "2024-01",
          "2024-04",
          "2024-05"
         ],
         "xaxis": "x",
         "y": [
          21,
          2,
          1,
          2,
          40,
          138,
          70,
          18,
          6,
          1,
          1,
          40,
          137,
          78,
          23,
          4,
          1,
          1,
          4,
          4
         ],
         "yaxis": "y"
        },
        {
         "hovertemplate": "<b>%{hovertext}</b><br><br>Country=Country B<br>Crop=Cocoa<br>Month Issued=%{x}<br>Count=%{y}<extra></extra>",
         "hovertext": [
          "Cocoa",
          "Cocoa",
          "Cocoa",
          "Cocoa",
          "Cocoa",
          "Cocoa",
          "Cocoa",
          "Cocoa",
          "Cocoa"
         ],
         "legendgroup": "Country B",
         "line": {
          "color": "#636efa",
          "dash": "solid",
          "shape": "linear"
         },
         "marker": {
          "symbol": "circle"
         },
         "mode": "lines",
         "name": "Country B",
         "orientation": "v",
         "showlegend": false,
         "type": "scatter",
         "x": [
          "2021-09",
          "2021-10",
          "2022-03",
          "2022-07",
          "2022-08",
          "2022-09",
          "2022-11",
          "2023-07",
          "2023-08"
         ],
         "xaxis": "x",
         "y": [
          1,
          2,
          3,
          1,
          2,
          1,
          2,
          1,
          1
         ],
         "yaxis": "y"
        },
        {
         "hovertemplate": "<b>%{hovertext}</b><br><br>Country=Country A<br>Crop=Coffee<br>Month Issued=%{x}<br>Count=%{y}<extra></extra>",
         "hovertext": [
          "Coffee",
          "Coffee",
          "Coffee",
          "Coffee",
          "Coffee",
          "Coffee",
          "Coffee",
          "Coffee",
          "Coffee",
          "Coffee",
          "Coffee",
          "Coffee",
          "Coffee",
          "Coffee",
          "Coffee",
          "Coffee",
          "Coffee",
          "Coffee",
          "Coffee",
          "Coffee",
          "Coffee",
          "Coffee",
          "Coffee",
          "Coffee",
          "Coffee",
          "Coffee",
          "Coffee",
          "Coffee",
          "Coffee",
          "Coffee",
          "Coffee"
         ],
         "legendgroup": "Country A",
         "line": {
          "color": "#EF553B",
          "dash": "solid",
          "shape": "linear"
         },
         "marker": {
          "symbol": "circle"
         },
         "mode": "lines",
         "name": "Country A",
         "orientation": "v",
         "showlegend": true,
         "type": "scatter",
         "x": [
          "2021-08",
          "2021-09",
          "2021-10",
          "2021-11",
          "2021-12",
          "2022-01",
          "2022-03",
          "2022-04",
          "2022-05",
          "2022-06",
          "2022-07",
          "2022-08",
          "2022-09",
          "2022-10",
          "2022-11",
          "2022-12",
          "2023-01",
          "2023-02",
          "2023-03",
          "2023-04",
          "2023-05",
          "2023-06",
          "2023-07",
          "2023-08",
          "2023-09",
          "2023-10",
          "2023-11",
          "2023-12",
          "2024-03",
          "2024-04",
          "2024-05"
         ],
         "xaxis": "x",
         "y": [
          4,
          23,
          16,
          4,
          1,
          1,
          11,
          12,
          10,
          1,
          2,
          6,
          33,
          16,
          6,
          6,
          4,
          1,
          13,
          10,
          6,
          2,
          2,
          4,
          25,
          13,
          4,
          1,
          5,
          3,
          1
         ],
         "yaxis": "y"
        },
        {
         "hovertemplate": "<b>%{hovertext}</b><br><br>Country=Country A<br>Crop=Cocoa<br>Month Issued=%{x}<br>Count=%{y}<extra></extra>",
         "hovertext": [
          "Cocoa",
          "Cocoa",
          "Cocoa",
          "Cocoa"
         ],
         "legendgroup": "Country A",
         "line": {
          "color": "#EF553B",
          "dash": "solid",
          "shape": "linear"
         },
         "marker": {
          "symbol": "circle"
         },
         "mode": "lines",
         "name": "Country A",
         "orientation": "v",
         "showlegend": false,
         "type": "scatter",
         "x": [
          "2022-03",
          "2022-07",
          "2023-01",
          "2023-07"
         ],
         "xaxis": "x",
         "y": [
          1,
          1,
          1,
          1
         ],
         "yaxis": "y"
        },
        {
         "hovertemplate": "<b>%{hovertext}</b><br><br>Country=Country A<br>Crop=Tea<br>Month Issued=%{x}<br>Count=%{y}<extra></extra>",
         "hovertext": [
          "Tea",
          "Tea",
          "Tea"
         ],
         "legendgroup": "Country A",
         "line": {
          "color": "#EF553B",
          "dash": "solid",
          "shape": "linear"
         },
         "marker": {
          "symbol": "circle"
         },
         "mode": "lines",
         "name": "Country A",
         "orientation": "v",
         "showlegend": false,
         "type": "scatter",
         "x": [
          "2022-01",
          "2023-01",
          "2024-02"
         ],
         "xaxis": "x",
         "y": [
          1,
          1,
          1
         ],
         "yaxis": "y"
        },
        {
         "hovertemplate": "<b>%{hovertext}</b><br><br>Country=Country D<br>Crop=Coffee<br>Month Issued=%{x}<br>Count=%{y}<extra></extra>",
         "hovertext": [
          "Coffee",
          "Coffee",
          "Coffee",
          "Coffee",
          "Coffee",
          "Coffee",
          "Coffee",
          "Coffee",
          "Coffee",
          "Coffee",
          "Coffee"
         ],
         "legendgroup": "Country D",
         "line": {
          "color": "#00cc96",
          "dash": "solid",
          "shape": "linear"
         },
         "marker": {
          "symbol": "circle"
         },
         "mode": "lines",
         "name": "Country D",
         "orientation": "v",
         "showlegend": true,
         "type": "scatter",
         "x": [
          "2021-08",
          "2021-09",
          "2021-10",
          "2021-11",
          "2021-12",
          "2022-10",
          "2022-11",
          "2022-12",
          "2023-10",
          "2023-11",
          "2023-12"
         ],
         "xaxis": "x",
         "y": [
          1,
          1,
          4,
          5,
          3,
          5,
          4,
          3,
          5,
          4,
          4
         ],
         "yaxis": "y"
        },
        {
         "hovertemplate": "<b>%{hovertext}</b><br><br>Country=Country D<br>Crop=Cocoa<br>Month Issued=%{x}<br>Count=%{y}<extra></extra>",
         "hovertext": [
          "Cocoa",
          "Cocoa",
          "Cocoa",
          "Cocoa"
         ],
         "legendgroup": "Country D",
         "line": {
          "color": "#00cc96",
          "dash": "solid",
          "shape": "linear"
         },
         "marker": {
          "symbol": "circle"
         },
         "mode": "lines",
         "name": "Country D",
         "orientation": "v",
         "showlegend": false,
         "type": "scatter",
         "x": [
          "2021-10",
          "2022-10",
          "2022-12",
          "2023-10"
         ],
         "xaxis": "x",
         "y": [
          1,
          1,
          1,
          1
         ],
         "yaxis": "y"
        },
        {
         "hovertemplate": "<b>%{hovertext}</b><br><br>Country=Country C<br>Crop=Coffee<br>Month Issued=%{x}<br>Count=%{y}<extra></extra>",
         "hovertext": [
          "Coffee",
          "Coffee",
          "Coffee",
          "Coffee",
          "Coffee",
          "Coffee",
          "Coffee",
          "Coffee",
          "Coffee",
          "Coffee",
          "Coffee",
          "Coffee",
          "Coffee",
          "Coffee",
          "Coffee",
          "Coffee"
         ],
         "legendgroup": "Country C",
         "line": {
          "color": "#ab63fa",
          "dash": "solid",
          "shape": "linear"
         },
         "marker": {
          "symbol": "circle"
         },
         "mode": "lines",
         "name": "Country C",
         "orientation": "v",
         "showlegend": true,
         "type": "scatter",
         "x": [
          "2021-09",
          "2021-10",
          "2021-11",
          "2021-12",
          "2022-01",
          "2022-09",
          "2022-10",
          "2022-11",
          "2022-12",
          "2023-01",
          "2023-09",
          "2023-10",
          "2023-11",
          "2023-12",
          "2024-01",
          "2024-02"
         ],
         "xaxis": "x",
         "y": [
          1,
          12,
          27,
          16,
          1,
          1,
          6,
          32,
          40,
          1,
          1,
          7,
          25,
          40,
          2,
          1
         ],
         "yaxis": "y"
        }
       ],
       "layout": {
        "legend": {
         "title": {
          "text": "Country"
         },
         "tracegroupgap": 0
        },
        "template": {
         "data": {
          "bar": [
           {
            "error_x": {
             "color": "#2a3f5f"
            },
            "error_y": {
             "color": "#2a3f5f"
            },
            "marker": {
             "line": {
              "color": "#E5ECF6",
              "width": 0.5
             },
             "pattern": {
              "fillmode": "overlay",
              "size": 10,
              "solidity": 0.2
             }
            },
            "type": "bar"
           }
          ],
          "barpolar": [
           {
            "marker": {
             "line": {
              "color": "#E5ECF6",
              "width": 0.5
             },
             "pattern": {
              "fillmode": "overlay",
              "size": 10,
              "solidity": 0.2
             }
            },
            "type": "barpolar"
           }
          ],
          "carpet": [
           {
            "aaxis": {
             "endlinecolor": "#2a3f5f",
             "gridcolor": "white",
             "linecolor": "white",
             "minorgridcolor": "white",
             "startlinecolor": "#2a3f5f"
            },
            "baxis": {
             "endlinecolor": "#2a3f5f",
             "gridcolor": "white",
             "linecolor": "white",
             "minorgridcolor": "white",
             "startlinecolor": "#2a3f5f"
            },
            "type": "carpet"
           }
          ],
          "choropleth": [
           {
            "colorbar": {
             "outlinewidth": 0,
             "ticks": ""
            },
            "type": "choropleth"
           }
          ],
          "contour": [
           {
            "colorbar": {
             "outlinewidth": 0,
             "ticks": ""
            },
            "colorscale": [
             [
              0,
              "#0d0887"
             ],
             [
              0.1111111111111111,
              "#46039f"
             ],
             [
              0.2222222222222222,
              "#7201a8"
             ],
             [
              0.3333333333333333,
              "#9c179e"
             ],
             [
              0.4444444444444444,
              "#bd3786"
             ],
             [
              0.5555555555555556,
              "#d8576b"
             ],
             [
              0.6666666666666666,
              "#ed7953"
             ],
             [
              0.7777777777777778,
              "#fb9f3a"
             ],
             [
              0.8888888888888888,
              "#fdca26"
             ],
             [
              1,
              "#f0f921"
             ]
            ],
            "type": "contour"
           }
          ],
          "contourcarpet": [
           {
            "colorbar": {
             "outlinewidth": 0,
             "ticks": ""
            },
            "type": "contourcarpet"
           }
          ],
          "heatmap": [
           {
            "colorbar": {
             "outlinewidth": 0,
             "ticks": ""
            },
            "colorscale": [
             [
              0,
              "#0d0887"
             ],
             [
              0.1111111111111111,
              "#46039f"
             ],
             [
              0.2222222222222222,
              "#7201a8"
             ],
             [
              0.3333333333333333,
              "#9c179e"
             ],
             [
              0.4444444444444444,
              "#bd3786"
             ],
             [
              0.5555555555555556,
              "#d8576b"
             ],
             [
              0.6666666666666666,
              "#ed7953"
             ],
             [
              0.7777777777777778,
              "#fb9f3a"
             ],
             [
              0.8888888888888888,
              "#fdca26"
             ],
             [
              1,
              "#f0f921"
             ]
            ],
            "type": "heatmap"
           }
          ],
          "heatmapgl": [
           {
            "colorbar": {
             "outlinewidth": 0,
             "ticks": ""
            },
            "colorscale": [
             [
              0,
              "#0d0887"
             ],
             [
              0.1111111111111111,
              "#46039f"
             ],
             [
              0.2222222222222222,
              "#7201a8"
             ],
             [
              0.3333333333333333,
              "#9c179e"
             ],
             [
              0.4444444444444444,
              "#bd3786"
             ],
             [
              0.5555555555555556,
              "#d8576b"
             ],
             [
              0.6666666666666666,
              "#ed7953"
             ],
             [
              0.7777777777777778,
              "#fb9f3a"
             ],
             [
              0.8888888888888888,
              "#fdca26"
             ],
             [
              1,
              "#f0f921"
             ]
            ],
            "type": "heatmapgl"
           }
          ],
          "histogram": [
           {
            "marker": {
             "pattern": {
              "fillmode": "overlay",
              "size": 10,
              "solidity": 0.2
             }
            },
            "type": "histogram"
           }
          ],
          "histogram2d": [
           {
            "colorbar": {
             "outlinewidth": 0,
             "ticks": ""
            },
            "colorscale": [
             [
              0,
              "#0d0887"
             ],
             [
              0.1111111111111111,
              "#46039f"
             ],
             [
              0.2222222222222222,
              "#7201a8"
             ],
             [
              0.3333333333333333,
              "#9c179e"
             ],
             [
              0.4444444444444444,
              "#bd3786"
             ],
             [
              0.5555555555555556,
              "#d8576b"
             ],
             [
              0.6666666666666666,
              "#ed7953"
             ],
             [
              0.7777777777777778,
              "#fb9f3a"
             ],
             [
              0.8888888888888888,
              "#fdca26"
             ],
             [
              1,
              "#f0f921"
             ]
            ],
            "type": "histogram2d"
           }
          ],
          "histogram2dcontour": [
           {
            "colorbar": {
             "outlinewidth": 0,
             "ticks": ""
            },
            "colorscale": [
             [
              0,
              "#0d0887"
             ],
             [
              0.1111111111111111,
              "#46039f"
             ],
             [
              0.2222222222222222,
              "#7201a8"
             ],
             [
              0.3333333333333333,
              "#9c179e"
             ],
             [
              0.4444444444444444,
              "#bd3786"
             ],
             [
              0.5555555555555556,
              "#d8576b"
             ],
             [
              0.6666666666666666,
              "#ed7953"
             ],
             [
              0.7777777777777778,
              "#fb9f3a"
             ],
             [
              0.8888888888888888,
              "#fdca26"
             ],
             [
              1,
              "#f0f921"
             ]
            ],
            "type": "histogram2dcontour"
           }
          ],
          "mesh3d": [
           {
            "colorbar": {
             "outlinewidth": 0,
             "ticks": ""
            },
            "type": "mesh3d"
           }
          ],
          "parcoords": [
           {
            "line": {
             "colorbar": {
              "outlinewidth": 0,
              "ticks": ""
             }
            },
            "type": "parcoords"
           }
          ],
          "pie": [
           {
            "automargin": true,
            "type": "pie"
           }
          ],
          "scatter": [
           {
            "fillpattern": {
             "fillmode": "overlay",
             "size": 10,
             "solidity": 0.2
            },
            "type": "scatter"
           }
          ],
          "scatter3d": [
           {
            "line": {
             "colorbar": {
              "outlinewidth": 0,
              "ticks": ""
             }
            },
            "marker": {
             "colorbar": {
              "outlinewidth": 0,
              "ticks": ""
             }
            },
            "type": "scatter3d"
           }
          ],
          "scattercarpet": [
           {
            "marker": {
             "colorbar": {
              "outlinewidth": 0,
              "ticks": ""
             }
            },
            "type": "scattercarpet"
           }
          ],
          "scattergeo": [
           {
            "marker": {
             "colorbar": {
              "outlinewidth": 0,
              "ticks": ""
             }
            },
            "type": "scattergeo"
           }
          ],
          "scattergl": [
           {
            "marker": {
             "colorbar": {
              "outlinewidth": 0,
              "ticks": ""
             }
            },
            "type": "scattergl"
           }
          ],
          "scattermapbox": [
           {
            "marker": {
             "colorbar": {
              "outlinewidth": 0,
              "ticks": ""
             }
            },
            "type": "scattermapbox"
           }
          ],
          "scatterpolar": [
           {
            "marker": {
             "colorbar": {
              "outlinewidth": 0,
              "ticks": ""
             }
            },
            "type": "scatterpolar"
           }
          ],
          "scatterpolargl": [
           {
            "marker": {
             "colorbar": {
              "outlinewidth": 0,
              "ticks": ""
             }
            },
            "type": "scatterpolargl"
           }
          ],
          "scatterternary": [
           {
            "marker": {
             "colorbar": {
              "outlinewidth": 0,
              "ticks": ""
             }
            },
            "type": "scatterternary"
           }
          ],
          "surface": [
           {
            "colorbar": {
             "outlinewidth": 0,
             "ticks": ""
            },
            "colorscale": [
             [
              0,
              "#0d0887"
             ],
             [
              0.1111111111111111,
              "#46039f"
             ],
             [
              0.2222222222222222,
              "#7201a8"
             ],
             [
              0.3333333333333333,
              "#9c179e"
             ],
             [
              0.4444444444444444,
              "#bd3786"
             ],
             [
              0.5555555555555556,
              "#d8576b"
             ],
             [
              0.6666666666666666,
              "#ed7953"
             ],
             [
              0.7777777777777778,
              "#fb9f3a"
             ],
             [
              0.8888888888888888,
              "#fdca26"
             ],
             [
              1,
              "#f0f921"
             ]
            ],
            "type": "surface"
           }
          ],
          "table": [
           {
            "cells": {
             "fill": {
              "color": "#EBF0F8"
             },
             "line": {
              "color": "white"
             }
            },
            "header": {
             "fill": {
              "color": "#C8D4E3"
             },
             "line": {
              "color": "white"
             }
            },
            "type": "table"
           }
          ]
         },
         "layout": {
          "annotationdefaults": {
           "arrowcolor": "#2a3f5f",
           "arrowhead": 0,
           "arrowwidth": 1
          },
          "autotypenumbers": "strict",
          "coloraxis": {
           "colorbar": {
            "outlinewidth": 0,
            "ticks": ""
           }
          },
          "colorscale": {
           "diverging": [
            [
             0,
             "#8e0152"
            ],
            [
             0.1,
             "#c51b7d"
            ],
            [
             0.2,
             "#de77ae"
            ],
            [
             0.3,
             "#f1b6da"
            ],
            [
             0.4,
             "#fde0ef"
            ],
            [
             0.5,
             "#f7f7f7"
            ],
            [
             0.6,
             "#e6f5d0"
            ],
            [
             0.7,
             "#b8e186"
            ],
            [
             0.8,
             "#7fbc41"
            ],
            [
             0.9,
             "#4d9221"
            ],
            [
             1,
             "#276419"
            ]
           ],
           "sequential": [
            [
             0,
             "#0d0887"
            ],
            [
             0.1111111111111111,
             "#46039f"
            ],
            [
             0.2222222222222222,
             "#7201a8"
            ],
            [
             0.3333333333333333,
             "#9c179e"
            ],
            [
             0.4444444444444444,
             "#bd3786"
            ],
            [
             0.5555555555555556,
             "#d8576b"
            ],
            [
             0.6666666666666666,
             "#ed7953"
            ],
            [
             0.7777777777777778,
             "#fb9f3a"
            ],
            [
             0.8888888888888888,
             "#fdca26"
            ],
            [
             1,
             "#f0f921"
            ]
           ],
           "sequentialminus": [
            [
             0,
             "#0d0887"
            ],
            [
             0.1111111111111111,
             "#46039f"
            ],
            [
             0.2222222222222222,
             "#7201a8"
            ],
            [
             0.3333333333333333,
             "#9c179e"
            ],
            [
             0.4444444444444444,
             "#bd3786"
            ],
            [
             0.5555555555555556,
             "#d8576b"
            ],
            [
             0.6666666666666666,
             "#ed7953"
            ],
            [
             0.7777777777777778,
             "#fb9f3a"
            ],
            [
             0.8888888888888888,
             "#fdca26"
            ],
            [
             1,
             "#f0f921"
            ]
           ]
          },
          "colorway": [
           "#636efa",
           "#EF553B",
           "#00cc96",
           "#ab63fa",
           "#FFA15A",
           "#19d3f3",
           "#FF6692",
           "#B6E880",
           "#FF97FF",
           "#FECB52"
          ],
          "font": {
           "color": "#2a3f5f"
          },
          "geo": {
           "bgcolor": "white",
           "lakecolor": "white",
           "landcolor": "#E5ECF6",
           "showlakes": true,
           "showland": true,
           "subunitcolor": "white"
          },
          "hoverlabel": {
           "align": "left"
          },
          "hovermode": "closest",
          "mapbox": {
           "style": "light"
          },
          "paper_bgcolor": "white",
          "plot_bgcolor": "#E5ECF6",
          "polar": {
           "angularaxis": {
            "gridcolor": "white",
            "linecolor": "white",
            "ticks": ""
           },
           "bgcolor": "#E5ECF6",
           "radialaxis": {
            "gridcolor": "white",
            "linecolor": "white",
            "ticks": ""
           }
          },
          "scene": {
           "xaxis": {
            "backgroundcolor": "#E5ECF6",
            "gridcolor": "white",
            "gridwidth": 2,
            "linecolor": "white",
            "showbackground": true,
            "ticks": "",
            "zerolinecolor": "white"
           },
           "yaxis": {
            "backgroundcolor": "#E5ECF6",
            "gridcolor": "white",
            "gridwidth": 2,
            "linecolor": "white",
            "showbackground": true,
            "ticks": "",
            "zerolinecolor": "white"
           },
           "zaxis": {
            "backgroundcolor": "#E5ECF6",
            "gridcolor": "white",
            "gridwidth": 2,
            "linecolor": "white",
            "showbackground": true,
            "ticks": "",
            "zerolinecolor": "white"
           }
          },
          "shapedefaults": {
           "line": {
            "color": "#2a3f5f"
           }
          },
          "ternary": {
           "aaxis": {
            "gridcolor": "white",
            "linecolor": "white",
            "ticks": ""
           },
           "baxis": {
            "gridcolor": "white",
            "linecolor": "white",
            "ticks": ""
           },
           "bgcolor": "#E5ECF6",
           "caxis": {
            "gridcolor": "white",
            "linecolor": "white",
            "ticks": ""
           }
          },
          "title": {
           "x": 0.05
          },
          "xaxis": {
           "automargin": true,
           "gridcolor": "white",
           "linecolor": "white",
           "ticks": "",
           "title": {
            "standoff": 15
           },
           "zerolinecolor": "white",
           "zerolinewidth": 2
          },
          "yaxis": {
           "automargin": true,
           "gridcolor": "white",
           "linecolor": "white",
           "ticks": "",
           "title": {
            "standoff": 15
           },
           "zerolinecolor": "white",
           "zerolinewidth": 2
          }
         }
        },
        "title": {
         "text": "Month-Over-Month Trends by Crop and Country"
        },
        "xaxis": {
         "anchor": "y",
         "domain": [
          0,
          1
         ],
         "title": {
          "text": "Month"
         },
         "type": "category"
        },
        "yaxis": {
         "anchor": "x",
         "domain": [
          0,
          1
         ],
         "title": {
          "text": "Number of Certificates"
         }
        }
       }
      }
     },
     "metadata": {},
     "output_type": "display_data"
    }
   ],
   "source": [
    "mom_data = merged_data.groupby(['Month Issued', 'Crop', 'Country']).size().reset_index(name='Count')\n",
    "\n",
    "# Create an interactive line plot with Plotly\n",
    "fig = px.line(mom_data, x='Month Issued', y='Count', color='Country', line_group='Crop', \n",
    "              line_shape='linear', hover_name='Crop', title='Month-Over-Month Trends by Crop and Country')\n",
    "fig.update_layout(xaxis_title='Month', yaxis_title='Number of Certificates', legend_title='Country', xaxis={'type': 'category'})\n",
    "fig.show()"
   ]
  },
  {
   "cell_type": "markdown",
   "metadata": {},
   "source": [
    "#### 3: List unique crops and their counts."
   ]
  },
  {
   "cell_type": "code",
   "execution_count": 62,
   "metadata": {},
   "outputs": [
    {
     "data": {
      "text/plain": [
       "Crop\n",
       "Coffee    1118\n",
       "Cocoa       26\n",
       "Tea          3\n",
       "Name: count, dtype: int64"
      ]
     },
     "execution_count": 62,
     "metadata": {},
     "output_type": "execute_result"
    }
   ],
   "source": [
    "volume_and_crops['Crop'].value_counts()"
   ]
  },
  {
   "cell_type": "markdown",
   "metadata": {},
   "source": [
    "#### 4: Total estimated volume harvested per crop."
   ]
  },
  {
   "cell_type": "code",
   "execution_count": 63,
   "metadata": {},
   "outputs": [
    {
     "name": "stdout",
     "output_type": "stream",
     "text": [
      "Crop\n",
      "Cocoa        13,561,333\n",
      "Coffee    1,906,118,974\n",
      "Tea              51,558\n",
      "Name: Estimated harvested volume, dtype: object\n"
     ]
    }
   ],
   "source": [
    "volume_per_crop = volume_and_crops.groupby('Crop')['Estimated harvested volume'].sum()\n",
    "formatted_volume_per_crop = volume_per_crop.apply(lambda x: f\"{x:,.0f}\")\n",
    "print(formatted_volume_per_crop)"
   ]
  },
  {
   "cell_type": "markdown",
   "metadata": {},
   "source": [
    "#### 5: Find certificate holders with multiple certificates."
   ]
  },
  {
   "cell_type": "code",
   "execution_count": 64,
   "metadata": {},
   "outputs": [
    {
     "data": {
      "text/plain": [
       "Certificate Holder ID\n",
       "CH43676B   4.00\n",
       "CHA6608E   4.00\n",
       "CH698EFE   3.00\n",
       "CH2622D3   3.00\n",
       "CH23BF4D   3.00\n",
       "           ... \n",
       "CH4018D0   2.00\n",
       "CHF04403   2.00\n",
       "CH3EC767   2.00\n",
       "CH498D4B   2.00\n",
       "CH65C56B   2.00\n",
       "Name: count, Length: 754, dtype: float64"
      ]
     },
     "execution_count": 64,
     "metadata": {},
     "output_type": "execute_result"
    }
   ],
   "source": [
    "certificate_holders['Certificate Holder ID'].value_counts().where(lambda x: x > 1).dropna()"
   ]
  },
  {
   "cell_type": "code",
   "execution_count": 65,
   "metadata": {},
   "outputs": [
    {
     "data": {
      "application/vnd.plotly.v1+json": {
       "config": {
        "plotlyServerURL": "https://plot.ly"
       },
       "data": [
        {
         "alignmentgroup": "True",
         "bingroup": "x",
         "hovertemplate": "Number of Certificates=%{x}<br>count=%{y}<extra></extra>",
         "legendgroup": "",
         "marker": {
          "color": "#636efa",
          "opacity": 0.8,
          "pattern": {
           "shape": ""
          }
         },
         "name": "",
         "nbinsx": 4,
         "offsetgroup": "",
         "orientation": "v",
         "showlegend": false,
         "texttemplate": "%{value}",
         "type": "histogram",
         "x": [
          4,
          4,
          3,
          3,
          3,
          3,
          3,
          3,
          3,
          3,
          3,
          3,
          3,
          3,
          3,
          3,
          3,
          3,
          3,
          3,
          3,
          3,
          3,
          3,
          3,
          3,
          3,
          3,
          3,
          3,
          3,
          3,
          3,
          3,
          3,
          3,
          3,
          3,
          3,
          3,
          3,
          3,
          3,
          3,
          3,
          3,
          3,
          3,
          3,
          3,
          3,
          3,
          3,
          3,
          3,
          3,
          3,
          3,
          3,
          3,
          3,
          3,
          3,
          3,
          3,
          3,
          3,
          3,
          3,
          3,
          3,
          3,
          3,
          3,
          3,
          3,
          3,
          3,
          3,
          3,
          3,
          3,
          3,
          3,
          3,
          3,
          3,
          3,
          3,
          3,
          3,
          3,
          3,
          3,
          3,
          3,
          3,
          3,
          3,
          3,
          3,
          3,
          3,
          3,
          3,
          3,
          3,
          3,
          3,
          3,
          3,
          3,
          3,
          3,
          3,
          3,
          3,
          3,
          3,
          3,
          3,
          3,
          3,
          3,
          3,
          3,
          3,
          3,
          3,
          3,
          3,
          3,
          3,
          3,
          3,
          3,
          3,
          3,
          3,
          3,
          3,
          3,
          3,
          3,
          3,
          3,
          3,
          3,
          3,
          3,
          3,
          3,
          3,
          3,
          3,
          3,
          2,
          2,
          2,
          2,
          2,
          2,
          2,
          2,
          2,
          2,
          2,
          2,
          2,
          2,
          2,
          2,
          2,
          2,
          2,
          2,
          2,
          2,
          2,
          2,
          2,
          2,
          2,
          2,
          2,
          2,
          2,
          2,
          2,
          2,
          2,
          2,
          2,
          2,
          2,
          2,
          2,
          2,
          2,
          2,
          2,
          2,
          2,
          2,
          2,
          2,
          2,
          2,
          2,
          2,
          2,
          2,
          2,
          2,
          2,
          2,
          2,
          2,
          2,
          2,
          2,
          2,
          2,
          2,
          2,
          2,
          2,
          2,
          2,
          2,
          2,
          2,
          2,
          2,
          2,
          2,
          2,
          2,
          2,
          2,
          2,
          2,
          2,
          2,
          2,
          2,
          2,
          2,
          2,
          2,
          2,
          2,
          2,
          2,
          2,
          2,
          2,
          2,
          2,
          2,
          2,
          2,
          2,
          2,
          2,
          2,
          2,
          2,
          2,
          2,
          2,
          2,
          2,
          2,
          2,
          2,
          2,
          2,
          2,
          2,
          2,
          2,
          2,
          2,
          2,
          2,
          2,
          2,
          2,
          2,
          2,
          2,
          2,
          2,
          2,
          2,
          2,
          2,
          2,
          2,
          2,
          2,
          2,
          2,
          2,
          2,
          2,
          2,
          2,
          2,
          2,
          2,
          2,
          2,
          2,
          2,
          2,
          2,
          2,
          2,
          2,
          2,
          2,
          2,
          2,
          2,
          2,
          2,
          2,
          2,
          2,
          2,
          2,
          2,
          2,
          2,
          2,
          2,
          2,
          2,
          2,
          2,
          2,
          2,
          2,
          2,
          2,
          2,
          2,
          2,
          2,
          2,
          2,
          2,
          2,
          2,
          2,
          2,
          2,
          2,
          2,
          2,
          2,
          2,
          2,
          2,
          2,
          2,
          2,
          2,
          2,
          2,
          2,
          2,
          2,
          2,
          2,
          2,
          2,
          2,
          2,
          2,
          2,
          2,
          2,
          2,
          2,
          2,
          2,
          2,
          2,
          2,
          2,
          2,
          2,
          2,
          2,
          2,
          2,
          2,
          2,
          2,
          2,
          2,
          2,
          2,
          2,
          2,
          2,
          2,
          2,
          2,
          2,
          2,
          2,
          2,
          2,
          2,
          2,
          2,
          2,
          2,
          2,
          2,
          2,
          2,
          2,
          2,
          2,
          2,
          2,
          2,
          2,
          2,
          2,
          2,
          2,
          2,
          2,
          2,
          2,
          2,
          2,
          2,
          2,
          2,
          2,
          2,
          2,
          2,
          2,
          2,
          2,
          2,
          2,
          2,
          2,
          2,
          2,
          2,
          2,
          2,
          2,
          2,
          2,
          2,
          2,
          2,
          2,
          2,
          2,
          2,
          2,
          2,
          2,
          2,
          2,
          2,
          2,
          2,
          2,
          2,
          2,
          2,
          2,
          2,
          2,
          2,
          2,
          2,
          2,
          2,
          2,
          2,
          2,
          2,
          2,
          2,
          2,
          2,
          2,
          2,
          2,
          2,
          2,
          2,
          2,
          2,
          2,
          2,
          2,
          2,
          2,
          2,
          2,
          2,
          2,
          2,
          2,
          2,
          2,
          2,
          2,
          2,
          2,
          2,
          2,
          2,
          2,
          2,
          2,
          2,
          2,
          2,
          2,
          2,
          2,
          2,
          2,
          2,
          2,
          2,
          2,
          2,
          2,
          2,
          2,
          2,
          2,
          2,
          2,
          2,
          2,
          2,
          2,
          2,
          2,
          2,
          2,
          2,
          2,
          2,
          2,
          2,
          2,
          2,
          2,
          2,
          2,
          2,
          2,
          2,
          2,
          2,
          2,
          2,
          2,
          2,
          2,
          2,
          2,
          2,
          2,
          2,
          2,
          2,
          2,
          2,
          2,
          2,
          2,
          2,
          2,
          2,
          2,
          2,
          2,
          2,
          2,
          2,
          2,
          2,
          2,
          2,
          2,
          2,
          2,
          2,
          2,
          2,
          2,
          2,
          2,
          2,
          2,
          2,
          2,
          2,
          2,
          2,
          2,
          2,
          2,
          2,
          2,
          2,
          2,
          2,
          2,
          2,
          2,
          2,
          2,
          2,
          2,
          2,
          2,
          2,
          2,
          2,
          2,
          2,
          2,
          2,
          2,
          2,
          2,
          2,
          2,
          2,
          2,
          2,
          2,
          2,
          2,
          2,
          2,
          2,
          2,
          2,
          2,
          2,
          2,
          2,
          2,
          2,
          2,
          2,
          2,
          2,
          2,
          2,
          2,
          2,
          2,
          2,
          2,
          2,
          2,
          2,
          2,
          2,
          2,
          2,
          2,
          2,
          2,
          2,
          2,
          2,
          2,
          2,
          2,
          2,
          2,
          2,
          2,
          2,
          2,
          2,
          2,
          2,
          2,
          2,
          2,
          2,
          2,
          2,
          2,
          2,
          2,
          2,
          2,
          2,
          2,
          2,
          2,
          2,
          2,
          2,
          2,
          2,
          2,
          2,
          2,
          2,
          2,
          2,
          2,
          2,
          2,
          2,
          2,
          2,
          2,
          2,
          2,
          2,
          2,
          2,
          2,
          2,
          2,
          2,
          2,
          2,
          2,
          2,
          2,
          2,
          2,
          2,
          2,
          2
         ],
         "xaxis": "x",
         "yaxis": "y"
        }
       ],
       "layout": {
        "bargap": 0.2,
        "barmode": "relative",
        "legend": {
         "tracegroupgap": 0
        },
        "template": {
         "data": {
          "bar": [
           {
            "error_x": {
             "color": "#2a3f5f"
            },
            "error_y": {
             "color": "#2a3f5f"
            },
            "marker": {
             "line": {
              "color": "#E5ECF6",
              "width": 0.5
             },
             "pattern": {
              "fillmode": "overlay",
              "size": 10,
              "solidity": 0.2
             }
            },
            "type": "bar"
           }
          ],
          "barpolar": [
           {
            "marker": {
             "line": {
              "color": "#E5ECF6",
              "width": 0.5
             },
             "pattern": {
              "fillmode": "overlay",
              "size": 10,
              "solidity": 0.2
             }
            },
            "type": "barpolar"
           }
          ],
          "carpet": [
           {
            "aaxis": {
             "endlinecolor": "#2a3f5f",
             "gridcolor": "white",
             "linecolor": "white",
             "minorgridcolor": "white",
             "startlinecolor": "#2a3f5f"
            },
            "baxis": {
             "endlinecolor": "#2a3f5f",
             "gridcolor": "white",
             "linecolor": "white",
             "minorgridcolor": "white",
             "startlinecolor": "#2a3f5f"
            },
            "type": "carpet"
           }
          ],
          "choropleth": [
           {
            "colorbar": {
             "outlinewidth": 0,
             "ticks": ""
            },
            "type": "choropleth"
           }
          ],
          "contour": [
           {
            "colorbar": {
             "outlinewidth": 0,
             "ticks": ""
            },
            "colorscale": [
             [
              0,
              "#0d0887"
             ],
             [
              0.1111111111111111,
              "#46039f"
             ],
             [
              0.2222222222222222,
              "#7201a8"
             ],
             [
              0.3333333333333333,
              "#9c179e"
             ],
             [
              0.4444444444444444,
              "#bd3786"
             ],
             [
              0.5555555555555556,
              "#d8576b"
             ],
             [
              0.6666666666666666,
              "#ed7953"
             ],
             [
              0.7777777777777778,
              "#fb9f3a"
             ],
             [
              0.8888888888888888,
              "#fdca26"
             ],
             [
              1,
              "#f0f921"
             ]
            ],
            "type": "contour"
           }
          ],
          "contourcarpet": [
           {
            "colorbar": {
             "outlinewidth": 0,
             "ticks": ""
            },
            "type": "contourcarpet"
           }
          ],
          "heatmap": [
           {
            "colorbar": {
             "outlinewidth": 0,
             "ticks": ""
            },
            "colorscale": [
             [
              0,
              "#0d0887"
             ],
             [
              0.1111111111111111,
              "#46039f"
             ],
             [
              0.2222222222222222,
              "#7201a8"
             ],
             [
              0.3333333333333333,
              "#9c179e"
             ],
             [
              0.4444444444444444,
              "#bd3786"
             ],
             [
              0.5555555555555556,
              "#d8576b"
             ],
             [
              0.6666666666666666,
              "#ed7953"
             ],
             [
              0.7777777777777778,
              "#fb9f3a"
             ],
             [
              0.8888888888888888,
              "#fdca26"
             ],
             [
              1,
              "#f0f921"
             ]
            ],
            "type": "heatmap"
           }
          ],
          "heatmapgl": [
           {
            "colorbar": {
             "outlinewidth": 0,
             "ticks": ""
            },
            "colorscale": [
             [
              0,
              "#0d0887"
             ],
             [
              0.1111111111111111,
              "#46039f"
             ],
             [
              0.2222222222222222,
              "#7201a8"
             ],
             [
              0.3333333333333333,
              "#9c179e"
             ],
             [
              0.4444444444444444,
              "#bd3786"
             ],
             [
              0.5555555555555556,
              "#d8576b"
             ],
             [
              0.6666666666666666,
              "#ed7953"
             ],
             [
              0.7777777777777778,
              "#fb9f3a"
             ],
             [
              0.8888888888888888,
              "#fdca26"
             ],
             [
              1,
              "#f0f921"
             ]
            ],
            "type": "heatmapgl"
           }
          ],
          "histogram": [
           {
            "marker": {
             "pattern": {
              "fillmode": "overlay",
              "size": 10,
              "solidity": 0.2
             }
            },
            "type": "histogram"
           }
          ],
          "histogram2d": [
           {
            "colorbar": {
             "outlinewidth": 0,
             "ticks": ""
            },
            "colorscale": [
             [
              0,
              "#0d0887"
             ],
             [
              0.1111111111111111,
              "#46039f"
             ],
             [
              0.2222222222222222,
              "#7201a8"
             ],
             [
              0.3333333333333333,
              "#9c179e"
             ],
             [
              0.4444444444444444,
              "#bd3786"
             ],
             [
              0.5555555555555556,
              "#d8576b"
             ],
             [
              0.6666666666666666,
              "#ed7953"
             ],
             [
              0.7777777777777778,
              "#fb9f3a"
             ],
             [
              0.8888888888888888,
              "#fdca26"
             ],
             [
              1,
              "#f0f921"
             ]
            ],
            "type": "histogram2d"
           }
          ],
          "histogram2dcontour": [
           {
            "colorbar": {
             "outlinewidth": 0,
             "ticks": ""
            },
            "colorscale": [
             [
              0,
              "#0d0887"
             ],
             [
              0.1111111111111111,
              "#46039f"
             ],
             [
              0.2222222222222222,
              "#7201a8"
             ],
             [
              0.3333333333333333,
              "#9c179e"
             ],
             [
              0.4444444444444444,
              "#bd3786"
             ],
             [
              0.5555555555555556,
              "#d8576b"
             ],
             [
              0.6666666666666666,
              "#ed7953"
             ],
             [
              0.7777777777777778,
              "#fb9f3a"
             ],
             [
              0.8888888888888888,
              "#fdca26"
             ],
             [
              1,
              "#f0f921"
             ]
            ],
            "type": "histogram2dcontour"
           }
          ],
          "mesh3d": [
           {
            "colorbar": {
             "outlinewidth": 0,
             "ticks": ""
            },
            "type": "mesh3d"
           }
          ],
          "parcoords": [
           {
            "line": {
             "colorbar": {
              "outlinewidth": 0,
              "ticks": ""
             }
            },
            "type": "parcoords"
           }
          ],
          "pie": [
           {
            "automargin": true,
            "type": "pie"
           }
          ],
          "scatter": [
           {
            "fillpattern": {
             "fillmode": "overlay",
             "size": 10,
             "solidity": 0.2
            },
            "type": "scatter"
           }
          ],
          "scatter3d": [
           {
            "line": {
             "colorbar": {
              "outlinewidth": 0,
              "ticks": ""
             }
            },
            "marker": {
             "colorbar": {
              "outlinewidth": 0,
              "ticks": ""
             }
            },
            "type": "scatter3d"
           }
          ],
          "scattercarpet": [
           {
            "marker": {
             "colorbar": {
              "outlinewidth": 0,
              "ticks": ""
             }
            },
            "type": "scattercarpet"
           }
          ],
          "scattergeo": [
           {
            "marker": {
             "colorbar": {
              "outlinewidth": 0,
              "ticks": ""
             }
            },
            "type": "scattergeo"
           }
          ],
          "scattergl": [
           {
            "marker": {
             "colorbar": {
              "outlinewidth": 0,
              "ticks": ""
             }
            },
            "type": "scattergl"
           }
          ],
          "scattermapbox": [
           {
            "marker": {
             "colorbar": {
              "outlinewidth": 0,
              "ticks": ""
             }
            },
            "type": "scattermapbox"
           }
          ],
          "scatterpolar": [
           {
            "marker": {
             "colorbar": {
              "outlinewidth": 0,
              "ticks": ""
             }
            },
            "type": "scatterpolar"
           }
          ],
          "scatterpolargl": [
           {
            "marker": {
             "colorbar": {
              "outlinewidth": 0,
              "ticks": ""
             }
            },
            "type": "scatterpolargl"
           }
          ],
          "scatterternary": [
           {
            "marker": {
             "colorbar": {
              "outlinewidth": 0,
              "ticks": ""
             }
            },
            "type": "scatterternary"
           }
          ],
          "surface": [
           {
            "colorbar": {
             "outlinewidth": 0,
             "ticks": ""
            },
            "colorscale": [
             [
              0,
              "#0d0887"
             ],
             [
              0.1111111111111111,
              "#46039f"
             ],
             [
              0.2222222222222222,
              "#7201a8"
             ],
             [
              0.3333333333333333,
              "#9c179e"
             ],
             [
              0.4444444444444444,
              "#bd3786"
             ],
             [
              0.5555555555555556,
              "#d8576b"
             ],
             [
              0.6666666666666666,
              "#ed7953"
             ],
             [
              0.7777777777777778,
              "#fb9f3a"
             ],
             [
              0.8888888888888888,
              "#fdca26"
             ],
             [
              1,
              "#f0f921"
             ]
            ],
            "type": "surface"
           }
          ],
          "table": [
           {
            "cells": {
             "fill": {
              "color": "#EBF0F8"
             },
             "line": {
              "color": "white"
             }
            },
            "header": {
             "fill": {
              "color": "#C8D4E3"
             },
             "line": {
              "color": "white"
             }
            },
            "type": "table"
           }
          ]
         },
         "layout": {
          "annotationdefaults": {
           "arrowcolor": "#2a3f5f",
           "arrowhead": 0,
           "arrowwidth": 1
          },
          "autotypenumbers": "strict",
          "coloraxis": {
           "colorbar": {
            "outlinewidth": 0,
            "ticks": ""
           }
          },
          "colorscale": {
           "diverging": [
            [
             0,
             "#8e0152"
            ],
            [
             0.1,
             "#c51b7d"
            ],
            [
             0.2,
             "#de77ae"
            ],
            [
             0.3,
             "#f1b6da"
            ],
            [
             0.4,
             "#fde0ef"
            ],
            [
             0.5,
             "#f7f7f7"
            ],
            [
             0.6,
             "#e6f5d0"
            ],
            [
             0.7,
             "#b8e186"
            ],
            [
             0.8,
             "#7fbc41"
            ],
            [
             0.9,
             "#4d9221"
            ],
            [
             1,
             "#276419"
            ]
           ],
           "sequential": [
            [
             0,
             "#0d0887"
            ],
            [
             0.1111111111111111,
             "#46039f"
            ],
            [
             0.2222222222222222,
             "#7201a8"
            ],
            [
             0.3333333333333333,
             "#9c179e"
            ],
            [
             0.4444444444444444,
             "#bd3786"
            ],
            [
             0.5555555555555556,
             "#d8576b"
            ],
            [
             0.6666666666666666,
             "#ed7953"
            ],
            [
             0.7777777777777778,
             "#fb9f3a"
            ],
            [
             0.8888888888888888,
             "#fdca26"
            ],
            [
             1,
             "#f0f921"
            ]
           ],
           "sequentialminus": [
            [
             0,
             "#0d0887"
            ],
            [
             0.1111111111111111,
             "#46039f"
            ],
            [
             0.2222222222222222,
             "#7201a8"
            ],
            [
             0.3333333333333333,
             "#9c179e"
            ],
            [
             0.4444444444444444,
             "#bd3786"
            ],
            [
             0.5555555555555556,
             "#d8576b"
            ],
            [
             0.6666666666666666,
             "#ed7953"
            ],
            [
             0.7777777777777778,
             "#fb9f3a"
            ],
            [
             0.8888888888888888,
             "#fdca26"
            ],
            [
             1,
             "#f0f921"
            ]
           ]
          },
          "colorway": [
           "#636efa",
           "#EF553B",
           "#00cc96",
           "#ab63fa",
           "#FFA15A",
           "#19d3f3",
           "#FF6692",
           "#B6E880",
           "#FF97FF",
           "#FECB52"
          ],
          "font": {
           "color": "#2a3f5f"
          },
          "geo": {
           "bgcolor": "white",
           "lakecolor": "white",
           "landcolor": "#E5ECF6",
           "showlakes": true,
           "showland": true,
           "subunitcolor": "white"
          },
          "hoverlabel": {
           "align": "left"
          },
          "hovermode": "closest",
          "mapbox": {
           "style": "light"
          },
          "paper_bgcolor": "white",
          "plot_bgcolor": "#E5ECF6",
          "polar": {
           "angularaxis": {
            "gridcolor": "white",
            "linecolor": "white",
            "ticks": ""
           },
           "bgcolor": "#E5ECF6",
           "radialaxis": {
            "gridcolor": "white",
            "linecolor": "white",
            "ticks": ""
           }
          },
          "scene": {
           "xaxis": {
            "backgroundcolor": "#E5ECF6",
            "gridcolor": "white",
            "gridwidth": 2,
            "linecolor": "white",
            "showbackground": true,
            "ticks": "",
            "zerolinecolor": "white"
           },
           "yaxis": {
            "backgroundcolor": "#E5ECF6",
            "gridcolor": "white",
            "gridwidth": 2,
            "linecolor": "white",
            "showbackground": true,
            "ticks": "",
            "zerolinecolor": "white"
           },
           "zaxis": {
            "backgroundcolor": "#E5ECF6",
            "gridcolor": "white",
            "gridwidth": 2,
            "linecolor": "white",
            "showbackground": true,
            "ticks": "",
            "zerolinecolor": "white"
           }
          },
          "shapedefaults": {
           "line": {
            "color": "#2a3f5f"
           }
          },
          "ternary": {
           "aaxis": {
            "gridcolor": "white",
            "linecolor": "white",
            "ticks": ""
           },
           "baxis": {
            "gridcolor": "white",
            "linecolor": "white",
            "ticks": ""
           },
           "bgcolor": "#E5ECF6",
           "caxis": {
            "gridcolor": "white",
            "linecolor": "white",
            "ticks": ""
           }
          },
          "title": {
           "x": 0.05
          },
          "xaxis": {
           "automargin": true,
           "gridcolor": "white",
           "linecolor": "white",
           "ticks": "",
           "title": {
            "standoff": 15
           },
           "zerolinecolor": "white",
           "zerolinewidth": 2
          },
          "yaxis": {
           "automargin": true,
           "gridcolor": "white",
           "linecolor": "white",
           "ticks": "",
           "title": {
            "standoff": 15
           },
           "zerolinecolor": "white",
           "zerolinewidth": 2
          }
         }
        },
        "title": {
         "text": "Distribution of Number of Certificates Per Holder"
        },
        "xaxis": {
         "anchor": "y",
         "domain": [
          0,
          1
         ],
         "title": {
          "text": "Number of Certificates"
         }
        },
        "yaxis": {
         "anchor": "x",
         "domain": [
          0,
          1
         ],
         "title": {
          "text": "Number of Certificate Holders"
         }
        }
       }
      }
     },
     "metadata": {},
     "output_type": "display_data"
    }
   ],
   "source": [
    "holder_counts = certificate_holders['Certificate Holder ID'].value_counts()\n",
    "multi_certificate_holders = holder_counts.where(lambda x: x > 1).dropna()\n",
    "\n",
    "# Convert to DataFrame for visualization\n",
    "df = multi_certificate_holders.reset_index()\n",
    "df.columns = ['Certificate Holder ID', 'Number of Certificates']\n",
    "\n",
    "# Ensure the count is integer type\n",
    "df['Number of Certificates'] = df['Number of Certificates'].astype(int)\n",
    "# Create a histogram to visualize the frequency of certificate counts\n",
    "fig = px.histogram(df, x='Number of Certificates', nbins=int(df['Number of Certificates'].max()), text_auto=True,\n",
    "                   title=\"Distribution of Number of Certificates Per Holder\",\n",
    "                   labels={'Number of Certificates': 'Number of Certificates'},\n",
    "                   opacity=0.8)\n",
    "\n",
    "# Update layout for better readability\n",
    "fig.update_layout(bargap=0.2, xaxis_title='Number of Certificates', yaxis_title='Number of Certificate Holders')\n",
    "fig.show()\n"
   ]
  },
  {
   "cell_type": "markdown",
   "metadata": {},
   "source": [
    "#### 6: Time span of certificates by calculating the duration between start and end"
   ]
  },
  {
   "cell_type": "markdown",
   "metadata": {},
   "source": [
    "✅ Need to discuss with process owners to set the values more accurate to certification issueing required time"
   ]
  },
  {
   "cell_type": "code",
   "execution_count": 66,
   "metadata": {},
   "outputs": [],
   "source": [
    "def categorize_duration(days):\n",
    "    if days < 0:\n",
    "        return 'Expired'\n",
    "    elif days < 30:\n",
    "        return 'Expiring Soon'\n",
    "    elif days < 60:\n",
    "        return 'Close to Expiry'\n",
    "    elif days < 120:\n",
    "        return 'Valid'\n",
    "    else:\n",
    "        return 'Fresh'"
   ]
  },
  {
   "cell_type": "code",
   "execution_count": 70,
   "metadata": {},
   "outputs": [
    {
     "data": {
      "text/html": [
       "<div>\n",
       "<style scoped>\n",
       "    .dataframe tbody tr th:only-of-type {\n",
       "        vertical-align: middle;\n",
       "    }\n",
       "\n",
       "    .dataframe tbody tr th {\n",
       "        vertical-align: top;\n",
       "    }\n",
       "\n",
       "    .dataframe thead th {\n",
       "        text-align: right;\n",
       "    }\n",
       "</style>\n",
       "<table border=\"1\" class=\"dataframe\">\n",
       "  <thead>\n",
       "    <tr style=\"text-align: right;\">\n",
       "      <th></th>\n",
       "      <th>Certificate Holder ID</th>\n",
       "      <th>Certificate ID</th>\n",
       "      <th>Country</th>\n",
       "      <th>Certificate Type</th>\n",
       "      <th>Certificate end date</th>\n",
       "      <th>Certificate start date</th>\n",
       "      <th>Crop</th>\n",
       "      <th>Estimated harvested volume</th>\n",
       "      <th>Year Issued</th>\n",
       "      <th>Month Issued</th>\n",
       "      <th>Duration</th>\n",
       "      <th>Remaining Duration</th>\n",
       "      <th>Validity Category</th>\n",
       "    </tr>\n",
       "  </thead>\n",
       "  <tbody>\n",
       "    <tr>\n",
       "      <th>0</th>\n",
       "      <td>CH000371</td>\n",
       "      <td>LI5FD7A1</td>\n",
       "      <td>Country B</td>\n",
       "      <td>Multi Farm</td>\n",
       "      <td>2024-06-09</td>\n",
       "      <td>2023-06-09</td>\n",
       "      <td>Coffee</td>\n",
       "      <td>1,126,752.00</td>\n",
       "      <td>2023</td>\n",
       "      <td>2023-06</td>\n",
       "      <td>366 days</td>\n",
       "      <td>39</td>\n",
       "      <td>Close to Expiry</td>\n",
       "    </tr>\n",
       "    <tr>\n",
       "      <th>1</th>\n",
       "      <td>CH001623</td>\n",
       "      <td>LI39CBD9</td>\n",
       "      <td>Country B</td>\n",
       "      <td>Multi Farm</td>\n",
       "      <td>2023-04-01</td>\n",
       "      <td>2022-04-01</td>\n",
       "      <td>Coffee</td>\n",
       "      <td>1,250,892.00</td>\n",
       "      <td>2022</td>\n",
       "      <td>2022-04</td>\n",
       "      <td>365 days</td>\n",
       "      <td>-396</td>\n",
       "      <td>Expired</td>\n",
       "    </tr>\n",
       "    <tr>\n",
       "      <th>2</th>\n",
       "      <td>CH001623</td>\n",
       "      <td>LI5A0564</td>\n",
       "      <td>Country B</td>\n",
       "      <td>Multi Farm</td>\n",
       "      <td>2024-07-02</td>\n",
       "      <td>2023-04-02</td>\n",
       "      <td>Coffee</td>\n",
       "      <td>852,360.00</td>\n",
       "      <td>2023</td>\n",
       "      <td>2023-04</td>\n",
       "      <td>457 days</td>\n",
       "      <td>62</td>\n",
       "      <td>Valid</td>\n",
       "    </tr>\n",
       "    <tr>\n",
       "      <th>3</th>\n",
       "      <td>CH004BB5</td>\n",
       "      <td>LI42F47A</td>\n",
       "      <td>Country B</td>\n",
       "      <td>Group Of Mixed Farms</td>\n",
       "      <td>2023-05-15</td>\n",
       "      <td>2022-05-16</td>\n",
       "      <td>Coffee</td>\n",
       "      <td>1,034,720.00</td>\n",
       "      <td>2022</td>\n",
       "      <td>2022-05</td>\n",
       "      <td>364 days</td>\n",
       "      <td>-352</td>\n",
       "      <td>Expired</td>\n",
       "    </tr>\n",
       "    <tr>\n",
       "      <th>4</th>\n",
       "      <td>CH004BB5</td>\n",
       "      <td>LIAEA700</td>\n",
       "      <td>Country B</td>\n",
       "      <td>Multi Farm</td>\n",
       "      <td>2024-05-15</td>\n",
       "      <td>2023-05-16</td>\n",
       "      <td>Coffee</td>\n",
       "      <td>993,900.00</td>\n",
       "      <td>2023</td>\n",
       "      <td>2023-05</td>\n",
       "      <td>365 days</td>\n",
       "      <td>14</td>\n",
       "      <td>Expiring Soon</td>\n",
       "    </tr>\n",
       "  </tbody>\n",
       "</table>\n",
       "</div>"
      ],
      "text/plain": [
       "  Certificate Holder ID Certificate ID    Country      Certificate Type  \\\n",
       "0              CH000371       LI5FD7A1  Country B            Multi Farm   \n",
       "1              CH001623       LI39CBD9  Country B            Multi Farm   \n",
       "2              CH001623       LI5A0564  Country B            Multi Farm   \n",
       "3              CH004BB5       LI42F47A  Country B  Group Of Mixed Farms   \n",
       "4              CH004BB5       LIAEA700  Country B            Multi Farm   \n",
       "\n",
       "  Certificate end date Certificate start date    Crop  \\\n",
       "0           2024-06-09             2023-06-09  Coffee   \n",
       "1           2023-04-01             2022-04-01  Coffee   \n",
       "2           2024-07-02             2023-04-02  Coffee   \n",
       "3           2023-05-15             2022-05-16  Coffee   \n",
       "4           2024-05-15             2023-05-16  Coffee   \n",
       "\n",
       "   Estimated harvested volume  Year Issued Month Issued Duration  \\\n",
       "0                1,126,752.00         2023      2023-06 366 days   \n",
       "1                1,250,892.00         2022      2022-04 365 days   \n",
       "2                  852,360.00         2023      2023-04 457 days   \n",
       "3                1,034,720.00         2022      2022-05 364 days   \n",
       "4                  993,900.00         2023      2023-05 365 days   \n",
       "\n",
       "   Remaining Duration Validity Category  \n",
       "0                  39   Close to Expiry  \n",
       "1                -396           Expired  \n",
       "2                  62             Valid  \n",
       "3                -352           Expired  \n",
       "4                  14     Expiring Soon  "
      ]
     },
     "execution_count": 70,
     "metadata": {},
     "output_type": "execute_result"
    }
   ],
   "source": [
    "merged_data['Certificate end date'] = pd.to_datetime(merged_data['Certificate end date'])\n",
    "merged_data['Certificate start date'] = pd.to_datetime(merged_data['Certificate start date'])\n",
    "\n",
    "merged_data['Duration'] = merged_data['Certificate end date'] - merged_data['Certificate start date']\n",
    "merged_data['Remaining Duration'] = (merged_data['Certificate end date'] - pd.Timestamp(datetime.now())).dt.days\n",
    "merged_data['Validity Category'] = merged_data['Remaining Duration'].apply(categorize_duration)\n",
    "\n",
    "merged_data.head(5)\n"
   ]
  },
  {
   "cell_type": "code",
   "execution_count": 73,
   "metadata": {},
   "outputs": [
    {
     "data": {
      "application/vnd.plotly.v1+json": {
       "config": {
        "plotlyServerURL": "https://plot.ly"
       },
       "data": [
        {
         "alignmentgroup": "True",
         "hovertemplate": "Validity Category=%{x}<br>Count=%{y}<extra></extra>",
         "legendgroup": "",
         "marker": {
          "color": "#636efa",
          "pattern": {
           "shape": ""
          }
         },
         "name": "",
         "offsetgroup": "",
         "orientation": "v",
         "showlegend": false,
         "textposition": "auto",
         "type": "bar",
         "x": [
          "Expired",
          "Fresh",
          "Expiring Soon",
          "Close to Expiry",
          "Valid"
         ],
         "xaxis": "x",
         "y": [
          694,
          138,
          124,
          83,
          76
         ],
         "yaxis": "y"
        }
       ],
       "layout": {
        "barmode": "relative",
        "legend": {
         "tracegroupgap": 0
        },
        "template": {
         "data": {
          "bar": [
           {
            "error_x": {
             "color": "#2a3f5f"
            },
            "error_y": {
             "color": "#2a3f5f"
            },
            "marker": {
             "line": {
              "color": "#E5ECF6",
              "width": 0.5
             },
             "pattern": {
              "fillmode": "overlay",
              "size": 10,
              "solidity": 0.2
             }
            },
            "type": "bar"
           }
          ],
          "barpolar": [
           {
            "marker": {
             "line": {
              "color": "#E5ECF6",
              "width": 0.5
             },
             "pattern": {
              "fillmode": "overlay",
              "size": 10,
              "solidity": 0.2
             }
            },
            "type": "barpolar"
           }
          ],
          "carpet": [
           {
            "aaxis": {
             "endlinecolor": "#2a3f5f",
             "gridcolor": "white",
             "linecolor": "white",
             "minorgridcolor": "white",
             "startlinecolor": "#2a3f5f"
            },
            "baxis": {
             "endlinecolor": "#2a3f5f",
             "gridcolor": "white",
             "linecolor": "white",
             "minorgridcolor": "white",
             "startlinecolor": "#2a3f5f"
            },
            "type": "carpet"
           }
          ],
          "choropleth": [
           {
            "colorbar": {
             "outlinewidth": 0,
             "ticks": ""
            },
            "type": "choropleth"
           }
          ],
          "contour": [
           {
            "colorbar": {
             "outlinewidth": 0,
             "ticks": ""
            },
            "colorscale": [
             [
              0,
              "#0d0887"
             ],
             [
              0.1111111111111111,
              "#46039f"
             ],
             [
              0.2222222222222222,
              "#7201a8"
             ],
             [
              0.3333333333333333,
              "#9c179e"
             ],
             [
              0.4444444444444444,
              "#bd3786"
             ],
             [
              0.5555555555555556,
              "#d8576b"
             ],
             [
              0.6666666666666666,
              "#ed7953"
             ],
             [
              0.7777777777777778,
              "#fb9f3a"
             ],
             [
              0.8888888888888888,
              "#fdca26"
             ],
             [
              1,
              "#f0f921"
             ]
            ],
            "type": "contour"
           }
          ],
          "contourcarpet": [
           {
            "colorbar": {
             "outlinewidth": 0,
             "ticks": ""
            },
            "type": "contourcarpet"
           }
          ],
          "heatmap": [
           {
            "colorbar": {
             "outlinewidth": 0,
             "ticks": ""
            },
            "colorscale": [
             [
              0,
              "#0d0887"
             ],
             [
              0.1111111111111111,
              "#46039f"
             ],
             [
              0.2222222222222222,
              "#7201a8"
             ],
             [
              0.3333333333333333,
              "#9c179e"
             ],
             [
              0.4444444444444444,
              "#bd3786"
             ],
             [
              0.5555555555555556,
              "#d8576b"
             ],
             [
              0.6666666666666666,
              "#ed7953"
             ],
             [
              0.7777777777777778,
              "#fb9f3a"
             ],
             [
              0.8888888888888888,
              "#fdca26"
             ],
             [
              1,
              "#f0f921"
             ]
            ],
            "type": "heatmap"
           }
          ],
          "heatmapgl": [
           {
            "colorbar": {
             "outlinewidth": 0,
             "ticks": ""
            },
            "colorscale": [
             [
              0,
              "#0d0887"
             ],
             [
              0.1111111111111111,
              "#46039f"
             ],
             [
              0.2222222222222222,
              "#7201a8"
             ],
             [
              0.3333333333333333,
              "#9c179e"
             ],
             [
              0.4444444444444444,
              "#bd3786"
             ],
             [
              0.5555555555555556,
              "#d8576b"
             ],
             [
              0.6666666666666666,
              "#ed7953"
             ],
             [
              0.7777777777777778,
              "#fb9f3a"
             ],
             [
              0.8888888888888888,
              "#fdca26"
             ],
             [
              1,
              "#f0f921"
             ]
            ],
            "type": "heatmapgl"
           }
          ],
          "histogram": [
           {
            "marker": {
             "pattern": {
              "fillmode": "overlay",
              "size": 10,
              "solidity": 0.2
             }
            },
            "type": "histogram"
           }
          ],
          "histogram2d": [
           {
            "colorbar": {
             "outlinewidth": 0,
             "ticks": ""
            },
            "colorscale": [
             [
              0,
              "#0d0887"
             ],
             [
              0.1111111111111111,
              "#46039f"
             ],
             [
              0.2222222222222222,
              "#7201a8"
             ],
             [
              0.3333333333333333,
              "#9c179e"
             ],
             [
              0.4444444444444444,
              "#bd3786"
             ],
             [
              0.5555555555555556,
              "#d8576b"
             ],
             [
              0.6666666666666666,
              "#ed7953"
             ],
             [
              0.7777777777777778,
              "#fb9f3a"
             ],
             [
              0.8888888888888888,
              "#fdca26"
             ],
             [
              1,
              "#f0f921"
             ]
            ],
            "type": "histogram2d"
           }
          ],
          "histogram2dcontour": [
           {
            "colorbar": {
             "outlinewidth": 0,
             "ticks": ""
            },
            "colorscale": [
             [
              0,
              "#0d0887"
             ],
             [
              0.1111111111111111,
              "#46039f"
             ],
             [
              0.2222222222222222,
              "#7201a8"
             ],
             [
              0.3333333333333333,
              "#9c179e"
             ],
             [
              0.4444444444444444,
              "#bd3786"
             ],
             [
              0.5555555555555556,
              "#d8576b"
             ],
             [
              0.6666666666666666,
              "#ed7953"
             ],
             [
              0.7777777777777778,
              "#fb9f3a"
             ],
             [
              0.8888888888888888,
              "#fdca26"
             ],
             [
              1,
              "#f0f921"
             ]
            ],
            "type": "histogram2dcontour"
           }
          ],
          "mesh3d": [
           {
            "colorbar": {
             "outlinewidth": 0,
             "ticks": ""
            },
            "type": "mesh3d"
           }
          ],
          "parcoords": [
           {
            "line": {
             "colorbar": {
              "outlinewidth": 0,
              "ticks": ""
             }
            },
            "type": "parcoords"
           }
          ],
          "pie": [
           {
            "automargin": true,
            "type": "pie"
           }
          ],
          "scatter": [
           {
            "fillpattern": {
             "fillmode": "overlay",
             "size": 10,
             "solidity": 0.2
            },
            "type": "scatter"
           }
          ],
          "scatter3d": [
           {
            "line": {
             "colorbar": {
              "outlinewidth": 0,
              "ticks": ""
             }
            },
            "marker": {
             "colorbar": {
              "outlinewidth": 0,
              "ticks": ""
             }
            },
            "type": "scatter3d"
           }
          ],
          "scattercarpet": [
           {
            "marker": {
             "colorbar": {
              "outlinewidth": 0,
              "ticks": ""
             }
            },
            "type": "scattercarpet"
           }
          ],
          "scattergeo": [
           {
            "marker": {
             "colorbar": {
              "outlinewidth": 0,
              "ticks": ""
             }
            },
            "type": "scattergeo"
           }
          ],
          "scattergl": [
           {
            "marker": {
             "colorbar": {
              "outlinewidth": 0,
              "ticks": ""
             }
            },
            "type": "scattergl"
           }
          ],
          "scattermapbox": [
           {
            "marker": {
             "colorbar": {
              "outlinewidth": 0,
              "ticks": ""
             }
            },
            "type": "scattermapbox"
           }
          ],
          "scatterpolar": [
           {
            "marker": {
             "colorbar": {
              "outlinewidth": 0,
              "ticks": ""
             }
            },
            "type": "scatterpolar"
           }
          ],
          "scatterpolargl": [
           {
            "marker": {
             "colorbar": {
              "outlinewidth": 0,
              "ticks": ""
             }
            },
            "type": "scatterpolargl"
           }
          ],
          "scatterternary": [
           {
            "marker": {
             "colorbar": {
              "outlinewidth": 0,
              "ticks": ""
             }
            },
            "type": "scatterternary"
           }
          ],
          "surface": [
           {
            "colorbar": {
             "outlinewidth": 0,
             "ticks": ""
            },
            "colorscale": [
             [
              0,
              "#0d0887"
             ],
             [
              0.1111111111111111,
              "#46039f"
             ],
             [
              0.2222222222222222,
              "#7201a8"
             ],
             [
              0.3333333333333333,
              "#9c179e"
             ],
             [
              0.4444444444444444,
              "#bd3786"
             ],
             [
              0.5555555555555556,
              "#d8576b"
             ],
             [
              0.6666666666666666,
              "#ed7953"
             ],
             [
              0.7777777777777778,
              "#fb9f3a"
             ],
             [
              0.8888888888888888,
              "#fdca26"
             ],
             [
              1,
              "#f0f921"
             ]
            ],
            "type": "surface"
           }
          ],
          "table": [
           {
            "cells": {
             "fill": {
              "color": "#EBF0F8"
             },
             "line": {
              "color": "white"
             }
            },
            "header": {
             "fill": {
              "color": "#C8D4E3"
             },
             "line": {
              "color": "white"
             }
            },
            "type": "table"
           }
          ]
         },
         "layout": {
          "annotationdefaults": {
           "arrowcolor": "#2a3f5f",
           "arrowhead": 0,
           "arrowwidth": 1
          },
          "autotypenumbers": "strict",
          "coloraxis": {
           "colorbar": {
            "outlinewidth": 0,
            "ticks": ""
           }
          },
          "colorscale": {
           "diverging": [
            [
             0,
             "#8e0152"
            ],
            [
             0.1,
             "#c51b7d"
            ],
            [
             0.2,
             "#de77ae"
            ],
            [
             0.3,
             "#f1b6da"
            ],
            [
             0.4,
             "#fde0ef"
            ],
            [
             0.5,
             "#f7f7f7"
            ],
            [
             0.6,
             "#e6f5d0"
            ],
            [
             0.7,
             "#b8e186"
            ],
            [
             0.8,
             "#7fbc41"
            ],
            [
             0.9,
             "#4d9221"
            ],
            [
             1,
             "#276419"
            ]
           ],
           "sequential": [
            [
             0,
             "#0d0887"
            ],
            [
             0.1111111111111111,
             "#46039f"
            ],
            [
             0.2222222222222222,
             "#7201a8"
            ],
            [
             0.3333333333333333,
             "#9c179e"
            ],
            [
             0.4444444444444444,
             "#bd3786"
            ],
            [
             0.5555555555555556,
             "#d8576b"
            ],
            [
             0.6666666666666666,
             "#ed7953"
            ],
            [
             0.7777777777777778,
             "#fb9f3a"
            ],
            [
             0.8888888888888888,
             "#fdca26"
            ],
            [
             1,
             "#f0f921"
            ]
           ],
           "sequentialminus": [
            [
             0,
             "#0d0887"
            ],
            [
             0.1111111111111111,
             "#46039f"
            ],
            [
             0.2222222222222222,
             "#7201a8"
            ],
            [
             0.3333333333333333,
             "#9c179e"
            ],
            [
             0.4444444444444444,
             "#bd3786"
            ],
            [
             0.5555555555555556,
             "#d8576b"
            ],
            [
             0.6666666666666666,
             "#ed7953"
            ],
            [
             0.7777777777777778,
             "#fb9f3a"
            ],
            [
             0.8888888888888888,
             "#fdca26"
            ],
            [
             1,
             "#f0f921"
            ]
           ]
          },
          "colorway": [
           "#636efa",
           "#EF553B",
           "#00cc96",
           "#ab63fa",
           "#FFA15A",
           "#19d3f3",
           "#FF6692",
           "#B6E880",
           "#FF97FF",
           "#FECB52"
          ],
          "font": {
           "color": "#2a3f5f"
          },
          "geo": {
           "bgcolor": "white",
           "lakecolor": "white",
           "landcolor": "#E5ECF6",
           "showlakes": true,
           "showland": true,
           "subunitcolor": "white"
          },
          "hoverlabel": {
           "align": "left"
          },
          "hovermode": "closest",
          "mapbox": {
           "style": "light"
          },
          "paper_bgcolor": "white",
          "plot_bgcolor": "#E5ECF6",
          "polar": {
           "angularaxis": {
            "gridcolor": "white",
            "linecolor": "white",
            "ticks": ""
           },
           "bgcolor": "#E5ECF6",
           "radialaxis": {
            "gridcolor": "white",
            "linecolor": "white",
            "ticks": ""
           }
          },
          "scene": {
           "xaxis": {
            "backgroundcolor": "#E5ECF6",
            "gridcolor": "white",
            "gridwidth": 2,
            "linecolor": "white",
            "showbackground": true,
            "ticks": "",
            "zerolinecolor": "white"
           },
           "yaxis": {
            "backgroundcolor": "#E5ECF6",
            "gridcolor": "white",
            "gridwidth": 2,
            "linecolor": "white",
            "showbackground": true,
            "ticks": "",
            "zerolinecolor": "white"
           },
           "zaxis": {
            "backgroundcolor": "#E5ECF6",
            "gridcolor": "white",
            "gridwidth": 2,
            "linecolor": "white",
            "showbackground": true,
            "ticks": "",
            "zerolinecolor": "white"
           }
          },
          "shapedefaults": {
           "line": {
            "color": "#2a3f5f"
           }
          },
          "ternary": {
           "aaxis": {
            "gridcolor": "white",
            "linecolor": "white",
            "ticks": ""
           },
           "baxis": {
            "gridcolor": "white",
            "linecolor": "white",
            "ticks": ""
           },
           "bgcolor": "#E5ECF6",
           "caxis": {
            "gridcolor": "white",
            "linecolor": "white",
            "ticks": ""
           }
          },
          "title": {
           "x": 0.05
          },
          "xaxis": {
           "automargin": true,
           "gridcolor": "white",
           "linecolor": "white",
           "ticks": "",
           "title": {
            "standoff": 15
           },
           "zerolinecolor": "white",
           "zerolinewidth": 2
          },
          "yaxis": {
           "automargin": true,
           "gridcolor": "white",
           "linecolor": "white",
           "ticks": "",
           "title": {
            "standoff": 15
           },
           "zerolinecolor": "white",
           "zerolinewidth": 2
          }
         }
        },
        "title": {
         "text": "Count of Validity Categories"
        },
        "xaxis": {
         "anchor": "y",
         "domain": [
          0,
          1
         ],
         "title": {
          "text": "Validity Category"
         }
        },
        "yaxis": {
         "anchor": "x",
         "domain": [
          0,
          1
         ],
         "title": {
          "text": "Count"
         }
        }
       }
      }
     },
     "metadata": {},
     "output_type": "display_data"
    },
    {
     "data": {
      "application/vnd.plotly.v1+json": {
       "config": {
        "plotlyServerURL": "https://plot.ly"
       },
       "data": [
        {
         "alignmentgroup": "True",
         "hovertemplate": "Validity Category=Close to Expiry<br>Country=%{x}<br>Count=%{text}<extra></extra>",
         "legendgroup": "Close to Expiry",
         "marker": {
          "color": "#636efa",
          "pattern": {
           "shape": ""
          }
         },
         "name": "Close to Expiry",
         "offsetgroup": "Close to Expiry",
         "orientation": "v",
         "showlegend": true,
         "text": [
          6,
          77
         ],
         "textposition": "auto",
         "type": "bar",
         "x": [
          "Country A",
          "Country B"
         ],
         "xaxis": "x",
         "y": [
          6,
          77
         ],
         "yaxis": "y"
        },
        {
         "alignmentgroup": "True",
         "hovertemplate": "Validity Category=Expired<br>Country=%{x}<br>Count=%{text}<extra></extra>",
         "legendgroup": "Expired",
         "marker": {
          "color": "#EF553B",
          "pattern": {
           "shape": ""
          }
         },
         "name": "Expired",
         "offsetgroup": "Expired",
         "orientation": "v",
         "showlegend": true,
         "text": [
          176,
          346,
          142,
          30
         ],
         "textposition": "auto",
         "type": "bar",
         "x": [
          "Country A",
          "Country B",
          "Country C",
          "Country D"
         ],
         "xaxis": "x",
         "y": [
          176,
          346,
          142,
          30
         ],
         "yaxis": "y"
        },
        {
         "alignmentgroup": "True",
         "hovertemplate": "Validity Category=Expiring Soon<br>Country=%{x}<br>Count=%{text}<extra></extra>",
         "legendgroup": "Expiring Soon",
         "marker": {
          "color": "#00cc96",
          "pattern": {
           "shape": ""
          }
         },
         "name": "Expiring Soon",
         "offsetgroup": "Expiring Soon",
         "orientation": "v",
         "showlegend": true,
         "text": [
          6,
          118
         ],
         "textposition": "auto",
         "type": "bar",
         "x": [
          "Country A",
          "Country B"
         ],
         "xaxis": "x",
         "y": [
          6,
          118
         ],
         "yaxis": "y"
        },
        {
         "alignmentgroup": "True",
         "hovertemplate": "Validity Category=Fresh<br>Country=%{x}<br>Count=%{text}<extra></extra>",
         "legendgroup": "Fresh",
         "marker": {
          "color": "#ab63fa",
          "pattern": {
           "shape": ""
          }
         },
         "name": "Fresh",
         "offsetgroup": "Fresh",
         "orientation": "v",
         "showlegend": true,
         "text": [
          48,
          6,
          71,
          13
         ],
         "textposition": "auto",
         "type": "bar",
         "x": [
          "Country A",
          "Country B",
          "Country C",
          "Country D"
         ],
         "xaxis": "x",
         "y": [
          48,
          6,
          71,
          13
         ],
         "yaxis": "y"
        },
        {
         "alignmentgroup": "True",
         "hovertemplate": "Validity Category=Valid<br>Country=%{x}<br>Count=%{text}<extra></extra>",
         "legendgroup": "Valid",
         "marker": {
          "color": "#FFA15A",
          "pattern": {
           "shape": ""
          }
         },
         "name": "Valid",
         "offsetgroup": "Valid",
         "orientation": "v",
         "showlegend": true,
         "text": [
          17,
          59
         ],
         "textposition": "auto",
         "type": "bar",
         "x": [
          "Country A",
          "Country B"
         ],
         "xaxis": "x",
         "y": [
          17,
          59
         ],
         "yaxis": "y"
        }
       ],
       "layout": {
        "barmode": "group",
        "legend": {
         "title": {
          "text": "Validity Category"
         },
         "tracegroupgap": 0
        },
        "template": {
         "data": {
          "bar": [
           {
            "error_x": {
             "color": "#2a3f5f"
            },
            "error_y": {
             "color": "#2a3f5f"
            },
            "marker": {
             "line": {
              "color": "#E5ECF6",
              "width": 0.5
             },
             "pattern": {
              "fillmode": "overlay",
              "size": 10,
              "solidity": 0.2
             }
            },
            "type": "bar"
           }
          ],
          "barpolar": [
           {
            "marker": {
             "line": {
              "color": "#E5ECF6",
              "width": 0.5
             },
             "pattern": {
              "fillmode": "overlay",
              "size": 10,
              "solidity": 0.2
             }
            },
            "type": "barpolar"
           }
          ],
          "carpet": [
           {
            "aaxis": {
             "endlinecolor": "#2a3f5f",
             "gridcolor": "white",
             "linecolor": "white",
             "minorgridcolor": "white",
             "startlinecolor": "#2a3f5f"
            },
            "baxis": {
             "endlinecolor": "#2a3f5f",
             "gridcolor": "white",
             "linecolor": "white",
             "minorgridcolor": "white",
             "startlinecolor": "#2a3f5f"
            },
            "type": "carpet"
           }
          ],
          "choropleth": [
           {
            "colorbar": {
             "outlinewidth": 0,
             "ticks": ""
            },
            "type": "choropleth"
           }
          ],
          "contour": [
           {
            "colorbar": {
             "outlinewidth": 0,
             "ticks": ""
            },
            "colorscale": [
             [
              0,
              "#0d0887"
             ],
             [
              0.1111111111111111,
              "#46039f"
             ],
             [
              0.2222222222222222,
              "#7201a8"
             ],
             [
              0.3333333333333333,
              "#9c179e"
             ],
             [
              0.4444444444444444,
              "#bd3786"
             ],
             [
              0.5555555555555556,
              "#d8576b"
             ],
             [
              0.6666666666666666,
              "#ed7953"
             ],
             [
              0.7777777777777778,
              "#fb9f3a"
             ],
             [
              0.8888888888888888,
              "#fdca26"
             ],
             [
              1,
              "#f0f921"
             ]
            ],
            "type": "contour"
           }
          ],
          "contourcarpet": [
           {
            "colorbar": {
             "outlinewidth": 0,
             "ticks": ""
            },
            "type": "contourcarpet"
           }
          ],
          "heatmap": [
           {
            "colorbar": {
             "outlinewidth": 0,
             "ticks": ""
            },
            "colorscale": [
             [
              0,
              "#0d0887"
             ],
             [
              0.1111111111111111,
              "#46039f"
             ],
             [
              0.2222222222222222,
              "#7201a8"
             ],
             [
              0.3333333333333333,
              "#9c179e"
             ],
             [
              0.4444444444444444,
              "#bd3786"
             ],
             [
              0.5555555555555556,
              "#d8576b"
             ],
             [
              0.6666666666666666,
              "#ed7953"
             ],
             [
              0.7777777777777778,
              "#fb9f3a"
             ],
             [
              0.8888888888888888,
              "#fdca26"
             ],
             [
              1,
              "#f0f921"
             ]
            ],
            "type": "heatmap"
           }
          ],
          "heatmapgl": [
           {
            "colorbar": {
             "outlinewidth": 0,
             "ticks": ""
            },
            "colorscale": [
             [
              0,
              "#0d0887"
             ],
             [
              0.1111111111111111,
              "#46039f"
             ],
             [
              0.2222222222222222,
              "#7201a8"
             ],
             [
              0.3333333333333333,
              "#9c179e"
             ],
             [
              0.4444444444444444,
              "#bd3786"
             ],
             [
              0.5555555555555556,
              "#d8576b"
             ],
             [
              0.6666666666666666,
              "#ed7953"
             ],
             [
              0.7777777777777778,
              "#fb9f3a"
             ],
             [
              0.8888888888888888,
              "#fdca26"
             ],
             [
              1,
              "#f0f921"
             ]
            ],
            "type": "heatmapgl"
           }
          ],
          "histogram": [
           {
            "marker": {
             "pattern": {
              "fillmode": "overlay",
              "size": 10,
              "solidity": 0.2
             }
            },
            "type": "histogram"
           }
          ],
          "histogram2d": [
           {
            "colorbar": {
             "outlinewidth": 0,
             "ticks": ""
            },
            "colorscale": [
             [
              0,
              "#0d0887"
             ],
             [
              0.1111111111111111,
              "#46039f"
             ],
             [
              0.2222222222222222,
              "#7201a8"
             ],
             [
              0.3333333333333333,
              "#9c179e"
             ],
             [
              0.4444444444444444,
              "#bd3786"
             ],
             [
              0.5555555555555556,
              "#d8576b"
             ],
             [
              0.6666666666666666,
              "#ed7953"
             ],
             [
              0.7777777777777778,
              "#fb9f3a"
             ],
             [
              0.8888888888888888,
              "#fdca26"
             ],
             [
              1,
              "#f0f921"
             ]
            ],
            "type": "histogram2d"
           }
          ],
          "histogram2dcontour": [
           {
            "colorbar": {
             "outlinewidth": 0,
             "ticks": ""
            },
            "colorscale": [
             [
              0,
              "#0d0887"
             ],
             [
              0.1111111111111111,
              "#46039f"
             ],
             [
              0.2222222222222222,
              "#7201a8"
             ],
             [
              0.3333333333333333,
              "#9c179e"
             ],
             [
              0.4444444444444444,
              "#bd3786"
             ],
             [
              0.5555555555555556,
              "#d8576b"
             ],
             [
              0.6666666666666666,
              "#ed7953"
             ],
             [
              0.7777777777777778,
              "#fb9f3a"
             ],
             [
              0.8888888888888888,
              "#fdca26"
             ],
             [
              1,
              "#f0f921"
             ]
            ],
            "type": "histogram2dcontour"
           }
          ],
          "mesh3d": [
           {
            "colorbar": {
             "outlinewidth": 0,
             "ticks": ""
            },
            "type": "mesh3d"
           }
          ],
          "parcoords": [
           {
            "line": {
             "colorbar": {
              "outlinewidth": 0,
              "ticks": ""
             }
            },
            "type": "parcoords"
           }
          ],
          "pie": [
           {
            "automargin": true,
            "type": "pie"
           }
          ],
          "scatter": [
           {
            "fillpattern": {
             "fillmode": "overlay",
             "size": 10,
             "solidity": 0.2
            },
            "type": "scatter"
           }
          ],
          "scatter3d": [
           {
            "line": {
             "colorbar": {
              "outlinewidth": 0,
              "ticks": ""
             }
            },
            "marker": {
             "colorbar": {
              "outlinewidth": 0,
              "ticks": ""
             }
            },
            "type": "scatter3d"
           }
          ],
          "scattercarpet": [
           {
            "marker": {
             "colorbar": {
              "outlinewidth": 0,
              "ticks": ""
             }
            },
            "type": "scattercarpet"
           }
          ],
          "scattergeo": [
           {
            "marker": {
             "colorbar": {
              "outlinewidth": 0,
              "ticks": ""
             }
            },
            "type": "scattergeo"
           }
          ],
          "scattergl": [
           {
            "marker": {
             "colorbar": {
              "outlinewidth": 0,
              "ticks": ""
             }
            },
            "type": "scattergl"
           }
          ],
          "scattermapbox": [
           {
            "marker": {
             "colorbar": {
              "outlinewidth": 0,
              "ticks": ""
             }
            },
            "type": "scattermapbox"
           }
          ],
          "scatterpolar": [
           {
            "marker": {
             "colorbar": {
              "outlinewidth": 0,
              "ticks": ""
             }
            },
            "type": "scatterpolar"
           }
          ],
          "scatterpolargl": [
           {
            "marker": {
             "colorbar": {
              "outlinewidth": 0,
              "ticks": ""
             }
            },
            "type": "scatterpolargl"
           }
          ],
          "scatterternary": [
           {
            "marker": {
             "colorbar": {
              "outlinewidth": 0,
              "ticks": ""
             }
            },
            "type": "scatterternary"
           }
          ],
          "surface": [
           {
            "colorbar": {
             "outlinewidth": 0,
             "ticks": ""
            },
            "colorscale": [
             [
              0,
              "#0d0887"
             ],
             [
              0.1111111111111111,
              "#46039f"
             ],
             [
              0.2222222222222222,
              "#7201a8"
             ],
             [
              0.3333333333333333,
              "#9c179e"
             ],
             [
              0.4444444444444444,
              "#bd3786"
             ],
             [
              0.5555555555555556,
              "#d8576b"
             ],
             [
              0.6666666666666666,
              "#ed7953"
             ],
             [
              0.7777777777777778,
              "#fb9f3a"
             ],
             [
              0.8888888888888888,
              "#fdca26"
             ],
             [
              1,
              "#f0f921"
             ]
            ],
            "type": "surface"
           }
          ],
          "table": [
           {
            "cells": {
             "fill": {
              "color": "#EBF0F8"
             },
             "line": {
              "color": "white"
             }
            },
            "header": {
             "fill": {
              "color": "#C8D4E3"
             },
             "line": {
              "color": "white"
             }
            },
            "type": "table"
           }
          ]
         },
         "layout": {
          "annotationdefaults": {
           "arrowcolor": "#2a3f5f",
           "arrowhead": 0,
           "arrowwidth": 1
          },
          "autotypenumbers": "strict",
          "coloraxis": {
           "colorbar": {
            "outlinewidth": 0,
            "ticks": ""
           }
          },
          "colorscale": {
           "diverging": [
            [
             0,
             "#8e0152"
            ],
            [
             0.1,
             "#c51b7d"
            ],
            [
             0.2,
             "#de77ae"
            ],
            [
             0.3,
             "#f1b6da"
            ],
            [
             0.4,
             "#fde0ef"
            ],
            [
             0.5,
             "#f7f7f7"
            ],
            [
             0.6,
             "#e6f5d0"
            ],
            [
             0.7,
             "#b8e186"
            ],
            [
             0.8,
             "#7fbc41"
            ],
            [
             0.9,
             "#4d9221"
            ],
            [
             1,
             "#276419"
            ]
           ],
           "sequential": [
            [
             0,
             "#0d0887"
            ],
            [
             0.1111111111111111,
             "#46039f"
            ],
            [
             0.2222222222222222,
             "#7201a8"
            ],
            [
             0.3333333333333333,
             "#9c179e"
            ],
            [
             0.4444444444444444,
             "#bd3786"
            ],
            [
             0.5555555555555556,
             "#d8576b"
            ],
            [
             0.6666666666666666,
             "#ed7953"
            ],
            [
             0.7777777777777778,
             "#fb9f3a"
            ],
            [
             0.8888888888888888,
             "#fdca26"
            ],
            [
             1,
             "#f0f921"
            ]
           ],
           "sequentialminus": [
            [
             0,
             "#0d0887"
            ],
            [
             0.1111111111111111,
             "#46039f"
            ],
            [
             0.2222222222222222,
             "#7201a8"
            ],
            [
             0.3333333333333333,
             "#9c179e"
            ],
            [
             0.4444444444444444,
             "#bd3786"
            ],
            [
             0.5555555555555556,
             "#d8576b"
            ],
            [
             0.6666666666666666,
             "#ed7953"
            ],
            [
             0.7777777777777778,
             "#fb9f3a"
            ],
            [
             0.8888888888888888,
             "#fdca26"
            ],
            [
             1,
             "#f0f921"
            ]
           ]
          },
          "colorway": [
           "#636efa",
           "#EF553B",
           "#00cc96",
           "#ab63fa",
           "#FFA15A",
           "#19d3f3",
           "#FF6692",
           "#B6E880",
           "#FF97FF",
           "#FECB52"
          ],
          "font": {
           "color": "#2a3f5f"
          },
          "geo": {
           "bgcolor": "white",
           "lakecolor": "white",
           "landcolor": "#E5ECF6",
           "showlakes": true,
           "showland": true,
           "subunitcolor": "white"
          },
          "hoverlabel": {
           "align": "left"
          },
          "hovermode": "closest",
          "mapbox": {
           "style": "light"
          },
          "paper_bgcolor": "white",
          "plot_bgcolor": "#E5ECF6",
          "polar": {
           "angularaxis": {
            "gridcolor": "white",
            "linecolor": "white",
            "ticks": ""
           },
           "bgcolor": "#E5ECF6",
           "radialaxis": {
            "gridcolor": "white",
            "linecolor": "white",
            "ticks": ""
           }
          },
          "scene": {
           "xaxis": {
            "backgroundcolor": "#E5ECF6",
            "gridcolor": "white",
            "gridwidth": 2,
            "linecolor": "white",
            "showbackground": true,
            "ticks": "",
            "zerolinecolor": "white"
           },
           "yaxis": {
            "backgroundcolor": "#E5ECF6",
            "gridcolor": "white",
            "gridwidth": 2,
            "linecolor": "white",
            "showbackground": true,
            "ticks": "",
            "zerolinecolor": "white"
           },
           "zaxis": {
            "backgroundcolor": "#E5ECF6",
            "gridcolor": "white",
            "gridwidth": 2,
            "linecolor": "white",
            "showbackground": true,
            "ticks": "",
            "zerolinecolor": "white"
           }
          },
          "shapedefaults": {
           "line": {
            "color": "#2a3f5f"
           }
          },
          "ternary": {
           "aaxis": {
            "gridcolor": "white",
            "linecolor": "white",
            "ticks": ""
           },
           "baxis": {
            "gridcolor": "white",
            "linecolor": "white",
            "ticks": ""
           },
           "bgcolor": "#E5ECF6",
           "caxis": {
            "gridcolor": "white",
            "linecolor": "white",
            "ticks": ""
           }
          },
          "title": {
           "x": 0.05
          },
          "xaxis": {
           "automargin": true,
           "gridcolor": "white",
           "linecolor": "white",
           "ticks": "",
           "title": {
            "standoff": 15
           },
           "zerolinecolor": "white",
           "zerolinewidth": 2
          },
          "yaxis": {
           "automargin": true,
           "gridcolor": "white",
           "linecolor": "white",
           "ticks": "",
           "title": {
            "standoff": 15
           },
           "zerolinecolor": "white",
           "zerolinewidth": 2
          }
         }
        },
        "title": {
         "text": "Count of Validity Categories per Country"
        },
        "xaxis": {
         "anchor": "y",
         "domain": [
          0,
          1
         ],
         "title": {
          "text": "Country"
         }
        },
        "yaxis": {
         "anchor": "x",
         "domain": [
          0,
          1
         ],
         "title": {
          "text": "Count"
         }
        }
       }
      }
     },
     "metadata": {},
     "output_type": "display_data"
    }
   ],
   "source": [
    "validity_counts = merged_data['Validity Category'].value_counts().reset_index()\n",
    "validity_counts.columns = ['Validity Category', 'Count']\n",
    "\n",
    "# First visualization: Validity Category Count\n",
    "fig1 = px.bar(validity_counts, \n",
    "              x='Validity Category', \n",
    "              y='Count',\n",
    "              labels={'Validity Category': 'Validity Category', 'Count': 'Count'},\n",
    "              title='Count of Validity Categories')\n",
    "\n",
    "# Prepare the data for the second visualization by counting categories by country\n",
    "category_by_country = merged_data.groupby(['Country', 'Validity Category']).size().reset_index(name='Count')\n",
    "\n",
    "# Second visualization: Validity Category Count by Country\n",
    "fig2 = px.bar(category_by_country, \n",
    "              x='Country', \n",
    "              y='Count',\n",
    "              color='Validity Category',\n",
    "              text='Count',\n",
    "              title='Count of Validity Categories per Country',\n",
    "              barmode='group')\n",
    "\n",
    "# Show the figures\n",
    "fig1.show()\n",
    "fig2.show()"
   ]
  },
  {
   "cell_type": "markdown",
   "metadata": {},
   "source": [
    "#### 7: Trend over time of certificates issued by year."
   ]
  },
  {
   "cell_type": "code",
   "execution_count": 75,
   "metadata": {},
   "outputs": [
    {
     "data": {
      "text/html": [
       "<div>\n",
       "<style scoped>\n",
       "    .dataframe tbody tr th:only-of-type {\n",
       "        vertical-align: middle;\n",
       "    }\n",
       "\n",
       "    .dataframe tbody tr th {\n",
       "        vertical-align: top;\n",
       "    }\n",
       "\n",
       "    .dataframe thead th {\n",
       "        text-align: right;\n",
       "    }\n",
       "</style>\n",
       "<table border=\"1\" class=\"dataframe\">\n",
       "  <thead>\n",
       "    <tr style=\"text-align: right;\">\n",
       "      <th></th>\n",
       "      <th>Certificate Holder ID</th>\n",
       "      <th>Certificate ID</th>\n",
       "      <th>Country</th>\n",
       "      <th>Certificate Type</th>\n",
       "      <th>Certificate end date</th>\n",
       "      <th>Certificate start date</th>\n",
       "      <th>Crop</th>\n",
       "      <th>Estimated harvested volume</th>\n",
       "      <th>Year Issued</th>\n",
       "      <th>Month Issued</th>\n",
       "      <th>Duration</th>\n",
       "      <th>Remaining Duration</th>\n",
       "      <th>Validity Category</th>\n",
       "    </tr>\n",
       "  </thead>\n",
       "  <tbody>\n",
       "    <tr>\n",
       "      <th>0</th>\n",
       "      <td>CH000371</td>\n",
       "      <td>LI5FD7A1</td>\n",
       "      <td>Country B</td>\n",
       "      <td>Multi Farm</td>\n",
       "      <td>2024-06-09</td>\n",
       "      <td>2023-06-09</td>\n",
       "      <td>Coffee</td>\n",
       "      <td>1,126,752.00</td>\n",
       "      <td>2023</td>\n",
       "      <td>2023-06</td>\n",
       "      <td>366 days</td>\n",
       "      <td>39</td>\n",
       "      <td>Close to Expiry</td>\n",
       "    </tr>\n",
       "    <tr>\n",
       "      <th>1</th>\n",
       "      <td>CH001623</td>\n",
       "      <td>LI39CBD9</td>\n",
       "      <td>Country B</td>\n",
       "      <td>Multi Farm</td>\n",
       "      <td>2023-04-01</td>\n",
       "      <td>2022-04-01</td>\n",
       "      <td>Coffee</td>\n",
       "      <td>1,250,892.00</td>\n",
       "      <td>2022</td>\n",
       "      <td>2022-04</td>\n",
       "      <td>365 days</td>\n",
       "      <td>-396</td>\n",
       "      <td>Expired</td>\n",
       "    </tr>\n",
       "    <tr>\n",
       "      <th>2</th>\n",
       "      <td>CH001623</td>\n",
       "      <td>LI5A0564</td>\n",
       "      <td>Country B</td>\n",
       "      <td>Multi Farm</td>\n",
       "      <td>2024-07-02</td>\n",
       "      <td>2023-04-02</td>\n",
       "      <td>Coffee</td>\n",
       "      <td>852,360.00</td>\n",
       "      <td>2023</td>\n",
       "      <td>2023-04</td>\n",
       "      <td>457 days</td>\n",
       "      <td>62</td>\n",
       "      <td>Valid</td>\n",
       "    </tr>\n",
       "    <tr>\n",
       "      <th>3</th>\n",
       "      <td>CH004BB5</td>\n",
       "      <td>LI42F47A</td>\n",
       "      <td>Country B</td>\n",
       "      <td>Group Of Mixed Farms</td>\n",
       "      <td>2023-05-15</td>\n",
       "      <td>2022-05-16</td>\n",
       "      <td>Coffee</td>\n",
       "      <td>1,034,720.00</td>\n",
       "      <td>2022</td>\n",
       "      <td>2022-05</td>\n",
       "      <td>364 days</td>\n",
       "      <td>-352</td>\n",
       "      <td>Expired</td>\n",
       "    </tr>\n",
       "    <tr>\n",
       "      <th>4</th>\n",
       "      <td>CH004BB5</td>\n",
       "      <td>LIAEA700</td>\n",
       "      <td>Country B</td>\n",
       "      <td>Multi Farm</td>\n",
       "      <td>2024-05-15</td>\n",
       "      <td>2023-05-16</td>\n",
       "      <td>Coffee</td>\n",
       "      <td>993,900.00</td>\n",
       "      <td>2023</td>\n",
       "      <td>2023-05</td>\n",
       "      <td>365 days</td>\n",
       "      <td>14</td>\n",
       "      <td>Expiring Soon</td>\n",
       "    </tr>\n",
       "  </tbody>\n",
       "</table>\n",
       "</div>"
      ],
      "text/plain": [
       "  Certificate Holder ID Certificate ID    Country      Certificate Type  \\\n",
       "0              CH000371       LI5FD7A1  Country B            Multi Farm   \n",
       "1              CH001623       LI39CBD9  Country B            Multi Farm   \n",
       "2              CH001623       LI5A0564  Country B            Multi Farm   \n",
       "3              CH004BB5       LI42F47A  Country B  Group Of Mixed Farms   \n",
       "4              CH004BB5       LIAEA700  Country B            Multi Farm   \n",
       "\n",
       "  Certificate end date Certificate start date    Crop  \\\n",
       "0           2024-06-09             2023-06-09  Coffee   \n",
       "1           2023-04-01             2022-04-01  Coffee   \n",
       "2           2024-07-02             2023-04-02  Coffee   \n",
       "3           2023-05-15             2022-05-16  Coffee   \n",
       "4           2024-05-15             2023-05-16  Coffee   \n",
       "\n",
       "   Estimated harvested volume  Year Issued Month Issued Duration  \\\n",
       "0                1,126,752.00         2023      2023-06 366 days   \n",
       "1                1,250,892.00         2022      2022-04 365 days   \n",
       "2                  852,360.00         2023      2023-04 457 days   \n",
       "3                1,034,720.00         2022      2022-05 364 days   \n",
       "4                  993,900.00         2023      2023-05 365 days   \n",
       "\n",
       "   Remaining Duration Validity Category  \n",
       "0                  39   Close to Expiry  \n",
       "1                -396           Expired  \n",
       "2                  62             Valid  \n",
       "3                -352           Expired  \n",
       "4                  14     Expiring Soon  "
      ]
     },
     "execution_count": 75,
     "metadata": {},
     "output_type": "execute_result"
    }
   ],
   "source": [
    "merged_data['Year Issued'] = merged_data['Certificate start date'].dt.year\n",
    "merged_data['Year Issued'].value_counts().sort_index()\n",
    "merged_data.head(5)"
   ]
  },
  {
   "cell_type": "markdown",
   "metadata": {},
   "source": [
    "#### 8: Most common country for certificate holders."
   ]
  },
  {
   "cell_type": "code",
   "execution_count": 76,
   "metadata": {},
   "outputs": [
    {
     "data": {
      "text/plain": [
       "'Country A'"
      ]
     },
     "execution_count": 76,
     "metadata": {},
     "output_type": "execute_result"
    }
   ],
   "source": [
    "certificate_holders['Country'].value_counts().idxmax()\n"
   ]
  },
  {
   "cell_type": "markdown",
   "metadata": {},
   "source": [
    "#### 9: Average certificate duration per type."
   ]
  },
  {
   "cell_type": "code",
   "execution_count": 78,
   "metadata": {},
   "outputs": [
    {
     "data": {
      "text/plain": [
       "Certificate Type\n",
       "Group Of Mixed Farms   363 days 22:46:31.836734692\n",
       "Group Of Small Farms   360 days 21:28:34.639175256\n",
       "Multi Farm             365 days 06:34:17.142857144\n",
       "Single Farm            365 days 14:01:17.419354840\n",
       "Single Site                      363 days 00:00:00\n",
       "Name: Duration, dtype: timedelta64[ns]"
      ]
     },
     "execution_count": 78,
     "metadata": {},
     "output_type": "execute_result"
    }
   ],
   "source": [
    "merged_data.groupby('Certificate Type')['Duration'].mean()\n"
   ]
  },
  {
   "cell_type": "markdown",
   "metadata": {},
   "source": [
    "#### 10: Maximum and minimum estimated volumes per crop."
   ]
  },
  {
   "cell_type": "code",
   "execution_count": 79,
   "metadata": {},
   "outputs": [
    {
     "data": {
      "text/html": [
       "<div>\n",
       "<style scoped>\n",
       "    .dataframe tbody tr th:only-of-type {\n",
       "        vertical-align: middle;\n",
       "    }\n",
       "\n",
       "    .dataframe tbody tr th {\n",
       "        vertical-align: top;\n",
       "    }\n",
       "\n",
       "    .dataframe thead th {\n",
       "        text-align: right;\n",
       "    }\n",
       "</style>\n",
       "<table border=\"1\" class=\"dataframe\">\n",
       "  <thead>\n",
       "    <tr style=\"text-align: right;\">\n",
       "      <th></th>\n",
       "      <th>min</th>\n",
       "      <th>max</th>\n",
       "    </tr>\n",
       "    <tr>\n",
       "      <th>Crop</th>\n",
       "      <th></th>\n",
       "      <th></th>\n",
       "    </tr>\n",
       "  </thead>\n",
       "  <tbody>\n",
       "    <tr>\n",
       "      <th>Cocoa</th>\n",
       "      <td>200.00</td>\n",
       "      <td>3,238,999.00</td>\n",
       "    </tr>\n",
       "    <tr>\n",
       "      <th>Coffee</th>\n",
       "      <td>0.80</td>\n",
       "      <td>49,039,389.00</td>\n",
       "    </tr>\n",
       "    <tr>\n",
       "      <th>Tea</th>\n",
       "      <td>16,421.68</td>\n",
       "      <td>18,163.86</td>\n",
       "    </tr>\n",
       "  </tbody>\n",
       "</table>\n",
       "</div>"
      ],
      "text/plain": [
       "             min           max\n",
       "Crop                          \n",
       "Cocoa     200.00  3,238,999.00\n",
       "Coffee      0.80 49,039,389.00\n",
       "Tea    16,421.68     18,163.86"
      ]
     },
     "execution_count": 79,
     "metadata": {},
     "output_type": "execute_result"
    }
   ],
   "source": [
    "volume_and_crops.groupby('Crop')['Estimated harvested volume'].agg(['min', 'max'])"
   ]
  },
  {
   "cell_type": "markdown",
   "metadata": {},
   "source": [
    "#### 11: Visualize volume distribution for a selected crop using histograms."
   ]
  },
  {
   "cell_type": "code",
   "execution_count": 80,
   "metadata": {},
   "outputs": [
    {
     "data": {
      "image/png": "[encoded data removed]",
      "text/plain": [
       "<Figure size 640x480 with 1 Axes>"
      ]
     },
     "metadata": {},
     "output_type": "display_data"
    }
   ],
   "source": [
    "volume_and_crops[volume_and_crops['Crop'] == 'Coffee']['Estimated harvested volume'].hist(bins=30)\n",
    "plt.title('Distribution of Harvested Coffee Volume')\n",
    "plt.xlabel('Volume')\n",
    "plt.ylabel('Frequency')\n",
    "plt.show()\n"
   ]
  },
  {
   "cell_type": "markdown",
   "metadata": {},
   "source": [
    "#### 12: Correlation matrix to find potential correlations in merged dataset."
   ]
  },
  {
   "cell_type": "code",
   "execution_count": 81,
   "metadata": {},
   "outputs": [
    {
     "name": "stdout",
     "output_type": "stream",
     "text": [
      "                            Estimated harvested volume  Year Issued  Duration  \\\n",
      "Estimated harvested volume                        1.00         0.02      0.07   \n",
      "Year Issued                                       0.02         1.00     -0.12   \n",
      "Duration                                          0.07        -0.12      1.00   \n",
      "Remaining Duration                                0.04         0.93      0.04   \n",
      "\n",
      "                            Remaining Duration  \n",
      "Estimated harvested volume                0.04  \n",
      "Year Issued                               0.93  \n",
      "Duration                                  0.04  \n",
      "Remaining Duration                        1.00  \n"
     ]
    }
   ],
   "source": [
    "numeric_cols = merged_data.select_dtypes(include=[np.number])\n",
    "correlation_matrix = numeric_cols.corr()\n",
    "print(correlation_matrix)"
   ]
  },
  {
   "cell_type": "markdown",
   "metadata": {},
   "source": [
    "#### 13: Map certificates by country (use count or sum of estimated volume)."
   ]
  },
  {
   "cell_type": "code",
   "execution_count": 84,
   "metadata": {},
   "outputs": [
    {
     "data": {
      "text/plain": [
       "Country\n",
       "Country A    253\n",
       "Country B    606\n",
       "Country C    213\n",
       "Country D     43\n",
       "dtype: int64"
      ]
     },
     "execution_count": 84,
     "metadata": {},
     "output_type": "execute_result"
    }
   ],
   "source": [
    "merged_data.groupby('Country').size()"
   ]
  },
  {
   "cell_type": "markdown",
   "metadata": {},
   "source": [
    "#### 14: Compare average volumes between different certificate types."
   ]
  },
  {
   "cell_type": "code",
   "execution_count": 85,
   "metadata": {},
   "outputs": [
    {
     "data": {
      "text/plain": [
       "Certificate Type\n",
       "Group Of Mixed Farms   3,443,470.57\n",
       "Group Of Small Farms   2,129,328.47\n",
       "Multi Farm             1,390,393.02\n",
       "Single Farm              549,133.44\n",
       "Single Site            1,222,900.80\n",
       "Name: Estimated harvested volume, dtype: float64"
      ]
     },
     "execution_count": 85,
     "metadata": {},
     "output_type": "execute_result"
    }
   ],
   "source": [
    "merged_data.groupby('Certificate Type')['Estimated harvested volume'].mean()"
   ]
  },
  {
   "cell_type": "markdown",
   "metadata": {},
   "source": [
    "#### 15: Check for any missing data in both datasets."
   ]
  },
  {
   "cell_type": "code",
   "execution_count": 87,
   "metadata": {},
   "outputs": [
    {
     "data": {
      "text/plain": [
       "Certificate Holder ID         0\n",
       "Certificate ID                0\n",
       "Country                       0\n",
       "Certificate Type              0\n",
       "Certificate end date          0\n",
       "Certificate start date        0\n",
       "Crop                          0\n",
       "Estimated harvested volume    0\n",
       "Year Issued                   0\n",
       "Month Issued                  0\n",
       "Duration                      0\n",
       "Remaining Duration            0\n",
       "Validity Category             0\n",
       "dtype: int64"
      ]
     },
     "execution_count": 87,
     "metadata": {},
     "output_type": "execute_result"
    }
   ],
   "source": [
    "merged_data.isnull().sum()"
   ]
  },
  {
   "cell_type": "markdown",
   "metadata": {},
   "source": [
    "#### 16: Number of unique certificate holders in each country."
   ]
  },
  {
   "cell_type": "code",
   "execution_count": 14,
   "metadata": {},
   "outputs": [
    {
     "data": {
      "text/plain": [
       "Country\n",
       "Country A    133\n",
       "Country B    360\n",
       "Country C    102\n",
       "Country D     18\n",
       "Name: Certificate Holder ID, dtype: int64"
      ]
     },
     "execution_count": 14,
     "metadata": {},
     "output_type": "execute_result"
    }
   ],
   "source": [
    "merged_data.groupby('Country')['Certificate Holder ID'].nunique()"
   ]
  }
 ],
 "metadata": {
  "kernelspec": {
   "display_name": "Python 3",
   "language": "python",
   "name": "python3"
  },
  "language_info": {
   "codemirror_mode": {
    "name": "ipython",
    "version": 3
   },
   "file_extension": ".py",
   "mimetype": "text/x-python",
   "name": "python",
   "nbconvert_exporter": "python",
   "pygments_lexer": "ipython3",
   "version": "3.12.1"
  }
 },
 "nbformat": 4,
 "nbformat_minor": 2
}
